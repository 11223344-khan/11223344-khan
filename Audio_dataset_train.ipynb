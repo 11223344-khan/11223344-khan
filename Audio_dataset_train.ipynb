{
  "cells": [
    {
      "cell_type": "markdown",
      "metadata": {
        "id": "view-in-github",
        "colab_type": "text"
      },
      "source": [
        "<a href=\"https://colab.research.google.com/github/11223344-khan/11223344-khan/blob/main/Audio_dataset_train.ipynb\" target=\"_parent\"><img src=\"https://colab.research.google.com/assets/colab-badge.svg\" alt=\"Open In Colab\"/></a>"
      ]
    },
    {
      "cell_type": "markdown",
      "metadata": {
        "id": "enweJgNiPm7n"
      },
      "source": [
        "# Important installations"
      ]
    },
    {
      "cell_type": "code",
      "execution_count": null,
      "metadata": {
        "colab": {
          "base_uri": "https://localhost:8080/"
        },
        "id": "ihrLelQ-uMZ5",
        "outputId": "f27e565b-ff11-40ba-bedd-c41f480d11b3"
      },
      "outputs": [
        {
          "output_type": "stream",
          "name": "stdout",
          "text": [
            "Requirement already satisfied: tensorflow in /usr/local/lib/python3.10/dist-packages (2.14.0)\n",
            "Requirement already satisfied: absl-py>=1.0.0 in /usr/local/lib/python3.10/dist-packages (from tensorflow) (1.4.0)\n",
            "Requirement already satisfied: astunparse>=1.6.0 in /usr/local/lib/python3.10/dist-packages (from tensorflow) (1.6.3)\n",
            "Requirement already satisfied: flatbuffers>=23.5.26 in /usr/local/lib/python3.10/dist-packages (from tensorflow) (23.5.26)\n",
            "Requirement already satisfied: gast!=0.5.0,!=0.5.1,!=0.5.2,>=0.2.1 in /usr/local/lib/python3.10/dist-packages (from tensorflow) (0.5.4)\n",
            "Requirement already satisfied: google-pasta>=0.1.1 in /usr/local/lib/python3.10/dist-packages (from tensorflow) (0.2.0)\n",
            "Requirement already satisfied: h5py>=2.9.0 in /usr/local/lib/python3.10/dist-packages (from tensorflow) (3.9.0)\n",
            "Requirement already satisfied: libclang>=13.0.0 in /usr/local/lib/python3.10/dist-packages (from tensorflow) (16.0.6)\n",
            "Requirement already satisfied: ml-dtypes==0.2.0 in /usr/local/lib/python3.10/dist-packages (from tensorflow) (0.2.0)\n",
            "Requirement already satisfied: numpy>=1.23.5 in /usr/local/lib/python3.10/dist-packages (from tensorflow) (1.23.5)\n",
            "Requirement already satisfied: opt-einsum>=2.3.2 in /usr/local/lib/python3.10/dist-packages (from tensorflow) (3.3.0)\n",
            "Requirement already satisfied: packaging in /usr/local/lib/python3.10/dist-packages (from tensorflow) (23.2)\n",
            "Requirement already satisfied: protobuf!=4.21.0,!=4.21.1,!=4.21.2,!=4.21.3,!=4.21.4,!=4.21.5,<5.0.0dev,>=3.20.3 in /usr/local/lib/python3.10/dist-packages (from tensorflow) (3.20.3)\n",
            "Requirement already satisfied: setuptools in /usr/local/lib/python3.10/dist-packages (from tensorflow) (67.7.2)\n",
            "Requirement already satisfied: six>=1.12.0 in /usr/local/lib/python3.10/dist-packages (from tensorflow) (1.16.0)\n",
            "Requirement already satisfied: termcolor>=1.1.0 in /usr/local/lib/python3.10/dist-packages (from tensorflow) (2.3.0)\n",
            "Requirement already satisfied: typing-extensions>=3.6.6 in /usr/local/lib/python3.10/dist-packages (from tensorflow) (4.5.0)\n",
            "Requirement already satisfied: wrapt<1.15,>=1.11.0 in /usr/local/lib/python3.10/dist-packages (from tensorflow) (1.14.1)\n",
            "Requirement already satisfied: tensorflow-io-gcs-filesystem>=0.23.1 in /usr/local/lib/python3.10/dist-packages (from tensorflow) (0.34.0)\n",
            "Requirement already satisfied: grpcio<2.0,>=1.24.3 in /usr/local/lib/python3.10/dist-packages (from tensorflow) (1.59.0)\n",
            "Requirement already satisfied: tensorboard<2.15,>=2.14 in /usr/local/lib/python3.10/dist-packages (from tensorflow) (2.14.1)\n",
            "Requirement already satisfied: tensorflow-estimator<2.15,>=2.14.0 in /usr/local/lib/python3.10/dist-packages (from tensorflow) (2.14.0)\n",
            "Requirement already satisfied: keras<2.15,>=2.14.0 in /usr/local/lib/python3.10/dist-packages (from tensorflow) (2.14.0)\n",
            "Requirement already satisfied: wheel<1.0,>=0.23.0 in /usr/local/lib/python3.10/dist-packages (from astunparse>=1.6.0->tensorflow) (0.41.2)\n",
            "Requirement already satisfied: google-auth<3,>=1.6.3 in /usr/local/lib/python3.10/dist-packages (from tensorboard<2.15,>=2.14->tensorflow) (2.17.3)\n",
            "Requirement already satisfied: google-auth-oauthlib<1.1,>=0.5 in /usr/local/lib/python3.10/dist-packages (from tensorboard<2.15,>=2.14->tensorflow) (1.0.0)\n",
            "Requirement already satisfied: markdown>=2.6.8 in /usr/local/lib/python3.10/dist-packages (from tensorboard<2.15,>=2.14->tensorflow) (3.5)\n",
            "Requirement already satisfied: requests<3,>=2.21.0 in /usr/local/lib/python3.10/dist-packages (from tensorboard<2.15,>=2.14->tensorflow) (2.31.0)\n",
            "Requirement already satisfied: tensorboard-data-server<0.8.0,>=0.7.0 in /usr/local/lib/python3.10/dist-packages (from tensorboard<2.15,>=2.14->tensorflow) (0.7.1)\n",
            "Requirement already satisfied: werkzeug>=1.0.1 in /usr/local/lib/python3.10/dist-packages (from tensorboard<2.15,>=2.14->tensorflow) (3.0.0)\n",
            "Requirement already satisfied: cachetools<6.0,>=2.0.0 in /usr/local/lib/python3.10/dist-packages (from google-auth<3,>=1.6.3->tensorboard<2.15,>=2.14->tensorflow) (5.3.1)\n",
            "Requirement already satisfied: pyasn1-modules>=0.2.1 in /usr/local/lib/python3.10/dist-packages (from google-auth<3,>=1.6.3->tensorboard<2.15,>=2.14->tensorflow) (0.3.0)\n",
            "Requirement already satisfied: rsa<5,>=3.1.4 in /usr/local/lib/python3.10/dist-packages (from google-auth<3,>=1.6.3->tensorboard<2.15,>=2.14->tensorflow) (4.9)\n",
            "Requirement already satisfied: requests-oauthlib>=0.7.0 in /usr/local/lib/python3.10/dist-packages (from google-auth-oauthlib<1.1,>=0.5->tensorboard<2.15,>=2.14->tensorflow) (1.3.1)\n",
            "Requirement already satisfied: charset-normalizer<4,>=2 in /usr/local/lib/python3.10/dist-packages (from requests<3,>=2.21.0->tensorboard<2.15,>=2.14->tensorflow) (3.3.0)\n",
            "Requirement already satisfied: idna<4,>=2.5 in /usr/local/lib/python3.10/dist-packages (from requests<3,>=2.21.0->tensorboard<2.15,>=2.14->tensorflow) (3.4)\n",
            "Requirement already satisfied: urllib3<3,>=1.21.1 in /usr/local/lib/python3.10/dist-packages (from requests<3,>=2.21.0->tensorboard<2.15,>=2.14->tensorflow) (2.0.7)\n",
            "Requirement already satisfied: certifi>=2017.4.17 in /usr/local/lib/python3.10/dist-packages (from requests<3,>=2.21.0->tensorboard<2.15,>=2.14->tensorflow) (2023.7.22)\n",
            "Requirement already satisfied: MarkupSafe>=2.1.1 in /usr/local/lib/python3.10/dist-packages (from werkzeug>=1.0.1->tensorboard<2.15,>=2.14->tensorflow) (2.1.3)\n",
            "Requirement already satisfied: pyasn1<0.6.0,>=0.4.6 in /usr/local/lib/python3.10/dist-packages (from pyasn1-modules>=0.2.1->google-auth<3,>=1.6.3->tensorboard<2.15,>=2.14->tensorflow) (0.5.0)\n",
            "Requirement already satisfied: oauthlib>=3.0.0 in /usr/local/lib/python3.10/dist-packages (from requests-oauthlib>=0.7.0->google-auth-oauthlib<1.1,>=0.5->tensorboard<2.15,>=2.14->tensorflow) (3.2.2)\n"
          ]
        }
      ],
      "source": [
        "! pip install tensorflow\n"
      ]
    },
    {
      "cell_type": "code",
      "execution_count": null,
      "metadata": {
        "colab": {
          "base_uri": "https://localhost:8080/"
        },
        "id": "PQ5JW_8bqGkh",
        "outputId": "1def44d3-e46c-493b-990c-b9bb76b00ae4"
      },
      "outputs": [
        {
          "output_type": "stream",
          "name": "stdout",
          "text": [
            "Requirement already satisfied: audiomentations in /usr/local/lib/python3.10/dist-packages (0.33.0)\n",
            "Requirement already satisfied: numpy>=1.18.0 in /usr/local/lib/python3.10/dist-packages (from audiomentations) (1.23.5)\n",
            "Requirement already satisfied: librosa!=0.10.0,<0.11.0,>=0.8.0 in /usr/local/lib/python3.10/dist-packages (from audiomentations) (0.10.1)\n",
            "Requirement already satisfied: scipy<2,>=1.4.0 in /usr/local/lib/python3.10/dist-packages (from audiomentations) (1.11.3)\n",
            "Requirement already satisfied: soxr<1.0.0,>=0.3.2 in /usr/local/lib/python3.10/dist-packages (from audiomentations) (0.3.7)\n",
            "Requirement already satisfied: audioread>=2.1.9 in /usr/local/lib/python3.10/dist-packages (from librosa!=0.10.0,<0.11.0,>=0.8.0->audiomentations) (3.0.1)\n",
            "Requirement already satisfied: scikit-learn>=0.20.0 in /usr/local/lib/python3.10/dist-packages (from librosa!=0.10.0,<0.11.0,>=0.8.0->audiomentations) (1.2.2)\n",
            "Requirement already satisfied: joblib>=0.14 in /usr/local/lib/python3.10/dist-packages (from librosa!=0.10.0,<0.11.0,>=0.8.0->audiomentations) (1.3.2)\n",
            "Requirement already satisfied: decorator>=4.3.0 in /usr/local/lib/python3.10/dist-packages (from librosa!=0.10.0,<0.11.0,>=0.8.0->audiomentations) (4.4.2)\n",
            "Requirement already satisfied: numba>=0.51.0 in /usr/local/lib/python3.10/dist-packages (from librosa!=0.10.0,<0.11.0,>=0.8.0->audiomentations) (0.56.4)\n",
            "Requirement already satisfied: soundfile>=0.12.1 in /usr/local/lib/python3.10/dist-packages (from librosa!=0.10.0,<0.11.0,>=0.8.0->audiomentations) (0.12.1)\n",
            "Requirement already satisfied: pooch>=1.0 in /usr/local/lib/python3.10/dist-packages (from librosa!=0.10.0,<0.11.0,>=0.8.0->audiomentations) (1.7.0)\n",
            "Requirement already satisfied: typing-extensions>=4.1.1 in /usr/local/lib/python3.10/dist-packages (from librosa!=0.10.0,<0.11.0,>=0.8.0->audiomentations) (4.5.0)\n",
            "Requirement already satisfied: lazy-loader>=0.1 in /usr/local/lib/python3.10/dist-packages (from librosa!=0.10.0,<0.11.0,>=0.8.0->audiomentations) (0.3)\n",
            "Requirement already satisfied: msgpack>=1.0 in /usr/local/lib/python3.10/dist-packages (from librosa!=0.10.0,<0.11.0,>=0.8.0->audiomentations) (1.0.7)\n",
            "Requirement already satisfied: llvmlite<0.40,>=0.39.0dev0 in /usr/local/lib/python3.10/dist-packages (from numba>=0.51.0->librosa!=0.10.0,<0.11.0,>=0.8.0->audiomentations) (0.39.1)\n",
            "Requirement already satisfied: setuptools in /usr/local/lib/python3.10/dist-packages (from numba>=0.51.0->librosa!=0.10.0,<0.11.0,>=0.8.0->audiomentations) (67.7.2)\n",
            "Requirement already satisfied: platformdirs>=2.5.0 in /usr/local/lib/python3.10/dist-packages (from pooch>=1.0->librosa!=0.10.0,<0.11.0,>=0.8.0->audiomentations) (3.11.0)\n",
            "Requirement already satisfied: packaging>=20.0 in /usr/local/lib/python3.10/dist-packages (from pooch>=1.0->librosa!=0.10.0,<0.11.0,>=0.8.0->audiomentations) (23.2)\n",
            "Requirement already satisfied: requests>=2.19.0 in /usr/local/lib/python3.10/dist-packages (from pooch>=1.0->librosa!=0.10.0,<0.11.0,>=0.8.0->audiomentations) (2.31.0)\n",
            "Requirement already satisfied: threadpoolctl>=2.0.0 in /usr/local/lib/python3.10/dist-packages (from scikit-learn>=0.20.0->librosa!=0.10.0,<0.11.0,>=0.8.0->audiomentations) (3.2.0)\n",
            "Requirement already satisfied: cffi>=1.0 in /usr/local/lib/python3.10/dist-packages (from soundfile>=0.12.1->librosa!=0.10.0,<0.11.0,>=0.8.0->audiomentations) (1.16.0)\n",
            "Requirement already satisfied: pycparser in /usr/local/lib/python3.10/dist-packages (from cffi>=1.0->soundfile>=0.12.1->librosa!=0.10.0,<0.11.0,>=0.8.0->audiomentations) (2.21)\n",
            "Requirement already satisfied: charset-normalizer<4,>=2 in /usr/local/lib/python3.10/dist-packages (from requests>=2.19.0->pooch>=1.0->librosa!=0.10.0,<0.11.0,>=0.8.0->audiomentations) (3.3.0)\n",
            "Requirement already satisfied: idna<4,>=2.5 in /usr/local/lib/python3.10/dist-packages (from requests>=2.19.0->pooch>=1.0->librosa!=0.10.0,<0.11.0,>=0.8.0->audiomentations) (3.4)\n",
            "Requirement already satisfied: urllib3<3,>=1.21.1 in /usr/local/lib/python3.10/dist-packages (from requests>=2.19.0->pooch>=1.0->librosa!=0.10.0,<0.11.0,>=0.8.0->audiomentations) (2.0.7)\n",
            "Requirement already satisfied: certifi>=2017.4.17 in /usr/local/lib/python3.10/dist-packages (from requests>=2.19.0->pooch>=1.0->librosa!=0.10.0,<0.11.0,>=0.8.0->audiomentations) (2023.7.22)\n"
          ]
        }
      ],
      "source": [
        "!pip install audiomentations"
      ]
    },
    {
      "cell_type": "code",
      "execution_count": null,
      "metadata": {
        "colab": {
          "base_uri": "https://localhost:8080/"
        },
        "id": "1z-LxUijrL9Z",
        "outputId": "884df0b4-f64d-4154-d550-5be22fdf8b7c"
      },
      "outputs": [
        {
          "output_type": "stream",
          "name": "stdout",
          "text": [
            "Requirement already satisfied: pydub in /usr/local/lib/python3.10/dist-packages (0.25.1)\n"
          ]
        }
      ],
      "source": [
        "!pip install pydub"
      ]
    },
    {
      "cell_type": "code",
      "execution_count": null,
      "metadata": {
        "colab": {
          "base_uri": "https://localhost:8080/"
        },
        "id": "qmgwBIJGvhX-",
        "outputId": "80b5d2dd-4cae-478f-d8bd-3eb9d08acadc"
      },
      "outputs": [
        {
          "output_type": "stream",
          "name": "stdout",
          "text": [
            "Requirement already satisfied: noisereduce in /usr/local/lib/python3.10/dist-packages (3.0.0)\n",
            "Requirement already satisfied: scipy in /usr/local/lib/python3.10/dist-packages (from noisereduce) (1.11.3)\n",
            "Requirement already satisfied: matplotlib in /usr/local/lib/python3.10/dist-packages (from noisereduce) (3.7.1)\n",
            "Requirement already satisfied: librosa in /usr/local/lib/python3.10/dist-packages (from noisereduce) (0.10.1)\n",
            "Requirement already satisfied: numpy in /usr/local/lib/python3.10/dist-packages (from noisereduce) (1.23.5)\n",
            "Requirement already satisfied: tqdm in /usr/local/lib/python3.10/dist-packages (from noisereduce) (4.66.1)\n",
            "Requirement already satisfied: audioread>=2.1.9 in /usr/local/lib/python3.10/dist-packages (from librosa->noisereduce) (3.0.1)\n",
            "Requirement already satisfied: scikit-learn>=0.20.0 in /usr/local/lib/python3.10/dist-packages (from librosa->noisereduce) (1.2.2)\n",
            "Requirement already satisfied: joblib>=0.14 in /usr/local/lib/python3.10/dist-packages (from librosa->noisereduce) (1.3.2)\n",
            "Requirement already satisfied: decorator>=4.3.0 in /usr/local/lib/python3.10/dist-packages (from librosa->noisereduce) (4.4.2)\n",
            "Requirement already satisfied: numba>=0.51.0 in /usr/local/lib/python3.10/dist-packages (from librosa->noisereduce) (0.56.4)\n",
            "Requirement already satisfied: soundfile>=0.12.1 in /usr/local/lib/python3.10/dist-packages (from librosa->noisereduce) (0.12.1)\n",
            "Requirement already satisfied: pooch>=1.0 in /usr/local/lib/python3.10/dist-packages (from librosa->noisereduce) (1.7.0)\n",
            "Requirement already satisfied: soxr>=0.3.2 in /usr/local/lib/python3.10/dist-packages (from librosa->noisereduce) (0.3.7)\n",
            "Requirement already satisfied: typing-extensions>=4.1.1 in /usr/local/lib/python3.10/dist-packages (from librosa->noisereduce) (4.5.0)\n",
            "Requirement already satisfied: lazy-loader>=0.1 in /usr/local/lib/python3.10/dist-packages (from librosa->noisereduce) (0.3)\n",
            "Requirement already satisfied: msgpack>=1.0 in /usr/local/lib/python3.10/dist-packages (from librosa->noisereduce) (1.0.7)\n",
            "Requirement already satisfied: contourpy>=1.0.1 in /usr/local/lib/python3.10/dist-packages (from matplotlib->noisereduce) (1.1.1)\n",
            "Requirement already satisfied: cycler>=0.10 in /usr/local/lib/python3.10/dist-packages (from matplotlib->noisereduce) (0.12.1)\n",
            "Requirement already satisfied: fonttools>=4.22.0 in /usr/local/lib/python3.10/dist-packages (from matplotlib->noisereduce) (4.43.1)\n",
            "Requirement already satisfied: kiwisolver>=1.0.1 in /usr/local/lib/python3.10/dist-packages (from matplotlib->noisereduce) (1.4.5)\n",
            "Requirement already satisfied: packaging>=20.0 in /usr/local/lib/python3.10/dist-packages (from matplotlib->noisereduce) (23.2)\n",
            "Requirement already satisfied: pillow>=6.2.0 in /usr/local/lib/python3.10/dist-packages (from matplotlib->noisereduce) (9.4.0)\n",
            "Requirement already satisfied: pyparsing>=2.3.1 in /usr/local/lib/python3.10/dist-packages (from matplotlib->noisereduce) (3.1.1)\n",
            "Requirement already satisfied: python-dateutil>=2.7 in /usr/local/lib/python3.10/dist-packages (from matplotlib->noisereduce) (2.8.2)\n",
            "Requirement already satisfied: llvmlite<0.40,>=0.39.0dev0 in /usr/local/lib/python3.10/dist-packages (from numba>=0.51.0->librosa->noisereduce) (0.39.1)\n",
            "Requirement already satisfied: setuptools in /usr/local/lib/python3.10/dist-packages (from numba>=0.51.0->librosa->noisereduce) (67.7.2)\n",
            "Requirement already satisfied: platformdirs>=2.5.0 in /usr/local/lib/python3.10/dist-packages (from pooch>=1.0->librosa->noisereduce) (3.11.0)\n",
            "Requirement already satisfied: requests>=2.19.0 in /usr/local/lib/python3.10/dist-packages (from pooch>=1.0->librosa->noisereduce) (2.31.0)\n",
            "Requirement already satisfied: six>=1.5 in /usr/local/lib/python3.10/dist-packages (from python-dateutil>=2.7->matplotlib->noisereduce) (1.16.0)\n",
            "Requirement already satisfied: threadpoolctl>=2.0.0 in /usr/local/lib/python3.10/dist-packages (from scikit-learn>=0.20.0->librosa->noisereduce) (3.2.0)\n",
            "Requirement already satisfied: cffi>=1.0 in /usr/local/lib/python3.10/dist-packages (from soundfile>=0.12.1->librosa->noisereduce) (1.16.0)\n",
            "Requirement already satisfied: pycparser in /usr/local/lib/python3.10/dist-packages (from cffi>=1.0->soundfile>=0.12.1->librosa->noisereduce) (2.21)\n",
            "Requirement already satisfied: charset-normalizer<4,>=2 in /usr/local/lib/python3.10/dist-packages (from requests>=2.19.0->pooch>=1.0->librosa->noisereduce) (3.3.0)\n",
            "Requirement already satisfied: idna<4,>=2.5 in /usr/local/lib/python3.10/dist-packages (from requests>=2.19.0->pooch>=1.0->librosa->noisereduce) (3.4)\n",
            "Requirement already satisfied: urllib3<3,>=1.21.1 in /usr/local/lib/python3.10/dist-packages (from requests>=2.19.0->pooch>=1.0->librosa->noisereduce) (2.0.7)\n",
            "Requirement already satisfied: certifi>=2017.4.17 in /usr/local/lib/python3.10/dist-packages (from requests>=2.19.0->pooch>=1.0->librosa->noisereduce) (2023.7.22)\n"
          ]
        }
      ],
      "source": [
        "! pip  install noisereduce"
      ]
    },
    {
      "cell_type": "code",
      "source": [
        "!pip install ipympl"
      ],
      "metadata": {
        "colab": {
          "base_uri": "https://localhost:8080/"
        },
        "id": "7QQNiOjJq6-k",
        "outputId": "462c06a1-41b7-480f-f182-b85e537ac396"
      },
      "execution_count": null,
      "outputs": [
        {
          "output_type": "stream",
          "name": "stdout",
          "text": [
            "Requirement already satisfied: ipympl in /usr/local/lib/python3.10/dist-packages (0.9.3)\n",
            "Requirement already satisfied: ipython<9 in /usr/local/lib/python3.10/dist-packages (from ipympl) (7.34.0)\n",
            "Requirement already satisfied: numpy in /usr/local/lib/python3.10/dist-packages (from ipympl) (1.23.5)\n",
            "Requirement already satisfied: ipython-genutils in /usr/local/lib/python3.10/dist-packages (from ipympl) (0.2.0)\n",
            "Requirement already satisfied: pillow in /usr/local/lib/python3.10/dist-packages (from ipympl) (9.4.0)\n",
            "Requirement already satisfied: traitlets<6 in /usr/local/lib/python3.10/dist-packages (from ipympl) (5.7.1)\n",
            "Requirement already satisfied: ipywidgets<9,>=7.6.0 in /usr/local/lib/python3.10/dist-packages (from ipympl) (7.7.1)\n",
            "Requirement already satisfied: matplotlib<4,>=3.4.0 in /usr/local/lib/python3.10/dist-packages (from ipympl) (3.7.1)\n",
            "Requirement already satisfied: setuptools>=18.5 in /usr/local/lib/python3.10/dist-packages (from ipython<9->ipympl) (67.7.2)\n",
            "Requirement already satisfied: jedi>=0.16 in /usr/local/lib/python3.10/dist-packages (from ipython<9->ipympl) (0.19.1)\n",
            "Requirement already satisfied: decorator in /usr/local/lib/python3.10/dist-packages (from ipython<9->ipympl) (4.4.2)\n",
            "Requirement already satisfied: pickleshare in /usr/local/lib/python3.10/dist-packages (from ipython<9->ipympl) (0.7.5)\n",
            "Requirement already satisfied: prompt-toolkit!=3.0.0,!=3.0.1,<3.1.0,>=2.0.0 in /usr/local/lib/python3.10/dist-packages (from ipython<9->ipympl) (3.0.39)\n",
            "Requirement already satisfied: pygments in /usr/local/lib/python3.10/dist-packages (from ipython<9->ipympl) (2.16.1)\n",
            "Requirement already satisfied: backcall in /usr/local/lib/python3.10/dist-packages (from ipython<9->ipympl) (0.2.0)\n",
            "Requirement already satisfied: matplotlib-inline in /usr/local/lib/python3.10/dist-packages (from ipython<9->ipympl) (0.1.6)\n",
            "Requirement already satisfied: pexpect>4.3 in /usr/local/lib/python3.10/dist-packages (from ipython<9->ipympl) (4.8.0)\n",
            "Requirement already satisfied: ipykernel>=4.5.1 in /usr/local/lib/python3.10/dist-packages (from ipywidgets<9,>=7.6.0->ipympl) (5.5.6)\n",
            "Requirement already satisfied: widgetsnbextension~=3.6.0 in /usr/local/lib/python3.10/dist-packages (from ipywidgets<9,>=7.6.0->ipympl) (3.6.6)\n",
            "Requirement already satisfied: jupyterlab-widgets>=1.0.0 in /usr/local/lib/python3.10/dist-packages (from ipywidgets<9,>=7.6.0->ipympl) (3.0.9)\n",
            "Requirement already satisfied: contourpy>=1.0.1 in /usr/local/lib/python3.10/dist-packages (from matplotlib<4,>=3.4.0->ipympl) (1.1.1)\n",
            "Requirement already satisfied: cycler>=0.10 in /usr/local/lib/python3.10/dist-packages (from matplotlib<4,>=3.4.0->ipympl) (0.12.1)\n",
            "Requirement already satisfied: fonttools>=4.22.0 in /usr/local/lib/python3.10/dist-packages (from matplotlib<4,>=3.4.0->ipympl) (4.43.1)\n",
            "Requirement already satisfied: kiwisolver>=1.0.1 in /usr/local/lib/python3.10/dist-packages (from matplotlib<4,>=3.4.0->ipympl) (1.4.5)\n",
            "Requirement already satisfied: packaging>=20.0 in /usr/local/lib/python3.10/dist-packages (from matplotlib<4,>=3.4.0->ipympl) (23.2)\n",
            "Requirement already satisfied: pyparsing>=2.3.1 in /usr/local/lib/python3.10/dist-packages (from matplotlib<4,>=3.4.0->ipympl) (3.1.1)\n",
            "Requirement already satisfied: python-dateutil>=2.7 in /usr/local/lib/python3.10/dist-packages (from matplotlib<4,>=3.4.0->ipympl) (2.8.2)\n",
            "Requirement already satisfied: jupyter-client in /usr/local/lib/python3.10/dist-packages (from ipykernel>=4.5.1->ipywidgets<9,>=7.6.0->ipympl) (6.1.12)\n",
            "Requirement already satisfied: tornado>=4.2 in /usr/local/lib/python3.10/dist-packages (from ipykernel>=4.5.1->ipywidgets<9,>=7.6.0->ipympl) (6.3.2)\n",
            "Requirement already satisfied: parso<0.9.0,>=0.8.3 in /usr/local/lib/python3.10/dist-packages (from jedi>=0.16->ipython<9->ipympl) (0.8.3)\n",
            "Requirement already satisfied: ptyprocess>=0.5 in /usr/local/lib/python3.10/dist-packages (from pexpect>4.3->ipython<9->ipympl) (0.7.0)\n",
            "Requirement already satisfied: wcwidth in /usr/local/lib/python3.10/dist-packages (from prompt-toolkit!=3.0.0,!=3.0.1,<3.1.0,>=2.0.0->ipython<9->ipympl) (0.2.8)\n",
            "Requirement already satisfied: six>=1.5 in /usr/local/lib/python3.10/dist-packages (from python-dateutil>=2.7->matplotlib<4,>=3.4.0->ipympl) (1.16.0)\n",
            "Requirement already satisfied: notebook>=4.4.1 in /usr/local/lib/python3.10/dist-packages (from widgetsnbextension~=3.6.0->ipywidgets<9,>=7.6.0->ipympl) (6.5.5)\n",
            "Requirement already satisfied: jinja2 in /usr/local/lib/python3.10/dist-packages (from notebook>=4.4.1->widgetsnbextension~=3.6.0->ipywidgets<9,>=7.6.0->ipympl) (3.1.2)\n",
            "Requirement already satisfied: pyzmq<25,>=17 in /usr/local/lib/python3.10/dist-packages (from notebook>=4.4.1->widgetsnbextension~=3.6.0->ipywidgets<9,>=7.6.0->ipympl) (23.2.1)\n",
            "Requirement already satisfied: argon2-cffi in /usr/local/lib/python3.10/dist-packages (from notebook>=4.4.1->widgetsnbextension~=3.6.0->ipywidgets<9,>=7.6.0->ipympl) (23.1.0)\n",
            "Requirement already satisfied: jupyter-core>=4.6.1 in /usr/local/lib/python3.10/dist-packages (from notebook>=4.4.1->widgetsnbextension~=3.6.0->ipywidgets<9,>=7.6.0->ipympl) (5.4.0)\n",
            "Requirement already satisfied: nbformat in /usr/local/lib/python3.10/dist-packages (from notebook>=4.4.1->widgetsnbextension~=3.6.0->ipywidgets<9,>=7.6.0->ipympl) (5.9.2)\n",
            "Requirement already satisfied: nbconvert>=5 in /usr/local/lib/python3.10/dist-packages (from notebook>=4.4.1->widgetsnbextension~=3.6.0->ipywidgets<9,>=7.6.0->ipympl) (6.5.4)\n",
            "Requirement already satisfied: nest-asyncio>=1.5 in /usr/local/lib/python3.10/dist-packages (from notebook>=4.4.1->widgetsnbextension~=3.6.0->ipywidgets<9,>=7.6.0->ipympl) (1.5.8)\n",
            "Requirement already satisfied: Send2Trash>=1.8.0 in /usr/local/lib/python3.10/dist-packages (from notebook>=4.4.1->widgetsnbextension~=3.6.0->ipywidgets<9,>=7.6.0->ipympl) (1.8.2)\n",
            "Requirement already satisfied: terminado>=0.8.3 in /usr/local/lib/python3.10/dist-packages (from notebook>=4.4.1->widgetsnbextension~=3.6.0->ipywidgets<9,>=7.6.0->ipympl) (0.17.1)\n",
            "Requirement already satisfied: prometheus-client in /usr/local/lib/python3.10/dist-packages (from notebook>=4.4.1->widgetsnbextension~=3.6.0->ipywidgets<9,>=7.6.0->ipympl) (0.17.1)\n",
            "Requirement already satisfied: nbclassic>=0.4.7 in /usr/local/lib/python3.10/dist-packages (from notebook>=4.4.1->widgetsnbextension~=3.6.0->ipywidgets<9,>=7.6.0->ipympl) (1.0.0)\n",
            "Requirement already satisfied: platformdirs>=2.5 in /usr/local/lib/python3.10/dist-packages (from jupyter-core>=4.6.1->notebook>=4.4.1->widgetsnbextension~=3.6.0->ipywidgets<9,>=7.6.0->ipympl) (3.11.0)\n",
            "Requirement already satisfied: jupyter-server>=1.8 in /usr/local/lib/python3.10/dist-packages (from nbclassic>=0.4.7->notebook>=4.4.1->widgetsnbextension~=3.6.0->ipywidgets<9,>=7.6.0->ipympl) (1.24.0)\n",
            "Requirement already satisfied: notebook-shim>=0.2.3 in /usr/local/lib/python3.10/dist-packages (from nbclassic>=0.4.7->notebook>=4.4.1->widgetsnbextension~=3.6.0->ipywidgets<9,>=7.6.0->ipympl) (0.2.3)\n",
            "Requirement already satisfied: lxml in /usr/local/lib/python3.10/dist-packages (from nbconvert>=5->notebook>=4.4.1->widgetsnbextension~=3.6.0->ipywidgets<9,>=7.6.0->ipympl) (4.9.3)\n",
            "Requirement already satisfied: beautifulsoup4 in /usr/local/lib/python3.10/dist-packages (from nbconvert>=5->notebook>=4.4.1->widgetsnbextension~=3.6.0->ipywidgets<9,>=7.6.0->ipympl) (4.11.2)\n",
            "Requirement already satisfied: bleach in /usr/local/lib/python3.10/dist-packages (from nbconvert>=5->notebook>=4.4.1->widgetsnbextension~=3.6.0->ipywidgets<9,>=7.6.0->ipympl) (6.1.0)\n",
            "Requirement already satisfied: defusedxml in /usr/local/lib/python3.10/dist-packages (from nbconvert>=5->notebook>=4.4.1->widgetsnbextension~=3.6.0->ipywidgets<9,>=7.6.0->ipympl) (0.7.1)\n",
            "Requirement already satisfied: entrypoints>=0.2.2 in /usr/local/lib/python3.10/dist-packages (from nbconvert>=5->notebook>=4.4.1->widgetsnbextension~=3.6.0->ipywidgets<9,>=7.6.0->ipympl) (0.4)\n",
            "Requirement already satisfied: jupyterlab-pygments in /usr/local/lib/python3.10/dist-packages (from nbconvert>=5->notebook>=4.4.1->widgetsnbextension~=3.6.0->ipywidgets<9,>=7.6.0->ipympl) (0.2.2)\n",
            "Requirement already satisfied: MarkupSafe>=2.0 in /usr/local/lib/python3.10/dist-packages (from nbconvert>=5->notebook>=4.4.1->widgetsnbextension~=3.6.0->ipywidgets<9,>=7.6.0->ipympl) (2.1.3)\n",
            "Requirement already satisfied: mistune<2,>=0.8.1 in /usr/local/lib/python3.10/dist-packages (from nbconvert>=5->notebook>=4.4.1->widgetsnbextension~=3.6.0->ipywidgets<9,>=7.6.0->ipympl) (0.8.4)\n",
            "Requirement already satisfied: nbclient>=0.5.0 in /usr/local/lib/python3.10/dist-packages (from nbconvert>=5->notebook>=4.4.1->widgetsnbextension~=3.6.0->ipywidgets<9,>=7.6.0->ipympl) (0.8.0)\n",
            "Requirement already satisfied: pandocfilters>=1.4.1 in /usr/local/lib/python3.10/dist-packages (from nbconvert>=5->notebook>=4.4.1->widgetsnbextension~=3.6.0->ipywidgets<9,>=7.6.0->ipympl) (1.5.0)\n",
            "Requirement already satisfied: tinycss2 in /usr/local/lib/python3.10/dist-packages (from nbconvert>=5->notebook>=4.4.1->widgetsnbextension~=3.6.0->ipywidgets<9,>=7.6.0->ipympl) (1.2.1)\n",
            "Requirement already satisfied: fastjsonschema in /usr/local/lib/python3.10/dist-packages (from nbformat->notebook>=4.4.1->widgetsnbextension~=3.6.0->ipywidgets<9,>=7.6.0->ipympl) (2.18.1)\n",
            "Requirement already satisfied: jsonschema>=2.6 in /usr/local/lib/python3.10/dist-packages (from nbformat->notebook>=4.4.1->widgetsnbextension~=3.6.0->ipywidgets<9,>=7.6.0->ipympl) (4.19.1)\n",
            "Requirement already satisfied: argon2-cffi-bindings in /usr/local/lib/python3.10/dist-packages (from argon2-cffi->notebook>=4.4.1->widgetsnbextension~=3.6.0->ipywidgets<9,>=7.6.0->ipympl) (21.2.0)\n",
            "Requirement already satisfied: attrs>=22.2.0 in /usr/local/lib/python3.10/dist-packages (from jsonschema>=2.6->nbformat->notebook>=4.4.1->widgetsnbextension~=3.6.0->ipywidgets<9,>=7.6.0->ipympl) (23.1.0)\n",
            "Requirement already satisfied: jsonschema-specifications>=2023.03.6 in /usr/local/lib/python3.10/dist-packages (from jsonschema>=2.6->nbformat->notebook>=4.4.1->widgetsnbextension~=3.6.0->ipywidgets<9,>=7.6.0->ipympl) (2023.7.1)\n",
            "Requirement already satisfied: referencing>=0.28.4 in /usr/local/lib/python3.10/dist-packages (from jsonschema>=2.6->nbformat->notebook>=4.4.1->widgetsnbextension~=3.6.0->ipywidgets<9,>=7.6.0->ipympl) (0.30.2)\n",
            "Requirement already satisfied: rpds-py>=0.7.1 in /usr/local/lib/python3.10/dist-packages (from jsonschema>=2.6->nbformat->notebook>=4.4.1->widgetsnbextension~=3.6.0->ipywidgets<9,>=7.6.0->ipympl) (0.10.6)\n",
            "Requirement already satisfied: anyio<4,>=3.1.0 in /usr/local/lib/python3.10/dist-packages (from jupyter-server>=1.8->nbclassic>=0.4.7->notebook>=4.4.1->widgetsnbextension~=3.6.0->ipywidgets<9,>=7.6.0->ipympl) (3.7.1)\n",
            "Requirement already satisfied: websocket-client in /usr/local/lib/python3.10/dist-packages (from jupyter-server>=1.8->nbclassic>=0.4.7->notebook>=4.4.1->widgetsnbextension~=3.6.0->ipywidgets<9,>=7.6.0->ipympl) (1.6.4)\n",
            "Requirement already satisfied: cffi>=1.0.1 in /usr/local/lib/python3.10/dist-packages (from argon2-cffi-bindings->argon2-cffi->notebook>=4.4.1->widgetsnbextension~=3.6.0->ipywidgets<9,>=7.6.0->ipympl) (1.16.0)\n",
            "Requirement already satisfied: soupsieve>1.2 in /usr/local/lib/python3.10/dist-packages (from beautifulsoup4->nbconvert>=5->notebook>=4.4.1->widgetsnbextension~=3.6.0->ipywidgets<9,>=7.6.0->ipympl) (2.5)\n",
            "Requirement already satisfied: webencodings in /usr/local/lib/python3.10/dist-packages (from bleach->nbconvert>=5->notebook>=4.4.1->widgetsnbextension~=3.6.0->ipywidgets<9,>=7.6.0->ipympl) (0.5.1)\n",
            "Requirement already satisfied: idna>=2.8 in /usr/local/lib/python3.10/dist-packages (from anyio<4,>=3.1.0->jupyter-server>=1.8->nbclassic>=0.4.7->notebook>=4.4.1->widgetsnbextension~=3.6.0->ipywidgets<9,>=7.6.0->ipympl) (3.4)\n",
            "Requirement already satisfied: sniffio>=1.1 in /usr/local/lib/python3.10/dist-packages (from anyio<4,>=3.1.0->jupyter-server>=1.8->nbclassic>=0.4.7->notebook>=4.4.1->widgetsnbextension~=3.6.0->ipywidgets<9,>=7.6.0->ipympl) (1.3.0)\n",
            "Requirement already satisfied: exceptiongroup in /usr/local/lib/python3.10/dist-packages (from anyio<4,>=3.1.0->jupyter-server>=1.8->nbclassic>=0.4.7->notebook>=4.4.1->widgetsnbextension~=3.6.0->ipywidgets<9,>=7.6.0->ipympl) (1.1.3)\n",
            "Requirement already satisfied: pycparser in /usr/local/lib/python3.10/dist-packages (from cffi>=1.0.1->argon2-cffi-bindings->argon2-cffi->notebook>=4.4.1->widgetsnbextension~=3.6.0->ipywidgets<9,>=7.6.0->ipympl) (2.21)\n"
          ]
        }
      ]
    },
    {
      "cell_type": "code",
      "source": [
        "!pip install ipywidgets"
      ],
      "metadata": {
        "colab": {
          "base_uri": "https://localhost:8080/"
        },
        "id": "PBWIbvma3C0_",
        "outputId": "0288e5b4-6f4e-4391-b535-2ebbe29b5fd3"
      },
      "execution_count": null,
      "outputs": [
        {
          "output_type": "stream",
          "name": "stdout",
          "text": [
            "Requirement already satisfied: ipywidgets in /usr/local/lib/python3.10/dist-packages (7.7.1)\n",
            "Requirement already satisfied: ipykernel>=4.5.1 in /usr/local/lib/python3.10/dist-packages (from ipywidgets) (5.5.6)\n",
            "Requirement already satisfied: ipython-genutils~=0.2.0 in /usr/local/lib/python3.10/dist-packages (from ipywidgets) (0.2.0)\n",
            "Requirement already satisfied: traitlets>=4.3.1 in /usr/local/lib/python3.10/dist-packages (from ipywidgets) (5.7.1)\n",
            "Requirement already satisfied: widgetsnbextension~=3.6.0 in /usr/local/lib/python3.10/dist-packages (from ipywidgets) (3.6.6)\n",
            "Requirement already satisfied: ipython>=4.0.0 in /usr/local/lib/python3.10/dist-packages (from ipywidgets) (7.34.0)\n",
            "Requirement already satisfied: jupyterlab-widgets>=1.0.0 in /usr/local/lib/python3.10/dist-packages (from ipywidgets) (3.0.9)\n",
            "Requirement already satisfied: jupyter-client in /usr/local/lib/python3.10/dist-packages (from ipykernel>=4.5.1->ipywidgets) (6.1.12)\n",
            "Requirement already satisfied: tornado>=4.2 in /usr/local/lib/python3.10/dist-packages (from ipykernel>=4.5.1->ipywidgets) (6.3.2)\n",
            "Requirement already satisfied: setuptools>=18.5 in /usr/local/lib/python3.10/dist-packages (from ipython>=4.0.0->ipywidgets) (67.7.2)\n",
            "Requirement already satisfied: jedi>=0.16 in /usr/local/lib/python3.10/dist-packages (from ipython>=4.0.0->ipywidgets) (0.19.1)\n",
            "Requirement already satisfied: decorator in /usr/local/lib/python3.10/dist-packages (from ipython>=4.0.0->ipywidgets) (4.4.2)\n",
            "Requirement already satisfied: pickleshare in /usr/local/lib/python3.10/dist-packages (from ipython>=4.0.0->ipywidgets) (0.7.5)\n",
            "Requirement already satisfied: prompt-toolkit!=3.0.0,!=3.0.1,<3.1.0,>=2.0.0 in /usr/local/lib/python3.10/dist-packages (from ipython>=4.0.0->ipywidgets) (3.0.39)\n",
            "Requirement already satisfied: pygments in /usr/local/lib/python3.10/dist-packages (from ipython>=4.0.0->ipywidgets) (2.16.1)\n",
            "Requirement already satisfied: backcall in /usr/local/lib/python3.10/dist-packages (from ipython>=4.0.0->ipywidgets) (0.2.0)\n",
            "Requirement already satisfied: matplotlib-inline in /usr/local/lib/python3.10/dist-packages (from ipython>=4.0.0->ipywidgets) (0.1.6)\n",
            "Requirement already satisfied: pexpect>4.3 in /usr/local/lib/python3.10/dist-packages (from ipython>=4.0.0->ipywidgets) (4.8.0)\n",
            "Requirement already satisfied: notebook>=4.4.1 in /usr/local/lib/python3.10/dist-packages (from widgetsnbextension~=3.6.0->ipywidgets) (6.5.5)\n",
            "Requirement already satisfied: parso<0.9.0,>=0.8.3 in /usr/local/lib/python3.10/dist-packages (from jedi>=0.16->ipython>=4.0.0->ipywidgets) (0.8.3)\n",
            "Requirement already satisfied: jinja2 in /usr/local/lib/python3.10/dist-packages (from notebook>=4.4.1->widgetsnbextension~=3.6.0->ipywidgets) (3.1.2)\n",
            "Requirement already satisfied: pyzmq<25,>=17 in /usr/local/lib/python3.10/dist-packages (from notebook>=4.4.1->widgetsnbextension~=3.6.0->ipywidgets) (23.2.1)\n",
            "Requirement already satisfied: argon2-cffi in /usr/local/lib/python3.10/dist-packages (from notebook>=4.4.1->widgetsnbextension~=3.6.0->ipywidgets) (23.1.0)\n",
            "Requirement already satisfied: jupyter-core>=4.6.1 in /usr/local/lib/python3.10/dist-packages (from notebook>=4.4.1->widgetsnbextension~=3.6.0->ipywidgets) (5.4.0)\n",
            "Requirement already satisfied: nbformat in /usr/local/lib/python3.10/dist-packages (from notebook>=4.4.1->widgetsnbextension~=3.6.0->ipywidgets) (5.9.2)\n",
            "Requirement already satisfied: nbconvert>=5 in /usr/local/lib/python3.10/dist-packages (from notebook>=4.4.1->widgetsnbextension~=3.6.0->ipywidgets) (6.5.4)\n",
            "Requirement already satisfied: nest-asyncio>=1.5 in /usr/local/lib/python3.10/dist-packages (from notebook>=4.4.1->widgetsnbextension~=3.6.0->ipywidgets) (1.5.8)\n",
            "Requirement already satisfied: Send2Trash>=1.8.0 in /usr/local/lib/python3.10/dist-packages (from notebook>=4.4.1->widgetsnbextension~=3.6.0->ipywidgets) (1.8.2)\n",
            "Requirement already satisfied: terminado>=0.8.3 in /usr/local/lib/python3.10/dist-packages (from notebook>=4.4.1->widgetsnbextension~=3.6.0->ipywidgets) (0.17.1)\n",
            "Requirement already satisfied: prometheus-client in /usr/local/lib/python3.10/dist-packages (from notebook>=4.4.1->widgetsnbextension~=3.6.0->ipywidgets) (0.17.1)\n",
            "Requirement already satisfied: nbclassic>=0.4.7 in /usr/local/lib/python3.10/dist-packages (from notebook>=4.4.1->widgetsnbextension~=3.6.0->ipywidgets) (1.0.0)\n",
            "Requirement already satisfied: python-dateutil>=2.1 in /usr/local/lib/python3.10/dist-packages (from jupyter-client->ipykernel>=4.5.1->ipywidgets) (2.8.2)\n",
            "Requirement already satisfied: ptyprocess>=0.5 in /usr/local/lib/python3.10/dist-packages (from pexpect>4.3->ipython>=4.0.0->ipywidgets) (0.7.0)\n",
            "Requirement already satisfied: wcwidth in /usr/local/lib/python3.10/dist-packages (from prompt-toolkit!=3.0.0,!=3.0.1,<3.1.0,>=2.0.0->ipython>=4.0.0->ipywidgets) (0.2.8)\n",
            "Requirement already satisfied: platformdirs>=2.5 in /usr/local/lib/python3.10/dist-packages (from jupyter-core>=4.6.1->notebook>=4.4.1->widgetsnbextension~=3.6.0->ipywidgets) (3.11.0)\n",
            "Requirement already satisfied: jupyter-server>=1.8 in /usr/local/lib/python3.10/dist-packages (from nbclassic>=0.4.7->notebook>=4.4.1->widgetsnbextension~=3.6.0->ipywidgets) (1.24.0)\n",
            "Requirement already satisfied: notebook-shim>=0.2.3 in /usr/local/lib/python3.10/dist-packages (from nbclassic>=0.4.7->notebook>=4.4.1->widgetsnbextension~=3.6.0->ipywidgets) (0.2.3)\n",
            "Requirement already satisfied: lxml in /usr/local/lib/python3.10/dist-packages (from nbconvert>=5->notebook>=4.4.1->widgetsnbextension~=3.6.0->ipywidgets) (4.9.3)\n",
            "Requirement already satisfied: beautifulsoup4 in /usr/local/lib/python3.10/dist-packages (from nbconvert>=5->notebook>=4.4.1->widgetsnbextension~=3.6.0->ipywidgets) (4.11.2)\n",
            "Requirement already satisfied: bleach in /usr/local/lib/python3.10/dist-packages (from nbconvert>=5->notebook>=4.4.1->widgetsnbextension~=3.6.0->ipywidgets) (6.1.0)\n",
            "Requirement already satisfied: defusedxml in /usr/local/lib/python3.10/dist-packages (from nbconvert>=5->notebook>=4.4.1->widgetsnbextension~=3.6.0->ipywidgets) (0.7.1)\n",
            "Requirement already satisfied: entrypoints>=0.2.2 in /usr/local/lib/python3.10/dist-packages (from nbconvert>=5->notebook>=4.4.1->widgetsnbextension~=3.6.0->ipywidgets) (0.4)\n",
            "Requirement already satisfied: jupyterlab-pygments in /usr/local/lib/python3.10/dist-packages (from nbconvert>=5->notebook>=4.4.1->widgetsnbextension~=3.6.0->ipywidgets) (0.2.2)\n",
            "Requirement already satisfied: MarkupSafe>=2.0 in /usr/local/lib/python3.10/dist-packages (from nbconvert>=5->notebook>=4.4.1->widgetsnbextension~=3.6.0->ipywidgets) (2.1.3)\n",
            "Requirement already satisfied: mistune<2,>=0.8.1 in /usr/local/lib/python3.10/dist-packages (from nbconvert>=5->notebook>=4.4.1->widgetsnbextension~=3.6.0->ipywidgets) (0.8.4)\n",
            "Requirement already satisfied: nbclient>=0.5.0 in /usr/local/lib/python3.10/dist-packages (from nbconvert>=5->notebook>=4.4.1->widgetsnbextension~=3.6.0->ipywidgets) (0.8.0)\n",
            "Requirement already satisfied: packaging in /usr/local/lib/python3.10/dist-packages (from nbconvert>=5->notebook>=4.4.1->widgetsnbextension~=3.6.0->ipywidgets) (23.2)\n",
            "Requirement already satisfied: pandocfilters>=1.4.1 in /usr/local/lib/python3.10/dist-packages (from nbconvert>=5->notebook>=4.4.1->widgetsnbextension~=3.6.0->ipywidgets) (1.5.0)\n",
            "Requirement already satisfied: tinycss2 in /usr/local/lib/python3.10/dist-packages (from nbconvert>=5->notebook>=4.4.1->widgetsnbextension~=3.6.0->ipywidgets) (1.2.1)\n",
            "Requirement already satisfied: fastjsonschema in /usr/local/lib/python3.10/dist-packages (from nbformat->notebook>=4.4.1->widgetsnbextension~=3.6.0->ipywidgets) (2.18.1)\n",
            "Requirement already satisfied: jsonschema>=2.6 in /usr/local/lib/python3.10/dist-packages (from nbformat->notebook>=4.4.1->widgetsnbextension~=3.6.0->ipywidgets) (4.19.1)\n",
            "Requirement already satisfied: six>=1.5 in /usr/local/lib/python3.10/dist-packages (from python-dateutil>=2.1->jupyter-client->ipykernel>=4.5.1->ipywidgets) (1.16.0)\n",
            "Requirement already satisfied: argon2-cffi-bindings in /usr/local/lib/python3.10/dist-packages (from argon2-cffi->notebook>=4.4.1->widgetsnbextension~=3.6.0->ipywidgets) (21.2.0)\n",
            "Requirement already satisfied: attrs>=22.2.0 in /usr/local/lib/python3.10/dist-packages (from jsonschema>=2.6->nbformat->notebook>=4.4.1->widgetsnbextension~=3.6.0->ipywidgets) (23.1.0)\n",
            "Requirement already satisfied: jsonschema-specifications>=2023.03.6 in /usr/local/lib/python3.10/dist-packages (from jsonschema>=2.6->nbformat->notebook>=4.4.1->widgetsnbextension~=3.6.0->ipywidgets) (2023.7.1)\n",
            "Requirement already satisfied: referencing>=0.28.4 in /usr/local/lib/python3.10/dist-packages (from jsonschema>=2.6->nbformat->notebook>=4.4.1->widgetsnbextension~=3.6.0->ipywidgets) (0.30.2)\n",
            "Requirement already satisfied: rpds-py>=0.7.1 in /usr/local/lib/python3.10/dist-packages (from jsonschema>=2.6->nbformat->notebook>=4.4.1->widgetsnbextension~=3.6.0->ipywidgets) (0.10.6)\n",
            "Requirement already satisfied: anyio<4,>=3.1.0 in /usr/local/lib/python3.10/dist-packages (from jupyter-server>=1.8->nbclassic>=0.4.7->notebook>=4.4.1->widgetsnbextension~=3.6.0->ipywidgets) (3.7.1)\n",
            "Requirement already satisfied: websocket-client in /usr/local/lib/python3.10/dist-packages (from jupyter-server>=1.8->nbclassic>=0.4.7->notebook>=4.4.1->widgetsnbextension~=3.6.0->ipywidgets) (1.6.4)\n",
            "Requirement already satisfied: cffi>=1.0.1 in /usr/local/lib/python3.10/dist-packages (from argon2-cffi-bindings->argon2-cffi->notebook>=4.4.1->widgetsnbextension~=3.6.0->ipywidgets) (1.16.0)\n",
            "Requirement already satisfied: soupsieve>1.2 in /usr/local/lib/python3.10/dist-packages (from beautifulsoup4->nbconvert>=5->notebook>=4.4.1->widgetsnbextension~=3.6.0->ipywidgets) (2.5)\n",
            "Requirement already satisfied: webencodings in /usr/local/lib/python3.10/dist-packages (from bleach->nbconvert>=5->notebook>=4.4.1->widgetsnbextension~=3.6.0->ipywidgets) (0.5.1)\n",
            "Requirement already satisfied: idna>=2.8 in /usr/local/lib/python3.10/dist-packages (from anyio<4,>=3.1.0->jupyter-server>=1.8->nbclassic>=0.4.7->notebook>=4.4.1->widgetsnbextension~=3.6.0->ipywidgets) (3.4)\n",
            "Requirement already satisfied: sniffio>=1.1 in /usr/local/lib/python3.10/dist-packages (from anyio<4,>=3.1.0->jupyter-server>=1.8->nbclassic>=0.4.7->notebook>=4.4.1->widgetsnbextension~=3.6.0->ipywidgets) (1.3.0)\n",
            "Requirement already satisfied: exceptiongroup in /usr/local/lib/python3.10/dist-packages (from anyio<4,>=3.1.0->jupyter-server>=1.8->nbclassic>=0.4.7->notebook>=4.4.1->widgetsnbextension~=3.6.0->ipywidgets) (1.1.3)\n",
            "Requirement already satisfied: pycparser in /usr/local/lib/python3.10/dist-packages (from cffi>=1.0.1->argon2-cffi-bindings->argon2-cffi->notebook>=4.4.1->widgetsnbextension~=3.6.0->ipywidgets) (2.21)\n"
          ]
        }
      ]
    },
    {
      "cell_type": "markdown",
      "metadata": {
        "id": "_h71Mbux2r35"
      },
      "source": [
        "# Mount the Drive"
      ]
    },
    {
      "cell_type": "code",
      "execution_count": null,
      "metadata": {
        "colab": {
          "base_uri": "https://localhost:8080/"
        },
        "id": "awGZT4sIlvyO",
        "outputId": "66a4259a-c574-4272-f5b0-b0239c3002dd"
      },
      "outputs": [
        {
          "output_type": "stream",
          "name": "stdout",
          "text": [
            "Drive already mounted at /content/gdrive; to attempt to forcibly remount, call drive.mount(\"/content/gdrive\", force_remount=True).\n"
          ]
        }
      ],
      "source": [
        "from google.colab import drive\n",
        "drive.mount('/content/gdrive')"
      ]
    },
    {
      "cell_type": "markdown",
      "metadata": {
        "id": "5-LaPxgv20Ox"
      },
      "source": [
        "# Importing necessary libraries"
      ]
    },
    {
      "cell_type": "code",
      "execution_count": null,
      "metadata": {
        "id": "OqR0vu-Bmtvy"
      },
      "outputs": [],
      "source": [
        "import librosa\n",
        "import os\n",
        "import pickle\n",
        "import joblib\n",
        "import random\n",
        "import numpy as np\n",
        "import tensorflow as tf\n",
        "import audiomentations as A\n",
        "from sklearn.svm import SVC\n",
        "from pydub import AudioSegment\n",
        "from tensorflow.keras import layers, models\n",
        "from sklearn.metrics import accuracy_score\n",
        "from sklearn.preprocessing import StandardScaler\n",
        "from sklearn.model_selection import train_test_split\n",
        "from sklearn.model_selection import GridSearchCV\n",
        "from sklearn.pipeline import Pipeline\n",
        "import noisereduce as nr\n",
        "import ipywidgets as widgets\n",
        "from IPython.display import display\n",
        "from google.colab import files"
      ]
    },
    {
      "cell_type": "markdown",
      "metadata": {
        "id": "dUwCl5La3JD0"
      },
      "source": [
        "# Define Directory Path"
      ]
    },
    {
      "cell_type": "code",
      "execution_count": null,
      "metadata": {
        "id": "ZTWT8kEtvG-d"
      },
      "outputs": [],
      "source": [
        "# Define the path to your audio files directory\n",
        "audio_files_dir = '/content/gdrive/MyDrive/Audio_model/VPI Audio Clips'\n",
        "\n",
        "# List audio files in the directory\n",
        "audio_files = [os.path.join(audio_files_dir, file) for file in os.listdir(audio_files_dir)]\n"
      ]
    },
    {
      "cell_type": "code",
      "execution_count": null,
      "metadata": {
        "colab": {
          "base_uri": "https://localhost:8080/"
        },
        "id": "OqbV8tYGzUcy",
        "outputId": "95224f1e-38fd-4c13-dd12-5b0cc09c08bf"
      },
      "outputs": [
        {
          "output_type": "execute_result",
          "data": {
            "text/plain": [
              "['Normal Samples', 'Abnormal Samples']"
            ]
          },
          "metadata": {},
          "execution_count": 92
        }
      ],
      "source": [
        "# List the contents of the dataset folder.\n",
        "os.listdir(audio_files_dir)\n"
      ]
    },
    {
      "cell_type": "markdown",
      "metadata": {
        "id": "erMi6xTI3o2b"
      },
      "source": [
        " code specifies a directory path 'Abnormal Samples' and lists the content of that directory."
      ]
    },
    {
      "cell_type": "code",
      "execution_count": null,
      "metadata": {
        "colab": {
          "base_uri": "https://localhost:8080/"
        },
        "id": "IWAJqYL6swuh",
        "outputId": "f1349856-76bd-45c7-a6ee-4dd8e5a9a5fb"
      },
      "outputs": [
        {
          "output_type": "execute_result",
          "data": {
            "text/plain": [
              "['Video 1_2 (shoe).mp3',\n",
              " 'Video 1_3 (shiny shoes).mp3',\n",
              " 'Video 1_4 (seesaw).mp3',\n",
              " 'Video 1_5 (see the seesaw).mp3',\n",
              " 'Video 1_6 (sha, sha, sha).mp3',\n",
              " 'Video 1_7 (ca, ca, ca).mp3',\n",
              " 'Video 1_8 (ma, ma, ma).mp3',\n",
              " 'Video 1_9 (pa, pa, pa).mp3',\n",
              " 'Video 1_10 (bah, bah, bah).mp3',\n",
              " 'Video 1_11 (3-9).mp3',\n",
              " 'Video 1_1 (1-9).mp3',\n",
              " 'Video 2_1 (put the baby in the buggy).mp3',\n",
              " 'Video 2_2 (take teddy to town).mp3',\n",
              " 'Video 2_3 (do it for daddy).mp3',\n",
              " 'Video 2_4 (daddy).mp3',\n",
              " 'Video 2_5 (baby).mp3',\n",
              " 'Video 2_6 (I eat cake and ice cream).mp3',\n",
              " 'Video 2_7 (go get the wagon).mp3',\n",
              " 'Video 2_8 (I see the sun in the sky).mp3',\n",
              " 'Video 2_9 (she went shopping).mp3',\n",
              " 'Video 2_10 (I ride a choo-choo train).mp3',\n",
              " 'Video 3_1 (told).mp3',\n",
              " 'Video 3_2 (ted and todd).mp3',\n",
              " 'Video 3_4 (don_t wear your dirty).mp3',\n",
              " 'Video 3_5 (muddy).mp3',\n",
              " 'Video 3_6 (muddy 2).mp3',\n",
              " 'Video 3_7 (tie and hat to eat dinner).mp3',\n",
              " 'Video 4_1 (it was really fun, I think it really helps me, it makes me feel great).mp3',\n",
              " 'Video 4_2 (I have trouble saying my s-sounds..)',\n",
              " 'Video 4_3 (I struggle with my _s_).mp3',\n",
              " 'Video 4_4 (well it will help me).mp3',\n",
              " 'Video 4_5 (but it will help me with the _s_).mp3',\n",
              " 'Video 5_1 (feet).mp3',\n",
              " 'Video 5_2 (fence).mp3',\n",
              " 'Video 5_3 (I want a picture of giant man).mp3',\n",
              " 'Video 5_4 (smashing).mp3',\n",
              " 'Video 6_1 (mom).mp3',\n",
              " 'Video 6_2 (Popeye).mp3',\n",
              " 'Video 6_3 (puppy will pull a rope).mp3',\n",
              " 'Video 6_4 (bah).mp3',\n",
              " 'Video 6_5 (bobby).mp3',\n",
              " 'Video 6_6 (bobby 2).mp3',\n",
              " 'Video 6_7 (buy baby a bib).mp3',\n",
              " 'Facebook (take a turtle).mp3',\n",
              " 'Facebook (take a teddybear).mp3',\n",
              " 'Facebook (go get the cookie).mp3',\n",
              " 'Facebook (go get the car).mp3',\n",
              " 'Facebook (go get the cake).mp3',\n",
              " 'Facebook (susie sees the dress).mp3',\n",
              " 'Facebook (susie sees the scissors).mp3',\n",
              " 'Facebook (susie sees the horse).mp3',\n",
              " 'Facebook (sixty, sixty, sixty).mp3',\n",
              " 'Facebook (pick up the baby).mp3',\n",
              " 'Facebook (pick up the books).mp3',\n",
              " 'Facebook  (take a tire).mp3',\n",
              " 'Facebook  (pick up the pie).mp3',\n",
              " 'Abnormal.wav']"
            ]
          },
          "metadata": {},
          "execution_count": 93
        }
      ],
      "source": [
        "# List the content of 'Abnormal samples'\n",
        "abnormal_samples_path = os.path.join(audio_files_dir, 'Abnormal Samples')\n",
        "os.listdir(abnormal_samples_path)"
      ]
    },
    {
      "cell_type": "markdown",
      "metadata": {
        "id": "1A0Zkqex33AZ"
      },
      "source": [
        "code specifies a directory path 'Normal Samples' and lists the content of that directory."
      ]
    },
    {
      "cell_type": "code",
      "execution_count": null,
      "metadata": {
        "colab": {
          "base_uri": "https://localhost:8080/"
        },
        "id": "BCbNYLCvvTAr",
        "outputId": "8249c88b-e32f-4e64-aaf5-28e428b52afa"
      },
      "outputs": [
        {
          "output_type": "execute_result",
          "data": {
            "text/plain": [
              "['Video 1_1 (we have to have it first, then the cake).mp3',\n",
              " 'Video 1_2 (shh).mp3',\n",
              " 'Video 1_3 (its all of our birthdays).mp3',\n",
              " 'Video 1_4 (and can I have some more material).mp3',\n",
              " 'Video 1_5 (do you have a knife).mp3',\n",
              " 'Video 1_6 (good).mp3',\n",
              " 'Video 1_7 (here_s some pizza).mp3',\n",
              " 'Video 1_8 (And I_ll put some).mp3',\n",
              " 'Video 1_9 (where_s my bowl).mp3',\n",
              " 'Video 1_10 (and where_s the corn sauce).mp3',\n",
              " 'Video 1_11 (who, who).mp3',\n",
              " 'Video 1_12 (papi are you ready).mp3',\n",
              " 'Video 1_14 (fill up the gas).mp3',\n",
              " 'Video 1_15 (it stops going).mp3',\n",
              " 'Video 1_16 (its broke, I broke it).mp3',\n",
              " 'Video 1_17 (but if its not, then we would stop running).mp3',\n",
              " 'Video 1_13 (yes I_m going to give him some coffee for me and him).mp3',\n",
              " 'Video 1_18 (pretend it stops running when the car is going).mp3',\n",
              " 'Video 1_19 (tires).mp3',\n",
              " 'video 1 (door and four).mp3',\n",
              " 'video 1 (fire).mp3',\n",
              " 'video 1 (four).mp3',\n",
              " 'video 1 (puppies).mp3',\n",
              " 'video 1 (puppy are you ready_).mp3',\n",
              " 'video 1 (pizza bundt).mp3',\n",
              " 'video 1 (shh).mp3',\n",
              " 'video 1 (stop).mp3',\n",
              " 'video 1 (the pizza).mp3',\n",
              " 'video 1 (where_s the burner).mp3',\n",
              " 'video 1 (yes I am going to give him coffee for me and him).mp3',\n",
              " 'video 1 (where_s the sauce_).mp3',\n",
              " 'video 1 (we dont have any pineapple).mp3',\n",
              " 'video 1 (do you like milk in your tea_).mp3',\n",
              " 'cdc 2 (where_d dad go).mp3',\n",
              " 'cdc 2 (I said thank you ray).mp3',\n",
              " 'cdc 1 (thank you ray).mp3',\n",
              " 'cdc 3 (that_s a ladybug house, right_)-2.mp3',\n",
              " 'cdc 3 (yeah).mp3',\n",
              " 'cdc 3 (he won_t fly away).mp3',\n",
              " 'cdc 3 (we got him).mp3',\n",
              " 'cdc 3 (don_t open it, its locked).mp3',\n",
              " 'cdc 4 (and then he was a boy).mp3',\n",
              " 'cdc 4 (and then he ate breakfast).mp3',\n",
              " 'cdc 4 (and then he brushed his teeth).mp3',\n",
              " 'cdc 4 (and then go to school).mp3',\n",
              " 'cdc 5 (can I play with Jack).mp3',\n",
              " 'cdc 6 (the polar bears are dancing).mp3',\n",
              " 'cdc 7 (blue).mp3',\n",
              " 'cdc 7 (green).mp3',\n",
              " 'cdc 7 (red).mp3',\n",
              " 'cdc 7 (yellow).mp3',\n",
              " 'cdc 8 (I played with my toys).mp3',\n",
              " 'cdc 8 (went to the park).mp3',\n",
              " 'cdc 8( I swung on the swings and did other stuff).mp3',\n",
              " 'Normal.wav']"
            ]
          },
          "metadata": {},
          "execution_count": 94
        }
      ],
      "source": [
        "# List the cintent of 'Normal samples'\n",
        "normal_samples_path = os.path.join(audio_files_dir, 'Normal Samples')\n",
        "os.listdir(normal_samples_path)\n"
      ]
    },
    {
      "cell_type": "markdown",
      "metadata": {
        "id": "9GA9p294zw5w"
      },
      "source": [
        "# Function for extracting features"
      ]
    },
    {
      "cell_type": "code",
      "execution_count": null,
      "metadata": {
        "id": "QMzqHTd_u7i3"
      },
      "outputs": [],
      "source": [
        "def extract_features(audio_file, n_mfcc=20, n_fft=1024, hop_length=512, max_length=100, noise_reduction=True):\n",
        "    audio, sr = librosa.load(audio_file, sr=None)\n",
        "\n",
        "    if noise_reduction:\n",
        "        # Apply noise reduction\n",
        "        reduced_noise = nr.reduce_noise(y=audio, sr=sr)\n",
        "\n",
        "        # Use the reduced noise for feature extraction\n",
        "        audio = reduced_noise\n",
        "\n",
        "    mfccs = librosa.feature.mfcc(y=audio, sr=sr, n_mfcc=n_mfcc, n_fft=n_fft, hop_length=hop_length)\n",
        "\n",
        "    # Pad or truncate features to have the same length (max_length)\n",
        "    if mfccs.shape[1] < max_length:\n",
        "        pad_width = max_length - mfccs.shape[1]\n",
        "        mfccs = np.pad(mfccs, pad_width=((0, 0), (0, pad_width)), mode='constant')\n",
        "    else:\n",
        "        mfccs = mfccs[:, :max_length]\n",
        "\n",
        "    return mfccs"
      ]
    },
    {
      "cell_type": "markdown",
      "metadata": {
        "id": "onrggvOC4fiU"
      },
      "source": [
        "# Define Pitch Augmentation"
      ]
    },
    {
      "cell_type": "markdown",
      "metadata": {
        "id": "U-Z7s1-E4zTU"
      },
      "source": [
        " code cell applies pitch augmentation to a list of audio files, extracts MFCC features from the augmented audio, and collects the results in the 'augmented_features' list."
      ]
    },
    {
      "cell_type": "code",
      "execution_count": null,
      "metadata": {
        "id": "e29ufHquvwUb"
      },
      "outputs": [],
      "source": [
        "# Define a function to apply pitch shift\n",
        "def pitch_shift(audio, semitones):\n",
        "    return audio.set_frame_rate(int(audio.frame_rate * (2 ** (semitones / 12.0))))\n",
        "\n",
        "# Data augmentation\n",
        "def augment_audio(audio, max_pitch_shift=2):\n",
        "    pitch_shift_amount = random.randint(1, max_pitch_shift)\n",
        "    augmented_audio = pitch_shift(audio, pitch_shift_amount)\n",
        "    return augmented_audio\n",
        "\n",
        "augmented_features = []\n",
        "\n",
        "# Iterate through the audio files and augment each one\n",
        "for audio_file in audio_files:\n",
        "    if audio_file.endswith(\".mp3\"):\n",
        "        audio = AudioSegment.from_file(audio_file)\n",
        "        augmented_audio = augment_audio(audio)\n",
        "        mfccs = extract_features(augmented_audio, max_length=300)\n",
        "        augmented_features.append(mfccs)\n"
      ]
    },
    {
      "cell_type": "markdown",
      "metadata": {
        "id": "ZSXM-Dp67M9z"
      },
      "source": [
        "# Function to extract MFCC features"
      ]
    },
    {
      "cell_type": "markdown",
      "metadata": {
        "id": "VJM0PHtC7i66"
      },
      "source": [
        "define a function to extract MFCC features from a collection of audio files within a specified folder. It can optionally apply data augmentation, such as pitch shifting, and returns the resulting feature as list"
      ]
    },
    {
      "cell_type": "code",
      "execution_count": null,
      "metadata": {
        "id": "TFcarwCmwso4"
      },
      "outputs": [],
      "source": [
        "def extract_dataset_features(folder_path, max_length=100, augment=None):\n",
        "    audio_files = [os.path.join(folder_path, file) for file in os.listdir(folder_path)]\n",
        "    features = []\n",
        "    for audio_file in audio_files:\n",
        "        mfccs = extract_features(audio_file, max_length=max_length)\n",
        "        if augment:\n",
        "            mfccs = augment(mfccs)\n",
        "        features.append(mfccs)\n",
        "    return features"
      ]
    },
    {
      "cell_type": "markdown",
      "metadata": {
        "id": "IXk2cKfK8GIJ"
      },
      "source": [
        "setting maximum length"
      ]
    },
    {
      "cell_type": "code",
      "execution_count": null,
      "metadata": {
        "id": "aKLc7P2SEfSD"
      },
      "outputs": [],
      "source": [
        "max_length =200"
      ]
    },
    {
      "cell_type": "markdown",
      "metadata": {
        "id": "7boSP49U9bWq"
      },
      "source": [
        " # Feature extarction from Normal and Abnormal Audio Samples and"
      ]
    },
    {
      "cell_type": "code",
      "execution_count": null,
      "metadata": {
        "id": "7IUs011r-pl5"
      },
      "outputs": [],
      "source": [
        "abnormal_features = extract_dataset_features(abnormal_samples_path, max_length=max_length)\n",
        "normal_features = extract_dataset_features(normal_samples_path, max_length=max_length)\n"
      ]
    },
    {
      "cell_type": "code",
      "execution_count": null,
      "metadata": {
        "colab": {
          "base_uri": "https://localhost:8080/"
        },
        "id": "5PP6C7t0-po-",
        "outputId": "85b413e1-9a2c-4666-c33d-e41aec3b06ef"
      },
      "outputs": [
        {
          "output_type": "execute_result",
          "data": {
            "text/plain": [
              "[array([[-805.0714   , -800.2718   , -756.1251   , ...,    0.       ,\n",
              "            0.       ,    0.       ],\n",
              "        [   0.       ,    6.760956 ,   43.88251  , ...,    0.       ,\n",
              "            0.       ,    0.       ],\n",
              "        [   0.       ,    6.68112  ,   57.708042 , ...,    0.       ,\n",
              "            0.       ,    0.       ],\n",
              "        ...,\n",
              "        [   0.       ,    1.8230685,  -12.02668  , ...,    0.       ,\n",
              "            0.       ,    0.       ],\n",
              "        [   0.       ,    1.5075717,   -6.8305435, ...,    0.       ,\n",
              "            0.       ,    0.       ],\n",
              "        [   0.       ,    1.2210393,  -17.013405 , ...,    0.       ,\n",
              "            0.       ,    0.       ]], dtype=float32),\n",
              " array([[-803.2853   , -803.2853   , -754.84924  , ...,    0.       ,\n",
              "            0.       ,    0.       ],\n",
              "        [   0.       ,    0.       ,   39.226128 , ...,    0.       ,\n",
              "            0.       ,    0.       ],\n",
              "        [   0.       ,    0.       ,   51.69314  , ...,    0.       ,\n",
              "            0.       ,    0.       ],\n",
              "        ...,\n",
              "        [   0.       ,    0.       ,   -9.329721 , ...,    0.       ,\n",
              "            0.       ,    0.       ],\n",
              "        [   0.       ,    0.       ,  -12.303125 , ...,    0.       ,\n",
              "            0.       ,    0.       ],\n",
              "        [   0.       ,    0.       ,    4.1336365, ...,    0.       ,\n",
              "            0.       ,    0.       ]], dtype=float32),\n",
              " array([[-879.2859  , -879.2859  , -827.9518  , ...,    0.      ,\n",
              "            0.      ,    0.      ],\n",
              "        [   0.      ,    0.      ,   29.720062, ...,    0.      ,\n",
              "            0.      ,    0.      ],\n",
              "        [   0.      ,    0.      ,  -17.21355 , ...,    0.      ,\n",
              "            0.      ,    0.      ],\n",
              "        ...,\n",
              "        [   0.      ,    0.      ,  -13.14358 , ...,    0.      ,\n",
              "            0.      ,    0.      ],\n",
              "        [   0.      ,    0.      ,  -13.907873, ...,    0.      ,\n",
              "            0.      ,    0.      ],\n",
              "        [   0.      ,    0.      ,    2.890904, ...,    0.      ,\n",
              "            0.      ,    0.      ]], dtype=float32),\n",
              " array([[-744.83563, -744.83563, -744.83563, ...,    0.     ,    0.     ,\n",
              "            0.     ],\n",
              "        [   0.     ,    0.     ,    0.     , ...,    0.     ,    0.     ,\n",
              "            0.     ],\n",
              "        [   0.     ,    0.     ,    0.     , ...,    0.     ,    0.     ,\n",
              "            0.     ],\n",
              "        ...,\n",
              "        [   0.     ,    0.     ,    0.     , ...,    0.     ,    0.     ,\n",
              "            0.     ],\n",
              "        [   0.     ,    0.     ,    0.     , ...,    0.     ,    0.     ,\n",
              "            0.     ],\n",
              "        [   0.     ,    0.     ,    0.     , ...,    0.     ,    0.     ,\n",
              "            0.     ]], dtype=float32),\n",
              " array([[-814.35333, -814.35333, -814.35333, ...,    0.     ,    0.     ,\n",
              "            0.     ],\n",
              "        [   0.     ,    0.     ,    0.     , ...,    0.     ,    0.     ,\n",
              "            0.     ],\n",
              "        [   0.     ,    0.     ,    0.     , ...,    0.     ,    0.     ,\n",
              "            0.     ],\n",
              "        ...,\n",
              "        [   0.     ,    0.     ,    0.     , ...,    0.     ,    0.     ,\n",
              "            0.     ],\n",
              "        [   0.     ,    0.     ,    0.     , ...,    0.     ,    0.     ,\n",
              "            0.     ],\n",
              "        [   0.     ,    0.     ,    0.     , ...,    0.     ,    0.     ,\n",
              "            0.     ]], dtype=float32),\n",
              " array([[-819.8631   , -819.8631   , -810.76056  , ...,    0.       ,\n",
              "            0.       ,    0.       ],\n",
              "        [   0.       ,    0.       ,    9.421548 , ...,    0.       ,\n",
              "            0.       ,    0.       ],\n",
              "        [   0.       ,    0.       ,    9.68579  , ...,    0.       ,\n",
              "            0.       ,    0.       ],\n",
              "        ...,\n",
              "        [   0.       ,    0.       ,   -4.0218678, ...,    0.       ,\n",
              "            0.       ,    0.       ],\n",
              "        [   0.       ,    0.       ,   -7.0114927, ...,    0.       ,\n",
              "            0.       ,    0.       ],\n",
              "        [   0.       ,    0.       ,   -3.6790705, ...,    0.       ,\n",
              "            0.       ,    0.       ]], dtype=float32),\n",
              " array([[-796.69836, -796.69836, -796.69836, ...,    0.     ,    0.     ,\n",
              "            0.     ],\n",
              "        [   0.     ,    0.     ,    0.     , ...,    0.     ,    0.     ,\n",
              "            0.     ],\n",
              "        [   0.     ,    0.     ,    0.     , ...,    0.     ,    0.     ,\n",
              "            0.     ],\n",
              "        ...,\n",
              "        [   0.     ,    0.     ,    0.     , ...,    0.     ,    0.     ,\n",
              "            0.     ],\n",
              "        [   0.     ,    0.     ,    0.     , ...,    0.     ,    0.     ,\n",
              "            0.     ],\n",
              "        [   0.     ,    0.     ,    0.     , ...,    0.     ,    0.     ,\n",
              "            0.     ]], dtype=float32),\n",
              " array([[-842.386, -842.386, -842.386, ...,    0.   ,    0.   ,    0.   ],\n",
              "        [   0.   ,    0.   ,    0.   , ...,    0.   ,    0.   ,    0.   ],\n",
              "        [   0.   ,    0.   ,    0.   , ...,    0.   ,    0.   ,    0.   ],\n",
              "        ...,\n",
              "        [   0.   ,    0.   ,    0.   , ...,    0.   ,    0.   ,    0.   ],\n",
              "        [   0.   ,    0.   ,    0.   , ...,    0.   ,    0.   ,    0.   ],\n",
              "        [   0.   ,    0.   ,    0.   , ...,    0.   ,    0.   ,    0.   ]],\n",
              "       dtype=float32),\n",
              " array([[-800.82715, -800.82715, -800.82715, ...,    0.     ,    0.     ,\n",
              "            0.     ],\n",
              "        [   0.     ,    0.     ,    0.     , ...,    0.     ,    0.     ,\n",
              "            0.     ],\n",
              "        [   0.     ,    0.     ,    0.     , ...,    0.     ,    0.     ,\n",
              "            0.     ],\n",
              "        ...,\n",
              "        [   0.     ,    0.     ,    0.     , ...,    0.     ,    0.     ,\n",
              "            0.     ],\n",
              "        [   0.     ,    0.     ,    0.     , ...,    0.     ,    0.     ,\n",
              "            0.     ],\n",
              "        [   0.     ,    0.     ,    0.     , ...,    0.     ,    0.     ,\n",
              "            0.     ]], dtype=float32),\n",
              " array([[-810.786, -810.786, -810.786, ..., -810.786, -810.786, -810.786],\n",
              "        [   0.   ,    0.   ,    0.   , ...,    0.   ,    0.   ,    0.   ],\n",
              "        [   0.   ,    0.   ,    0.   , ...,    0.   ,    0.   ,    0.   ],\n",
              "        ...,\n",
              "        [   0.   ,    0.   ,    0.   , ...,    0.   ,    0.   ,    0.   ],\n",
              "        [   0.   ,    0.   ,    0.   , ...,    0.   ,    0.   ,    0.   ],\n",
              "        [   0.   ,    0.   ,    0.   , ...,    0.   ,    0.   ,    0.   ]],\n",
              "       dtype=float32),\n",
              " array([[-7.30265564e+02, -7.30265564e+02, -7.30265564e+02, ...,\n",
              "         -6.78885254e+02, -6.76667175e+02, -6.77286255e+02],\n",
              "        [ 0.00000000e+00,  0.00000000e+00,  0.00000000e+00, ...,\n",
              "          1.15462475e+01,  3.47636652e+00, -4.19554567e+00],\n",
              "        [ 0.00000000e+00,  0.00000000e+00,  0.00000000e+00, ...,\n",
              "          3.00906448e+01,  2.45290031e+01,  1.88171062e+01],\n",
              "        ...,\n",
              "        [ 0.00000000e+00,  0.00000000e+00,  0.00000000e+00, ...,\n",
              "         -3.77743244e-01, -2.69339681e+00, -1.42512023e+00],\n",
              "        [ 0.00000000e+00,  0.00000000e+00,  0.00000000e+00, ...,\n",
              "         -3.91492414e+00,  2.22239375e+00,  8.02794170e+00],\n",
              "        [ 0.00000000e+00,  0.00000000e+00,  0.00000000e+00, ...,\n",
              "          5.28351498e+00,  2.19632506e-01,  2.13011265e-01]], dtype=float32),\n",
              " array([[-775.43475  , -775.43475  , -759.08264  , ...,    0.       ,\n",
              "            0.       ,    0.       ],\n",
              "        [   0.       ,    0.       ,   14.327024 , ...,    0.       ,\n",
              "            0.       ,    0.       ],\n",
              "        [   0.       ,    0.       ,   13.647529 , ...,    0.       ,\n",
              "            0.       ,    0.       ],\n",
              "        ...,\n",
              "        [   0.       ,    0.       ,   -4.860889 , ...,    0.       ,\n",
              "            0.       ,    0.       ],\n",
              "        [   0.       ,    0.       ,   -5.9593363, ...,    0.       ,\n",
              "            0.       ,    0.       ],\n",
              "        [   0.       ,    0.       ,   -0.828545 , ...,    0.       ,\n",
              "            0.       ,    0.       ]], dtype=float32),\n",
              " array([[-7.1866028e+02, -7.1866028e+02, -7.1819684e+02, ...,\n",
              "          0.0000000e+00,  0.0000000e+00,  0.0000000e+00],\n",
              "        [ 0.0000000e+00,  0.0000000e+00, -5.0725824e-01, ...,\n",
              "          0.0000000e+00,  0.0000000e+00,  0.0000000e+00],\n",
              "        [ 0.0000000e+00,  0.0000000e+00,  1.4128900e-01, ...,\n",
              "          0.0000000e+00,  0.0000000e+00,  0.0000000e+00],\n",
              "        ...,\n",
              "        [ 0.0000000e+00,  0.0000000e+00, -1.8810867e-01, ...,\n",
              "          0.0000000e+00,  0.0000000e+00,  0.0000000e+00],\n",
              "        [ 0.0000000e+00,  0.0000000e+00, -2.0269682e-01, ...,\n",
              "          0.0000000e+00,  0.0000000e+00,  0.0000000e+00],\n",
              "        [ 0.0000000e+00,  0.0000000e+00,  5.1636982e-01, ...,\n",
              "          0.0000000e+00,  0.0000000e+00,  0.0000000e+00]], dtype=float32),\n",
              " array([[-7.4092236e+02, -7.4092236e+02, -7.4029608e+02, ...,\n",
              "          0.0000000e+00,  0.0000000e+00,  0.0000000e+00],\n",
              "        [ 0.0000000e+00,  0.0000000e+00, -6.9814676e-01, ...,\n",
              "          0.0000000e+00,  0.0000000e+00,  0.0000000e+00],\n",
              "        [ 0.0000000e+00,  0.0000000e+00,  2.7337509e-01, ...,\n",
              "          0.0000000e+00,  0.0000000e+00,  0.0000000e+00],\n",
              "        ...,\n",
              "        [ 0.0000000e+00,  0.0000000e+00,  4.4677687e-01, ...,\n",
              "          0.0000000e+00,  0.0000000e+00,  0.0000000e+00],\n",
              "        [ 0.0000000e+00,  0.0000000e+00, -6.3502383e-01, ...,\n",
              "          0.0000000e+00,  0.0000000e+00,  0.0000000e+00],\n",
              "        [ 0.0000000e+00,  0.0000000e+00,  5.4453373e-01, ...,\n",
              "          0.0000000e+00,  0.0000000e+00,  0.0000000e+00]], dtype=float32),\n",
              " array([[-712.9316   , -622.21704  , -317.18463  , ...,    0.       ,\n",
              "            0.       ,    0.       ],\n",
              "        [   3.0656796,   64.936165 ,  215.14568  , ...,    0.       ,\n",
              "            0.       ,    0.       ],\n",
              "        [   2.3390198,   -8.816305 ,  -56.962418 , ...,    0.       ,\n",
              "            0.       ,    0.       ],\n",
              "        ...,\n",
              "        [  -1.7009221,   -9.792595 ,   -2.0085607, ...,    0.       ,\n",
              "            0.       ,    0.       ],\n",
              "        [  -1.6820065,    9.83634  ,  -21.193924 , ...,    0.       ,\n",
              "            0.       ,    0.       ],\n",
              "        [  -1.2875421,    9.190324 ,    1.3437709, ...,    0.       ,\n",
              "            0.       ,    0.       ]], dtype=float32),\n",
              " array([[-7.3195953e+02, -6.4566333e+02, -3.5931787e+02, ...,\n",
              "          0.0000000e+00,  0.0000000e+00,  0.0000000e+00],\n",
              "        [ 0.0000000e+00,  5.9542145e+01,  2.2253609e+02, ...,\n",
              "          0.0000000e+00,  0.0000000e+00,  0.0000000e+00],\n",
              "        [ 0.0000000e+00, -1.7119044e+00, -4.3202911e+01, ...,\n",
              "          0.0000000e+00,  0.0000000e+00,  0.0000000e+00],\n",
              "        ...,\n",
              "        [ 0.0000000e+00,  5.3160043e+00,  5.8039227e+00, ...,\n",
              "          0.0000000e+00,  0.0000000e+00,  0.0000000e+00],\n",
              "        [ 0.0000000e+00,  7.5302973e+00, -8.3765812e+00, ...,\n",
              "          0.0000000e+00,  0.0000000e+00,  0.0000000e+00],\n",
              "        [ 0.0000000e+00,  9.2675438e+00,  5.1412022e-01, ...,\n",
              "          0.0000000e+00,  0.0000000e+00,  0.0000000e+00]], dtype=float32),\n",
              " array([[-7.5240442e+02, -7.5240442e+02, -7.4780060e+02, ...,\n",
              "          0.0000000e+00,  0.0000000e+00,  0.0000000e+00],\n",
              "        [ 0.0000000e+00,  0.0000000e+00,  6.4829659e+00, ...,\n",
              "          0.0000000e+00,  0.0000000e+00,  0.0000000e+00],\n",
              "        [ 0.0000000e+00,  0.0000000e+00,  6.3999190e+00, ...,\n",
              "          0.0000000e+00,  0.0000000e+00,  0.0000000e+00],\n",
              "        ...,\n",
              "        [ 0.0000000e+00,  0.0000000e+00,  8.0799305e-01, ...,\n",
              "          0.0000000e+00,  0.0000000e+00,  0.0000000e+00],\n",
              "        [ 0.0000000e+00,  0.0000000e+00,  3.7841153e-01, ...,\n",
              "          0.0000000e+00,  0.0000000e+00,  0.0000000e+00],\n",
              "        [ 0.0000000e+00,  0.0000000e+00, -2.7531080e-02, ...,\n",
              "          0.0000000e+00,  0.0000000e+00,  0.0000000e+00]], dtype=float32),\n",
              " array([[-7.5194446e+02, -7.5194446e+02, -7.4610815e+02, ...,\n",
              "          0.0000000e+00,  0.0000000e+00,  0.0000000e+00],\n",
              "        [ 0.0000000e+00,  0.0000000e+00,  3.7849646e+00, ...,\n",
              "          0.0000000e+00,  0.0000000e+00,  0.0000000e+00],\n",
              "        [ 0.0000000e+00,  0.0000000e+00,  6.7480993e+00, ...,\n",
              "          0.0000000e+00,  0.0000000e+00,  0.0000000e+00],\n",
              "        ...,\n",
              "        [ 0.0000000e+00,  0.0000000e+00,  1.0960989e+00, ...,\n",
              "          0.0000000e+00,  0.0000000e+00,  0.0000000e+00],\n",
              "        [ 0.0000000e+00,  0.0000000e+00, -3.4637633e-01, ...,\n",
              "          0.0000000e+00,  0.0000000e+00,  0.0000000e+00],\n",
              "        [ 0.0000000e+00,  0.0000000e+00, -1.1437030e+00, ...,\n",
              "          0.0000000e+00,  0.0000000e+00,  0.0000000e+00]], dtype=float32),\n",
              " array([[-779.4947   , -779.4947   , -738.5934   , ..., -620.62225  ,\n",
              "         -611.64435  , -603.51746  ],\n",
              "        [   0.       ,    0.       ,   41.70756  , ...,  194.29088  ,\n",
              "          204.11227  ,  209.7113   ],\n",
              "        [   0.       ,    0.       ,   14.310362 , ...,  129.39265  ,\n",
              "          132.40045  ,  129.08185  ],\n",
              "        ...,\n",
              "        [   0.       ,    0.       ,   -7.0759964, ...,    1.0338659,\n",
              "           -1.6708475,   -6.0158653],\n",
              "        [   0.       ,    0.       ,   -2.393673 , ...,   -4.045259 ,\n",
              "           -6.628875 ,  -13.652449 ],\n",
              "        [   0.       ,    0.       ,   -2.7412257, ...,  -13.797493 ,\n",
              "          -11.185854 ,  -15.596782 ]], dtype=float32),\n",
              " array([[-7.5562793e+02, -7.5562793e+02, -7.5544440e+02, ...,\n",
              "          0.0000000e+00,  0.0000000e+00,  0.0000000e+00],\n",
              "        [ 0.0000000e+00,  0.0000000e+00, -1.4481874e-01, ...,\n",
              "          0.0000000e+00,  0.0000000e+00,  0.0000000e+00],\n",
              "        [ 0.0000000e+00,  0.0000000e+00, -9.7095221e-02, ...,\n",
              "          0.0000000e+00,  0.0000000e+00,  0.0000000e+00],\n",
              "        ...,\n",
              "        [ 0.0000000e+00,  0.0000000e+00,  8.3459854e-02, ...,\n",
              "          0.0000000e+00,  0.0000000e+00,  0.0000000e+00],\n",
              "        [ 0.0000000e+00,  0.0000000e+00,  1.2044339e-01, ...,\n",
              "          0.0000000e+00,  0.0000000e+00,  0.0000000e+00],\n",
              "        [ 0.0000000e+00,  0.0000000e+00, -2.1076864e-01, ...,\n",
              "          0.0000000e+00,  0.0000000e+00,  0.0000000e+00]], dtype=float32),\n",
              " array([[-7.7158661e+02, -7.7142035e+02, -7.3468549e+02, ...,\n",
              "          0.0000000e+00,  0.0000000e+00,  0.0000000e+00],\n",
              "        [ 0.0000000e+00, -7.6468609e-02, -2.0104911e+00, ...,\n",
              "          0.0000000e+00,  0.0000000e+00,  0.0000000e+00],\n",
              "        [ 0.0000000e+00, -1.8531002e-01,  3.9046693e+00, ...,\n",
              "          0.0000000e+00,  0.0000000e+00,  0.0000000e+00],\n",
              "        ...,\n",
              "        [ 0.0000000e+00,  1.4233357e-01,  5.1710629e+00, ...,\n",
              "          0.0000000e+00,  0.0000000e+00,  0.0000000e+00],\n",
              "        [ 0.0000000e+00, -2.2319759e-01, -1.3251315e+01, ...,\n",
              "          0.0000000e+00,  0.0000000e+00,  0.0000000e+00],\n",
              "        [ 0.0000000e+00,  2.8845742e-03, -3.2347510e+00, ...,\n",
              "          0.0000000e+00,  0.0000000e+00,  0.0000000e+00]], dtype=float32),\n",
              " array([[-775.9354   , -775.9354   , -759.58154  , ...,    0.       ,\n",
              "            0.       ,    0.       ],\n",
              "        [   0.       ,    0.       ,   22.940853 , ...,    0.       ,\n",
              "            0.       ,    0.       ],\n",
              "        [   0.       ,    0.       ,   22.388477 , ...,    0.       ,\n",
              "            0.       ,    0.       ],\n",
              "        ...,\n",
              "        [   0.       ,    0.       ,    2.7515574, ...,    0.       ,\n",
              "            0.       ,    0.       ],\n",
              "        [   0.       ,    0.       ,    2.3327594, ...,    0.       ,\n",
              "            0.       ,    0.       ],\n",
              "        [   0.       ,    0.       ,    1.9974113, ...,    0.       ,\n",
              "            0.       ,    0.       ]], dtype=float32),\n",
              " array([[-734.71155  , -636.25226  , -334.99905  , ...,    0.       ,\n",
              "            0.       ,    0.       ],\n",
              "        [   0.       ,   50.48906  ,  131.95651  , ...,    0.       ,\n",
              "            0.       ,    0.       ],\n",
              "        [   0.       ,   -2.7289662,    4.311772 , ...,    0.       ,\n",
              "            0.       ,    0.       ],\n",
              "        ...,\n",
              "        [   0.       ,  -22.835835 ,   -7.873404 , ...,    0.       ,\n",
              "            0.       ,    0.       ],\n",
              "        [   0.       ,   -8.270012 ,   11.583226 , ...,    0.       ,\n",
              "            0.       ,    0.       ],\n",
              "        [   0.       ,  -11.555691 ,  -21.182938 , ...,    0.       ,\n",
              "            0.       ,    0.       ]], dtype=float32),\n",
              " array([[-646.3576   , -563.07526  , -306.87497  , ..., -622.26025  ,\n",
              "         -617.4784   , -594.5811   ],\n",
              "        [   0.       ,   66.22945  ,  187.10297  , ...,   33.774796 ,\n",
              "           40.338593 ,   71.68064  ],\n",
              "        [   0.       ,   43.01348  ,    8.796176 , ...,   32.87355  ,\n",
              "           38.85604  ,   67.18683  ],\n",
              "        ...,\n",
              "        [   0.       ,   10.217016 ,  -12.144864 , ...,   -3.7890804,\n",
              "           -5.5019875,   -6.2986407],\n",
              "        [   0.       ,    2.6255774,   -3.979236 , ...,   -4.3949623,\n",
              "           -5.3675833,   -5.117    ],\n",
              "        [   0.       ,   -4.459261 ,  -26.650265 , ...,   -4.6194043,\n",
              "           -4.9776926,   -4.369935 ]], dtype=float32),\n",
              " array([[-6.7129877e+02, -6.0139954e+02, -3.6126627e+02, ...,\n",
              "          0.0000000e+00,  0.0000000e+00,  0.0000000e+00],\n",
              "        [ 0.0000000e+00,  4.2977642e+01,  1.6727563e+02, ...,\n",
              "          0.0000000e+00,  0.0000000e+00,  0.0000000e+00],\n",
              "        [ 0.0000000e+00,  2.0682047e+01, -1.8347633e+01, ...,\n",
              "          0.0000000e+00,  0.0000000e+00,  0.0000000e+00],\n",
              "        ...,\n",
              "        [ 0.0000000e+00,  7.1983185e+00, -5.4727840e-01, ...,\n",
              "          0.0000000e+00,  0.0000000e+00,  0.0000000e+00],\n",
              "        [ 0.0000000e+00, -7.3557234e+00,  6.2504230e+00, ...,\n",
              "          0.0000000e+00,  0.0000000e+00,  0.0000000e+00],\n",
              "        [ 0.0000000e+00, -6.0875311e+00, -1.2409285e+01, ...,\n",
              "          0.0000000e+00,  0.0000000e+00,  0.0000000e+00]], dtype=float32),\n",
              " array([[-723.5907   , -723.5907   , -699.8057   , ...,    0.       ,\n",
              "            0.       ,    0.       ],\n",
              "        [   0.       ,    0.       ,   23.350157 , ...,    0.       ,\n",
              "            0.       ,    0.       ],\n",
              "        [   0.       ,    0.       ,   14.794527 , ...,    0.       ,\n",
              "            0.       ,    0.       ],\n",
              "        ...,\n",
              "        [   0.       ,    0.       ,   -8.964805 , ...,    0.       ,\n",
              "            0.       ,    0.       ],\n",
              "        [   0.       ,    0.       ,   -2.9055576, ...,    0.       ,\n",
              "            0.       ,    0.       ],\n",
              "        [   0.       ,    0.       ,    3.657557 , ...,    0.       ,\n",
              "            0.       ,    0.       ]], dtype=float32),\n",
              " array([[-7.2729205e+02, -7.2729205e+02, -7.0628479e+02, ...,\n",
              "         -7.1269189e+02, -7.0814465e+02, -7.0367200e+02],\n",
              "        [ 0.0000000e+00,  0.0000000e+00,  2.7757057e+01, ...,\n",
              "          2.0499039e+01,  2.6914219e+01,  3.3160088e+01],\n",
              "        [ 0.0000000e+00,  0.0000000e+00,  2.7549561e+01, ...,\n",
              "          2.0057816e+01,  2.6425613e+01,  3.2436005e+01],\n",
              "        ...,\n",
              "        [ 0.0000000e+00,  0.0000000e+00,  2.8168350e-01, ...,\n",
              "          8.2407945e-01,  8.4784448e-01, -1.8317325e+00],\n",
              "        [ 0.0000000e+00,  0.0000000e+00, -2.1719582e+00, ...,\n",
              "          3.4837300e-01, -4.1037688e-01, -3.0389130e+00],\n",
              "        [ 0.0000000e+00,  0.0000000e+00, -2.6654615e+00, ...,\n",
              "          6.5173745e-02, -1.4791563e+00, -3.9312806e+00]], dtype=float32),\n",
              " array([[-7.5807233e+02, -7.5801740e+02, -7.1137573e+02, ...,\n",
              "         -7.3310022e+02, -7.3507990e+02, -7.3165973e+02],\n",
              "        [ 0.0000000e+00,  7.7444918e-02,  5.8455566e+01, ...,\n",
              "          3.4968521e+01,  3.2253487e+01,  3.7022392e+01],\n",
              "        [ 0.0000000e+00,  7.7007420e-02,  5.7819206e+01, ...,\n",
              "          3.3939384e+01,  3.1473572e+01,  3.6042938e+01],\n",
              "        ...,\n",
              "        [ 0.0000000e+00,  3.9070018e-02, -3.5787334e+00, ...,\n",
              "         -6.8326302e+00, -3.7024796e+00, -2.7514930e+00],\n",
              "        [ 0.0000000e+00,  3.4885768e-02, -5.9653139e+00, ...,\n",
              "         -7.3902273e+00, -4.8092027e+00, -3.4244151e+00],\n",
              "        [ 0.0000000e+00,  3.0570216e-02, -1.4700698e+00, ...,\n",
              "         -7.5218630e+00, -5.6013556e+00, -3.7359266e+00]], dtype=float32),\n",
              " array([[-779.3199   , -779.3199   , -686.63916  , ..., -542.13794  ,\n",
              "         -574.83905  , -652.54846  ],\n",
              "        [   0.       ,    0.       ,   91.061485 , ...,  -69.204605 ,\n",
              "          -62.11717  ,  -26.662653 ],\n",
              "        [   0.       ,    0.       ,   18.22142  , ...,  -39.938835 ,\n",
              "          -42.0216   ,  -18.82651  ],\n",
              "        ...,\n",
              "        [   0.       ,    0.       ,    3.2147732, ...,  -25.46885  ,\n",
              "          -26.202473 ,  -25.812744 ],\n",
              "        [   0.       ,    0.       ,    5.8956184, ...,   11.249619 ,\n",
              "            7.9056206,   -6.133843 ],\n",
              "        [   0.       ,    0.       ,   10.223619 , ...,  -10.110134 ,\n",
              "            9.280786 ,    3.0215566]], dtype=float32),\n",
              " array([[-7.9686700e+02, -7.7589447e+02, -5.3491541e+02, ...,\n",
              "         -6.6353510e+02, -6.6576007e+02, -6.7319550e+02],\n",
              "        [ 0.0000000e+00,  4.9068918e+00,  1.0965981e+02, ...,\n",
              "          1.4289305e+02,  1.4380090e+02,  1.3538145e+02],\n",
              "        [ 0.0000000e+00, -1.5489673e+01, -1.0295531e+02, ...,\n",
              "          9.1928802e+01,  9.6817703e+01,  9.3499718e+01],\n",
              "        ...,\n",
              "        [ 0.0000000e+00,  4.5424252e+00, -4.7502986e-01, ...,\n",
              "          7.2498145e+00,  9.1630802e+00,  6.1690860e+00],\n",
              "        [ 0.0000000e+00,  2.6803164e+00,  1.3476335e+00, ...,\n",
              "          1.1533828e+01,  1.3290498e+01,  8.6224442e+00],\n",
              "        [ 0.0000000e+00,  2.0811973e+00, -2.2053082e+01, ...,\n",
              "         -2.3117268e+01, -1.6846006e+01, -1.6876200e+01]], dtype=float32),\n",
              " array([[-8.2127087e+02, -8.1880847e+02, -6.8948700e+02, ...,\n",
              "         -8.0550104e+02, -8.1538007e+02, -8.1871155e+02],\n",
              "        [ 0.0000000e+00, -7.1167074e-02,  4.7094482e+01, ...,\n",
              "          1.5864656e+01,  8.0208836e+00,  3.6016612e+00],\n",
              "        [ 0.0000000e+00,  9.2398381e-01,  1.8691757e+01, ...,\n",
              "          1.2084860e+01,  7.4472604e+00,  3.5488434e+00],\n",
              "        ...,\n",
              "        [ 0.0000000e+00,  1.0651777e+00,  3.6337578e+01, ...,\n",
              "          1.3968604e+00,  1.5012255e+00,  4.0465587e-01],\n",
              "        [ 0.0000000e+00, -1.7169704e+00, -9.4111118e+00, ...,\n",
              "         -2.7070367e+00,  7.1564817e-01,  2.1586394e-01],\n",
              "        [ 0.0000000e+00,  1.7913032e+00, -1.7550808e+01, ...,\n",
              "         -9.5572019e-01,  4.8514715e-01,  5.0183341e-02]], dtype=float32),\n",
              " array([[-7.8646588e+02, -7.8646588e+02, -7.6459521e+02, ...,\n",
              "          0.0000000e+00,  0.0000000e+00,  0.0000000e+00],\n",
              "        [ 0.0000000e+00,  0.0000000e+00,  2.9659863e+01, ...,\n",
              "          0.0000000e+00,  0.0000000e+00,  0.0000000e+00],\n",
              "        [ 0.0000000e+00,  0.0000000e+00,  2.6015961e+01, ...,\n",
              "          0.0000000e+00,  0.0000000e+00,  0.0000000e+00],\n",
              "        ...,\n",
              "        [ 0.0000000e+00,  0.0000000e+00, -3.0320160e+00, ...,\n",
              "          0.0000000e+00,  0.0000000e+00,  0.0000000e+00],\n",
              "        [ 0.0000000e+00,  0.0000000e+00, -7.0816469e-01, ...,\n",
              "          0.0000000e+00,  0.0000000e+00,  0.0000000e+00],\n",
              "        [ 0.0000000e+00,  0.0000000e+00,  1.5108124e+00, ...,\n",
              "          0.0000000e+00,  0.0000000e+00,  0.0000000e+00]], dtype=float32),\n",
              " array([[-697.1377   , -697.1377   , -612.2156   , ...,    0.       ,\n",
              "            0.       ,    0.       ],\n",
              "        [   0.       ,    0.       ,   64.38207  , ...,    0.       ,\n",
              "            0.       ,    0.       ],\n",
              "        [   0.       ,    0.       ,   -9.596093 , ...,    0.       ,\n",
              "            0.       ,    0.       ],\n",
              "        ...,\n",
              "        [   0.       ,    0.       ,   -3.0232844, ...,    0.       ,\n",
              "            0.       ,    0.       ],\n",
              "        [   0.       ,    0.       ,    4.962264 , ...,    0.       ,\n",
              "            0.       ,    0.       ],\n",
              "        [   0.       ,    0.       ,    2.6894841, ...,    0.       ,\n",
              "            0.       ,    0.       ]], dtype=float32),\n",
              " array([[-731.7825    , -727.11145   , -598.1997    , ...,    0.        ,\n",
              "            0.        ,    0.        ],\n",
              "        [   0.        ,   -0.75775045,   38.150177  , ...,    0.        ,\n",
              "            0.        ,    0.        ],\n",
              "        [   0.        ,   -5.4120255 ,  -46.008034  , ...,    0.        ,\n",
              "            0.        ,    0.        ],\n",
              "        ...,\n",
              "        [   0.        ,    4.000276  ,    7.203354  , ...,    0.        ,\n",
              "            0.        ,    0.        ],\n",
              "        [   0.        ,   -4.208594  ,    3.2106323 , ...,    0.        ,\n",
              "            0.        ,    0.        ],\n",
              "        [   0.        ,   -2.469049  ,  -16.664925  , ...,    0.        ,\n",
              "            0.        ,    0.        ]], dtype=float32),\n",
              " array([[-8.1640637e+02, -8.1640637e+02, -8.1640637e+02, ...,\n",
              "         -5.5266522e+02, -5.6479529e+02, -5.8962762e+02],\n",
              "        [ 0.0000000e+00,  0.0000000e+00,  0.0000000e+00, ...,\n",
              "          1.9760217e+02,  1.9281152e+02,  1.8158896e+02],\n",
              "        [ 0.0000000e+00,  0.0000000e+00,  0.0000000e+00, ...,\n",
              "         -5.0917137e+01, -4.3160564e+01, -2.8224232e+01],\n",
              "        ...,\n",
              "        [ 0.0000000e+00,  0.0000000e+00,  0.0000000e+00, ...,\n",
              "          6.2714405e+00,  3.6240339e-01, -1.5485174e+01],\n",
              "        [ 0.0000000e+00,  0.0000000e+00,  0.0000000e+00, ...,\n",
              "         -6.2890806e+00, -9.0026722e+00, -1.5030363e+01],\n",
              "        [ 0.0000000e+00,  0.0000000e+00,  0.0000000e+00, ...,\n",
              "         -2.3933909e+00,  2.0702753e+00, -5.8104830e+00]], dtype=float32),\n",
              " array([[-745.42444  , -745.42444  , -731.3757   , ...,    0.       ,\n",
              "            0.       ,    0.       ],\n",
              "        [   0.       ,    0.       ,   19.795181 , ...,    0.       ,\n",
              "            0.       ,    0.       ],\n",
              "        [   0.       ,    0.       ,   19.578564 , ...,    0.       ,\n",
              "            0.       ,    0.       ],\n",
              "        ...,\n",
              "        [   0.       ,    0.       ,    5.7541265, ...,    0.       ,\n",
              "            0.       ,    0.       ],\n",
              "        [   0.       ,    0.       ,    4.6872873, ...,    0.       ,\n",
              "            0.       ,    0.       ],\n",
              "        [   0.       ,    0.       ,    3.6781754, ...,    0.       ,\n",
              "            0.       ,    0.       ]], dtype=float32),\n",
              " array([[-713.2643   , -713.2643   , -705.2398   , ...,    0.       ,\n",
              "            0.       ,    0.       ],\n",
              "        [   0.       ,    0.       ,   11.249018 , ...,    0.       ,\n",
              "            0.       ,    0.       ],\n",
              "        [   0.       ,    0.       ,   10.953924 , ...,    0.       ,\n",
              "            0.       ,    0.       ],\n",
              "        ...,\n",
              "        [   0.       ,    0.       ,   -3.6271842, ...,    0.       ,\n",
              "            0.       ,    0.       ],\n",
              "        [   0.       ,    0.       ,   -4.177061 , ...,    0.       ,\n",
              "            0.       ,    0.       ],\n",
              "        [   0.       ,    0.       ,   -4.5830603, ...,    0.       ,\n",
              "            0.       ,    0.       ]], dtype=float32),\n",
              " array([[-7.6709106e+02, -7.6709106e+02, -7.6084680e+02, ...,\n",
              "          0.0000000e+00,  0.0000000e+00,  0.0000000e+00],\n",
              "        [ 0.0000000e+00,  0.0000000e+00,  6.5236368e+00, ...,\n",
              "          0.0000000e+00,  0.0000000e+00,  0.0000000e+00],\n",
              "        [ 0.0000000e+00,  0.0000000e+00,  7.2920084e+00, ...,\n",
              "          0.0000000e+00,  0.0000000e+00,  0.0000000e+00],\n",
              "        ...,\n",
              "        [ 0.0000000e+00,  0.0000000e+00,  3.7783751e-01, ...,\n",
              "          0.0000000e+00,  0.0000000e+00,  0.0000000e+00],\n",
              "        [ 0.0000000e+00,  0.0000000e+00, -3.9059913e-01, ...,\n",
              "          0.0000000e+00,  0.0000000e+00,  0.0000000e+00],\n",
              "        [ 0.0000000e+00,  0.0000000e+00,  7.7268040e-01, ...,\n",
              "          0.0000000e+00,  0.0000000e+00,  0.0000000e+00]], dtype=float32),\n",
              " array([[-8.2666840e+02, -8.2538947e+02, -8.0024866e+02, ...,\n",
              "         -6.1508459e+02, -5.9899426e+02, -5.8853156e+02],\n",
              "        [ 0.0000000e+00,  1.7975156e+00,  3.4581787e+01, ...,\n",
              "          1.3927518e+02,  1.4614539e+02,  1.4024405e+02],\n",
              "        [ 0.0000000e+00,  1.7641041e+00,  3.4973938e+01, ...,\n",
              "          8.1286301e+01,  7.0411903e+01,  6.3319702e+01],\n",
              "        ...,\n",
              "        [ 0.0000000e+00, -4.2727411e-01, -5.5735550e+00, ...,\n",
              "         -1.7960361e+01, -2.3153530e+01, -2.3636408e+01],\n",
              "        [ 0.0000000e+00, -5.8664918e-01, -4.1105814e+00, ...,\n",
              "         -3.1094631e+01, -2.1210051e+01, -2.8536266e+01],\n",
              "        [ 0.0000000e+00, -7.3464370e-01, -7.0197172e+00, ...,\n",
              "          6.0473137e+00,  4.1726789e+00,  2.1978683e+00]], dtype=float32),\n",
              " array([[-7.7186346e+02, -7.7186346e+02, -6.7174353e+02, ...,\n",
              "          0.0000000e+00,  0.0000000e+00,  0.0000000e+00],\n",
              "        [ 0.0000000e+00,  0.0000000e+00,  8.3764206e+01, ...,\n",
              "          0.0000000e+00,  0.0000000e+00,  0.0000000e+00],\n",
              "        [ 0.0000000e+00,  0.0000000e+00,  1.4088143e+01, ...,\n",
              "          0.0000000e+00,  0.0000000e+00,  0.0000000e+00],\n",
              "        ...,\n",
              "        [ 0.0000000e+00,  0.0000000e+00,  5.6712575e+00, ...,\n",
              "          0.0000000e+00,  0.0000000e+00,  0.0000000e+00],\n",
              "        [ 0.0000000e+00,  0.0000000e+00,  4.9650154e+00, ...,\n",
              "          0.0000000e+00,  0.0000000e+00,  0.0000000e+00],\n",
              "        [ 0.0000000e+00,  0.0000000e+00, -4.6055114e-01, ...,\n",
              "          0.0000000e+00,  0.0000000e+00,  0.0000000e+00]], dtype=float32),\n",
              " array([[-8.2545874e+02, -8.2545874e+02, -7.7293768e+02, ...,\n",
              "          0.0000000e+00,  0.0000000e+00,  0.0000000e+00],\n",
              "        [ 0.0000000e+00,  0.0000000e+00,  3.0527943e+01, ...,\n",
              "          0.0000000e+00,  0.0000000e+00,  0.0000000e+00],\n",
              "        [ 0.0000000e+00,  0.0000000e+00,  2.1011890e+01, ...,\n",
              "          0.0000000e+00,  0.0000000e+00,  0.0000000e+00],\n",
              "        ...,\n",
              "        [ 0.0000000e+00,  0.0000000e+00, -1.6266323e+01, ...,\n",
              "          0.0000000e+00,  0.0000000e+00,  0.0000000e+00],\n",
              "        [ 0.0000000e+00,  0.0000000e+00,  1.6209894e-01, ...,\n",
              "          0.0000000e+00,  0.0000000e+00,  0.0000000e+00],\n",
              "        [ 0.0000000e+00,  0.0000000e+00,  3.2083044e+00, ...,\n",
              "          0.0000000e+00,  0.0000000e+00,  0.0000000e+00]], dtype=float32),\n",
              " array([[-8.0671796e+02, -8.0671796e+02, -7.2508319e+02, ...,\n",
              "          0.0000000e+00,  0.0000000e+00,  0.0000000e+00],\n",
              "        [ 0.0000000e+00,  0.0000000e+00,  5.7161438e+01, ...,\n",
              "          0.0000000e+00,  0.0000000e+00,  0.0000000e+00],\n",
              "        [ 0.0000000e+00,  0.0000000e+00, -2.1843784e+01, ...,\n",
              "          0.0000000e+00,  0.0000000e+00,  0.0000000e+00],\n",
              "        ...,\n",
              "        [ 0.0000000e+00,  0.0000000e+00,  1.5808861e+00, ...,\n",
              "          0.0000000e+00,  0.0000000e+00,  0.0000000e+00],\n",
              "        [ 0.0000000e+00,  0.0000000e+00,  1.1092147e+01, ...,\n",
              "          0.0000000e+00,  0.0000000e+00,  0.0000000e+00],\n",
              "        [ 0.0000000e+00,  0.0000000e+00, -2.8044248e-01, ...,\n",
              "          0.0000000e+00,  0.0000000e+00,  0.0000000e+00]], dtype=float32),\n",
              " array([[-8.4602527e+02, -8.4602527e+02, -8.3084717e+02, ...,\n",
              "         -7.4951349e+02, -7.5336328e+02, -7.5278955e+02],\n",
              "        [ 0.0000000e+00,  0.0000000e+00,  1.6115753e+01, ...,\n",
              "          1.2025470e+02,  1.1802717e+02,  1.1679030e+02],\n",
              "        [ 0.0000000e+00,  0.0000000e+00,  1.6922886e+01, ...,\n",
              "          9.3462723e+01,  9.0862640e+01,  8.6096405e+01],\n",
              "        ...,\n",
              "        [ 0.0000000e+00,  0.0000000e+00,  5.3363514e+00, ...,\n",
              "         -8.4876575e+00, -6.1487446e+00, -6.7472987e+00],\n",
              "        [ 0.0000000e+00,  0.0000000e+00,  5.2241788e+00, ...,\n",
              "         -7.3053117e+00, -4.9405012e+00, -3.3212280e+00],\n",
              "        [ 0.0000000e+00,  0.0000000e+00, -1.4998093e-02, ...,\n",
              "         -4.4255009e+00, -3.6592093e+00, -3.8109988e-01]], dtype=float32),\n",
              " array([[-8.1420593e+02, -8.1420593e+02, -7.9329230e+02, ...,\n",
              "          0.0000000e+00,  0.0000000e+00,  0.0000000e+00],\n",
              "        [ 0.0000000e+00,  0.0000000e+00,  2.1474646e+01, ...,\n",
              "          0.0000000e+00,  0.0000000e+00,  0.0000000e+00],\n",
              "        [ 0.0000000e+00,  0.0000000e+00,  1.4167402e+01, ...,\n",
              "          0.0000000e+00,  0.0000000e+00,  0.0000000e+00],\n",
              "        ...,\n",
              "        [ 0.0000000e+00,  0.0000000e+00, -1.0135564e+01, ...,\n",
              "          0.0000000e+00,  0.0000000e+00,  0.0000000e+00],\n",
              "        [ 0.0000000e+00,  0.0000000e+00, -6.4574089e+00, ...,\n",
              "          0.0000000e+00,  0.0000000e+00,  0.0000000e+00],\n",
              "        [ 0.0000000e+00,  0.0000000e+00,  5.7850458e-02, ...,\n",
              "          0.0000000e+00,  0.0000000e+00,  0.0000000e+00]], dtype=float32),\n",
              " array([[-759.3619    , -759.3619    , -750.7836    , ...,    0.        ,\n",
              "            0.        ,    0.        ],\n",
              "        [   0.        ,    0.        ,    8.234271  , ...,    0.        ,\n",
              "            0.        ,    0.        ],\n",
              "        [   0.        ,    0.        ,    2.0267086 , ...,    0.        ,\n",
              "            0.        ,    0.        ],\n",
              "        ...,\n",
              "        [   0.        ,    0.        ,   -7.6247797 , ...,    0.        ,\n",
              "            0.        ,    0.        ],\n",
              "        [   0.        ,    0.        ,   -5.738515  , ...,    0.        ,\n",
              "            0.        ,    0.        ],\n",
              "        [   0.        ,    0.        ,   -0.99849486, ...,    0.        ,\n",
              "            0.        ,    0.        ]], dtype=float32),\n",
              " array([[-782.9438   , -782.9438   , -763.71344  , ...,    0.       ,\n",
              "            0.       ,    0.       ],\n",
              "        [   0.       ,    0.       ,   25.986465 , ...,    0.       ,\n",
              "            0.       ,    0.       ],\n",
              "        [   0.       ,    0.       ,   22.53199  , ...,    0.       ,\n",
              "            0.       ,    0.       ],\n",
              "        ...,\n",
              "        [   0.       ,    0.       ,    2.691117 , ...,    0.       ,\n",
              "            0.       ,    0.       ],\n",
              "        [   0.       ,    0.       ,    0.8706038, ...,    0.       ,\n",
              "            0.       ,    0.       ],\n",
              "        [   0.       ,    0.       ,   -1.5133885, ...,    0.       ,\n",
              "            0.       ,    0.       ]], dtype=float32),\n",
              " array([[-822.93976  , -822.93976  , -817.28204  , ...,    0.       ,\n",
              "            0.       ,    0.       ],\n",
              "        [   0.       ,    0.       ,    7.8816895, ...,    0.       ,\n",
              "            0.       ,    0.       ],\n",
              "        [   0.       ,    0.       ,    7.6497507, ...,    0.       ,\n",
              "            0.       ,    0.       ],\n",
              "        ...,\n",
              "        [   0.       ,    0.       ,   -1.2476528, ...,    0.       ,\n",
              "            0.       ,    0.       ],\n",
              "        [   0.       ,    0.       ,   -1.7016634, ...,    0.       ,\n",
              "            0.       ,    0.       ],\n",
              "        [   0.       ,    0.       ,   -1.9570746, ...,    0.       ,\n",
              "            0.       ,    0.       ]], dtype=float32),\n",
              " array([[-8.3535461e+02, -8.3535461e+02, -8.2654724e+02, ...,\n",
              "          0.0000000e+00,  0.0000000e+00,  0.0000000e+00],\n",
              "        [ 0.0000000e+00,  0.0000000e+00,  8.8233795e+00, ...,\n",
              "          0.0000000e+00,  0.0000000e+00,  0.0000000e+00],\n",
              "        [ 0.0000000e+00,  0.0000000e+00,  1.2053375e+01, ...,\n",
              "          0.0000000e+00,  0.0000000e+00,  0.0000000e+00],\n",
              "        ...,\n",
              "        [ 0.0000000e+00,  0.0000000e+00,  1.6110032e+00, ...,\n",
              "          0.0000000e+00,  0.0000000e+00,  0.0000000e+00],\n",
              "        [ 0.0000000e+00,  0.0000000e+00,  2.8226256e-01, ...,\n",
              "          0.0000000e+00,  0.0000000e+00,  0.0000000e+00],\n",
              "        [ 0.0000000e+00,  0.0000000e+00,  7.2747171e-02, ...,\n",
              "          0.0000000e+00,  0.0000000e+00,  0.0000000e+00]], dtype=float32),\n",
              " array([[-805.48206  , -805.48206  , -795.42883  , ...,    0.       ,\n",
              "            0.       ,    0.       ],\n",
              "        [   0.       ,    0.       ,    7.8809795, ...,    0.       ,\n",
              "            0.       ,    0.       ],\n",
              "        [   0.       ,    0.       ,    2.1229014, ...,    0.       ,\n",
              "            0.       ,    0.       ],\n",
              "        ...,\n",
              "        [   0.       ,    0.       ,   -2.8075745, ...,    0.       ,\n",
              "            0.       ,    0.       ],\n",
              "        [   0.       ,    0.       ,   -1.7807151, ...,    0.       ,\n",
              "            0.       ,    0.       ],\n",
              "        [   0.       ,    0.       ,    2.2173362, ...,    0.       ,\n",
              "            0.       ,    0.       ]], dtype=float32),\n",
              " array([[-7.9649933e+02, -7.9649933e+02, -7.9368488e+02, ...,\n",
              "         -6.7124146e+02, -6.8087457e+02, -6.7234607e+02],\n",
              "        [ 0.0000000e+00,  0.0000000e+00,  3.8374732e+00, ...,\n",
              "          4.2557541e+01,  4.4793221e+01,  4.8035667e+01],\n",
              "        [ 0.0000000e+00,  0.0000000e+00,  3.9187002e+00, ...,\n",
              "          2.2331674e+00,  1.4289663e+00,  2.5563619e+00],\n",
              "        ...,\n",
              "        [ 0.0000000e+00,  0.0000000e+00,  1.1240487e+00, ...,\n",
              "          8.7061567e+00,  1.0311268e+01,  5.3184566e+00],\n",
              "        [ 0.0000000e+00,  0.0000000e+00,  9.5816290e-01, ...,\n",
              "          4.4424553e+00,  1.5929939e+01,  1.7340115e+01],\n",
              "        [ 0.0000000e+00,  0.0000000e+00,  6.2525314e-01, ...,\n",
              "         -9.6325147e-01,  1.5103536e+00,  4.7481346e-01]], dtype=float32),\n",
              " array([[-851.9876   , -851.9876   , -849.58777  , ...,    0.       ,\n",
              "            0.       ,    0.       ],\n",
              "        [   0.       ,    0.       ,    3.3854723, ...,    0.       ,\n",
              "            0.       ,    0.       ],\n",
              "        [   0.       ,    0.       ,    3.3605723, ...,    0.       ,\n",
              "            0.       ,    0.       ],\n",
              "        ...,\n",
              "        [   0.       ,    0.       ,    1.4512562, ...,    0.       ,\n",
              "            0.       ,    0.       ],\n",
              "        [   0.       ,    0.       ,    1.2715174, ...,    0.       ,\n",
              "            0.       ,    0.       ],\n",
              "        [   0.       ,    0.       ,    1.0927212, ...,    0.       ,\n",
              "            0.       ,    0.       ]], dtype=float32),\n",
              " array([[-826.0765    , -826.0765    , -820.2044    , ..., -590.6398    ,\n",
              "         -588.78186   , -594.9932    ],\n",
              "        [   0.        ,    0.        ,    8.27347   , ...,  101.55951   ,\n",
              "          101.5495    ,  105.147675  ],\n",
              "        [   0.        ,    0.        ,    8.181181  , ...,   10.370501  ,\n",
              "           11.540422  ,   29.34805   ],\n",
              "        ...,\n",
              "        [   0.        ,    0.        ,    1.9394472 , ...,  -19.987406  ,\n",
              "          -19.879337  ,  -13.57642   ],\n",
              "        [   0.        ,    0.        ,    1.4540762 , ...,   21.29982   ,\n",
              "           25.89439   ,   37.70083   ],\n",
              "        [   0.        ,    0.        ,    0.99329734, ...,  -14.748606  ,\n",
              "          -28.034136  ,  -31.840534  ]], dtype=float32),\n",
              " array([[-771.4593   , -771.4593   , -765.99255  , ..., -700.27124  ,\n",
              "         -703.1906   , -698.939    ],\n",
              "        [   0.       ,    0.       ,    7.1766677, ...,   61.09956  ,\n",
              "           55.553516 ,   46.179653 ],\n",
              "        [   0.       ,    0.       ,    6.7161603, ...,   54.65948  ,\n",
              "           48.93923  ,   50.65178  ],\n",
              "        ...,\n",
              "        [   0.       ,    0.       ,    2.1170707, ...,   19.789738 ,\n",
              "           17.205824 ,   18.459743 ],\n",
              "        [   0.       ,    0.       ,    2.4024234, ...,   11.91172  ,\n",
              "           14.307903 ,   15.196421 ],\n",
              "        [   0.       ,    0.       ,    1.9891216, ...,  -15.969306 ,\n",
              "          -19.165049 ,  -20.393589 ]], dtype=float32),\n",
              " array([[-751.4047  , -751.4047  , -561.0045  , ...,    0.      ,\n",
              "            0.      ,    0.      ],\n",
              "        [   0.      ,    0.      ,   64.39728 , ...,    0.      ,\n",
              "            0.      ,    0.      ],\n",
              "        [   0.      ,    0.      ,  -35.451218, ...,    0.      ,\n",
              "            0.      ,    0.      ],\n",
              "        ...,\n",
              "        [   0.      ,    0.      ,   -8.624286, ...,    0.      ,\n",
              "            0.      ,    0.      ],\n",
              "        [   0.      ,    0.      ,   -6.788863, ...,    0.      ,\n",
              "            0.      ,    0.      ],\n",
              "        [   0.      ,    0.      ,   -8.299007, ...,    0.      ,\n",
              "            0.      ,    0.      ]], dtype=float32),\n",
              " array([[-843.2009   , -843.2009   , -833.1337   , ...,    0.       ,\n",
              "            0.       ,    0.       ],\n",
              "        [   0.       ,    0.       ,   14.153082 , ...,    0.       ,\n",
              "            0.       ,    0.       ],\n",
              "        [   0.       ,    0.       ,   13.903198 , ...,    0.       ,\n",
              "            0.       ,    0.       ],\n",
              "        ...,\n",
              "        [   0.       ,    0.       ,    2.2513938, ...,    0.       ,\n",
              "            0.       ,    0.       ],\n",
              "        [   0.       ,    0.       ,    1.8154051, ...,    0.       ,\n",
              "            0.       ,    0.       ],\n",
              "        [   0.       ,    0.       ,    1.4709946, ...,    0.       ,\n",
              "            0.       ,    0.       ]], dtype=float32),\n",
              " array([[-827.1123  , -827.1123  , -740.23944 , ...,    0.      ,\n",
              "            0.      ,    0.      ],\n",
              "        [   0.      ,    0.      ,   90.43477 , ...,    0.      ,\n",
              "            0.      ,    0.      ],\n",
              "        [   0.      ,    0.      ,   43.14791 , ...,    0.      ,\n",
              "            0.      ,    0.      ],\n",
              "        ...,\n",
              "        [   0.      ,    0.      ,   -9.312923, ...,    0.      ,\n",
              "            0.      ,    0.      ],\n",
              "        [   0.      ,    0.      ,   -9.9678  , ...,    0.      ,\n",
              "            0.      ,    0.      ],\n",
              "        [   0.      ,    0.      ,   13.975775, ...,    0.      ,\n",
              "            0.      ,    0.      ]], dtype=float32),\n",
              " array([[-833.19653  , -794.295    , -754.5863   , ...,    0.       ,\n",
              "            0.       ,    0.       ],\n",
              "        [  34.10676  ,   20.481617 ,   23.74993  , ...,    0.       ,\n",
              "            0.       ,    0.       ],\n",
              "        [  12.79414  ,   -4.7749214,    1.9207369, ...,    0.       ,\n",
              "            0.       ,    0.       ],\n",
              "        ...,\n",
              "        [  -2.2812448,  -20.080116 ,  -21.107555 , ...,    0.       ,\n",
              "            0.       ,    0.       ],\n",
              "        [   7.177106 ,   -6.19046  ,   -8.1441345, ...,    0.       ,\n",
              "            0.       ,    0.       ],\n",
              "        [  13.417866 ,   -2.7298646,  -10.239734 , ...,    0.       ,\n",
              "            0.       ,    0.       ]], dtype=float32)]"
            ]
          },
          "metadata": {},
          "execution_count": 100
        }
      ],
      "source": [
        "abnormal_features"
      ]
    },
    {
      "cell_type": "code",
      "execution_count": null,
      "metadata": {
        "colab": {
          "base_uri": "https://localhost:8080/"
        },
        "id": "0Cndl_Jp-pr3",
        "outputId": "beb6037c-b7eb-4ac4-aaa3-f07331529b5f"
      },
      "outputs": [
        {
          "output_type": "execute_result",
          "data": {
            "text/plain": [
              "[array([[-770.8298   , -770.8298   , -765.5368   , ..., -504.7719   ,\n",
              "         -435.89087  , -389.87415  ],\n",
              "        [   0.       ,    0.       ,    7.461972 , ...,  163.7634   ,\n",
              "          180.88815  ,  189.3056   ],\n",
              "        [   0.       ,    0.       ,    7.3918886, ...,  -97.03007  ,\n",
              "         -141.75404  , -163.34227  ],\n",
              "        ...,\n",
              "        [   0.       ,    0.       ,    2.5179262, ...,   -9.257051 ,\n",
              "          -16.530655 ,  -11.666437 ],\n",
              "        [   0.       ,    0.       ,    2.120369 , ...,    3.5179224,\n",
              "            4.121803 ,    9.420047 ],\n",
              "        [   0.       ,    0.       ,    1.7381253, ...,    7.531509 ,\n",
              "           -3.7205582,    4.692148 ]], dtype=float32),\n",
              " array([[-9.3615051e+02, -9.3238312e+02, -7.9234558e+02, ...,\n",
              "          0.0000000e+00,  0.0000000e+00,  0.0000000e+00],\n",
              "        [ 0.0000000e+00,  5.1226835e+00,  1.3567245e+02, ...,\n",
              "          0.0000000e+00,  0.0000000e+00,  0.0000000e+00],\n",
              "        [ 0.0000000e+00,  4.5957723e+00,  5.6117363e+01, ...,\n",
              "          0.0000000e+00,  0.0000000e+00,  0.0000000e+00],\n",
              "        ...,\n",
              "        [ 0.0000000e+00,  2.0427456e-01, -3.1000621e+00, ...,\n",
              "          0.0000000e+00,  0.0000000e+00,  0.0000000e+00],\n",
              "        [ 0.0000000e+00,  8.3147585e-02,  5.6163721e+00, ...,\n",
              "          0.0000000e+00,  0.0000000e+00,  0.0000000e+00],\n",
              "        [ 0.0000000e+00, -9.5730335e-02, -9.8090515e+00, ...,\n",
              "          0.0000000e+00,  0.0000000e+00,  0.0000000e+00]], dtype=float32),\n",
              " array([[-810.8982   , -810.8982   , -789.9608   , ...,    0.       ,\n",
              "            0.       ,    0.       ],\n",
              "        [   0.       ,    0.       ,   29.376    , ...,    0.       ,\n",
              "            0.       ,    0.       ],\n",
              "        [   0.       ,    0.       ,   28.682161 , ...,    0.       ,\n",
              "            0.       ,    0.       ],\n",
              "        ...,\n",
              "        [   0.       ,    0.       ,   -1.1428801, ...,    0.       ,\n",
              "            0.       ,    0.       ],\n",
              "        [   0.       ,    0.       ,   -1.9396149, ...,    0.       ,\n",
              "            0.       ,    0.       ],\n",
              "        [   0.       ,    0.       ,   -2.471171 , ...,    0.       ,\n",
              "            0.       ,    0.       ]], dtype=float32),\n",
              " array([[-738.8761   , -738.8761   , -708.7309   , ..., -598.65454  ,\n",
              "         -585.045    , -579.8429   ],\n",
              "        [   0.       ,    0.       ,   27.834621 , ...,  155.28082  ,\n",
              "          163.24188  ,  162.41907  ],\n",
              "        [   0.       ,    0.       ,   15.716769 , ...,   84.75573  ,\n",
              "           84.08125  ,   81.96242  ],\n",
              "        ...,\n",
              "        [   0.       ,    0.       ,   -6.8815145, ...,  -14.880362 ,\n",
              "          -13.813915 ,  -13.205181 ],\n",
              "        [   0.       ,    0.       ,    3.3140903, ...,  -15.455776 ,\n",
              "          -13.415422 ,  -10.916076 ],\n",
              "        [   0.       ,    0.       ,    3.4361954, ...,  -16.204704 ,\n",
              "          -11.3756485,  -11.932041 ]], dtype=float32),\n",
              " array([[-7.6053052e+02, -7.5895294e+02, -6.4096411e+02, ...,\n",
              "          0.0000000e+00,  0.0000000e+00,  0.0000000e+00],\n",
              "        [ 0.0000000e+00, -5.0849122e-01,  2.1463112e+01, ...,\n",
              "          0.0000000e+00,  0.0000000e+00,  0.0000000e+00],\n",
              "        [ 0.0000000e+00, -1.5978408e+00, -2.4631008e+01, ...,\n",
              "          0.0000000e+00,  0.0000000e+00,  0.0000000e+00],\n",
              "        ...,\n",
              "        [ 0.0000000e+00,  1.4053379e+00,  7.4345713e+00, ...,\n",
              "          0.0000000e+00,  0.0000000e+00,  0.0000000e+00],\n",
              "        [ 0.0000000e+00, -9.3434232e-01, -6.7009792e+00, ...,\n",
              "          0.0000000e+00,  0.0000000e+00,  0.0000000e+00],\n",
              "        [ 0.0000000e+00, -1.5254612e+00, -1.6001709e+01, ...,\n",
              "          0.0000000e+00,  0.0000000e+00,  0.0000000e+00]], dtype=float32),\n",
              " array([[-7.7743604e+02, -7.2491754e+02, -4.1876910e+02, ...,\n",
              "          0.0000000e+00,  0.0000000e+00,  0.0000000e+00],\n",
              "        [ 0.0000000e+00, -3.6102229e-01,  5.8892212e+01, ...,\n",
              "          0.0000000e+00,  0.0000000e+00,  0.0000000e+00],\n",
              "        [ 0.0000000e+00, -3.0273640e+01, -8.6265961e+01, ...,\n",
              "          0.0000000e+00,  0.0000000e+00,  0.0000000e+00],\n",
              "        ...,\n",
              "        [ 0.0000000e+00, -3.8617508e+00, -2.7546372e+00, ...,\n",
              "          0.0000000e+00,  0.0000000e+00,  0.0000000e+00],\n",
              "        [ 0.0000000e+00, -2.6048384e+00,  1.3956216e+01, ...,\n",
              "          0.0000000e+00,  0.0000000e+00,  0.0000000e+00],\n",
              "        [ 0.0000000e+00,  5.1898403e+00, -1.1359177e+01, ...,\n",
              "          0.0000000e+00,  0.0000000e+00,  0.0000000e+00]], dtype=float32),\n",
              " array([[-7.7348657e+02, -7.7348657e+02, -7.5751538e+02, ...,\n",
              "          0.0000000e+00,  0.0000000e+00,  0.0000000e+00],\n",
              "        [ 0.0000000e+00,  0.0000000e+00,  2.1769772e+01, ...,\n",
              "          0.0000000e+00,  0.0000000e+00,  0.0000000e+00],\n",
              "        [ 0.0000000e+00,  0.0000000e+00,  1.9822216e+01, ...,\n",
              "          0.0000000e+00,  0.0000000e+00,  0.0000000e+00],\n",
              "        ...,\n",
              "        [ 0.0000000e+00,  0.0000000e+00,  8.9295447e-01, ...,\n",
              "          0.0000000e+00,  0.0000000e+00,  0.0000000e+00],\n",
              "        [ 0.0000000e+00,  0.0000000e+00, -2.7942258e-01, ...,\n",
              "          0.0000000e+00,  0.0000000e+00,  0.0000000e+00],\n",
              "        [ 0.0000000e+00,  0.0000000e+00, -3.9070019e-01, ...,\n",
              "          0.0000000e+00,  0.0000000e+00,  0.0000000e+00]], dtype=float32),\n",
              " array([[-835.0222   , -835.0222   , -804.8905   , ...,    0.       ,\n",
              "            0.       ,    0.       ],\n",
              "        [   0.       ,    0.       ,   36.99907  , ...,    0.       ,\n",
              "            0.       ,    0.       ],\n",
              "        [   0.       ,    0.       ,   40.29834  , ...,    0.       ,\n",
              "            0.       ,    0.       ],\n",
              "        ...,\n",
              "        [   0.       ,    0.       ,   -5.358325 , ...,    0.       ,\n",
              "            0.       ,    0.       ],\n",
              "        [   0.       ,    0.       ,   -4.442737 , ...,    0.       ,\n",
              "            0.       ,    0.       ],\n",
              "        [   0.       ,    0.       ,   -4.8098435, ...,    0.       ,\n",
              "            0.       ,    0.       ]], dtype=float32),\n",
              " array([[-7.8725677e+02, -7.8725677e+02, -7.5053040e+02, ...,\n",
              "         -7.3130811e+02, -7.4808148e+02, -7.4652002e+02],\n",
              "        [ 0.0000000e+00,  0.0000000e+00,  2.3442295e+01, ...,\n",
              "          5.9605202e+01,  4.2159164e+01,  3.7079926e+01],\n",
              "        [ 0.0000000e+00,  0.0000000e+00,  1.4969314e+00, ...,\n",
              "          6.1582886e+01,  4.7850067e+01,  4.7343159e+01],\n",
              "        ...,\n",
              "        [ 0.0000000e+00,  0.0000000e+00, -8.5783081e+00, ...,\n",
              "          7.0600967e+00,  8.7243404e+00,  3.2234135e-01],\n",
              "        [ 0.0000000e+00,  0.0000000e+00, -4.4891372e+00, ...,\n",
              "          9.9424591e+00,  5.9246221e+00, -6.7300153e+00],\n",
              "        [ 0.0000000e+00,  0.0000000e+00,  2.8426814e+00, ...,\n",
              "          1.4294781e+01,  8.7395630e+00, -4.2341189e+00]], dtype=float32),\n",
              " array([[-7.5920825e+02, -7.5920825e+02, -7.3175348e+02, ...,\n",
              "         -6.6280420e+02, -6.8521838e+02, -6.9876544e+02],\n",
              "        [ 0.0000000e+00,  0.0000000e+00,  3.5727776e+01, ...,\n",
              "         -2.3961720e+01, -1.3637005e+01,  1.4683401e+01],\n",
              "        [ 0.0000000e+00,  0.0000000e+00,  3.7058037e+01, ...,\n",
              "         -3.6145606e+00, -1.0165096e+01,  8.3112583e+00],\n",
              "        ...,\n",
              "        [ 0.0000000e+00,  0.0000000e+00,  1.3100902e+00, ...,\n",
              "          4.7326946e+00,  8.9318752e+00, -3.9605808e-01],\n",
              "        [ 0.0000000e+00,  0.0000000e+00, -1.4161135e+00, ...,\n",
              "         -9.3027782e+00, -5.6019397e+00, -1.0304516e+01],\n",
              "        [ 0.0000000e+00,  0.0000000e+00, -7.4683166e-01, ...,\n",
              "         -1.4089543e-01, -2.2364082e+00,  2.6775689e+00]], dtype=float32),\n",
              " array([[-770.24835  , -770.24835  , -752.50635  , ..., -406.3943   ,\n",
              "         -407.9855   , -419.36804  ],\n",
              "        [   0.       ,    0.       ,   22.649406 , ...,  159.13339  ,\n",
              "          156.91202  ,  148.3175   ],\n",
              "        [   0.       ,    0.       ,   23.221542 , ...,  -31.365152 ,\n",
              "          -29.69367  ,  -29.113882 ],\n",
              "        ...,\n",
              "        [   0.       ,    0.       ,    7.993397 , ...,  -18.240364 ,\n",
              "           -8.57366  ,    0.9684334],\n",
              "        [   0.       ,    0.       ,    4.741899 , ...,  -18.000797 ,\n",
              "          -13.352406 ,   -4.1615615],\n",
              "        [   0.       ,    0.       ,    4.8214846, ...,    4.1527524,\n",
              "            6.9608545,   11.913427 ]], dtype=float32),\n",
              " array([[-7.0744592e+02, -7.0744592e+02, -6.8374951e+02, ...,\n",
              "         -6.6044452e+02, -6.5734906e+02, -6.5570599e+02],\n",
              "        [ 0.0000000e+00,  0.0000000e+00,  2.9818054e+01, ...,\n",
              "          2.9826284e+01,  3.0175972e+01,  3.5203197e+01],\n",
              "        [ 0.0000000e+00,  0.0000000e+00,  3.2331711e+01, ...,\n",
              "          5.4130280e+01,  6.0239502e+01,  6.3996010e+01],\n",
              "        ...,\n",
              "        [ 0.0000000e+00,  0.0000000e+00, -5.7528794e-02, ...,\n",
              "         -7.0597525e+00, -4.5153999e+00, -4.4500408e+00],\n",
              "        [ 0.0000000e+00,  0.0000000e+00,  5.5409837e-01, ...,\n",
              "          2.6389010e+00,  1.9013240e+00, -3.4624141e-01],\n",
              "        [ 0.0000000e+00,  0.0000000e+00, -2.5432923e+00, ...,\n",
              "         -9.7238817e+00, -2.9992995e+00, -6.3124285e+00]], dtype=float32),\n",
              " array([[-660.091    , -660.091    , -570.73114  , ...,    0.       ,\n",
              "            0.       ,    0.       ],\n",
              "        [   0.       ,    0.       ,   76.51158  , ...,    0.       ,\n",
              "            0.       ,    0.       ],\n",
              "        [   0.       ,    0.       ,   64.34533  , ...,    0.       ,\n",
              "            0.       ,    0.       ],\n",
              "        ...,\n",
              "        [   0.       ,    0.       ,  -13.765459 , ...,    0.       ,\n",
              "            0.       ,    0.       ],\n",
              "        [   0.       ,    0.       ,   -1.7414412, ...,    0.       ,\n",
              "            0.       ,    0.       ],\n",
              "        [   0.       ,    0.       ,   -4.9004917, ...,    0.       ,\n",
              "            0.       ,    0.       ]], dtype=float32),\n",
              " array([[-728.66254  , -728.66254  , -715.0971   , ...,    0.       ,\n",
              "            0.       ,    0.       ],\n",
              "        [   0.       ,    0.       ,   11.91561  , ...,    0.       ,\n",
              "            0.       ,    0.       ],\n",
              "        [   0.       ,    0.       ,   13.05651  , ...,    0.       ,\n",
              "            0.       ,    0.       ],\n",
              "        ...,\n",
              "        [   0.       ,    0.       ,    4.517721 , ...,    0.       ,\n",
              "            0.       ,    0.       ],\n",
              "        [   0.       ,    0.       ,    1.6048448, ...,    0.       ,\n",
              "            0.       ,    0.       ],\n",
              "        [   0.       ,    0.       ,    3.7600188, ...,    0.       ,\n",
              "            0.       ,    0.       ]], dtype=float32),\n",
              " array([[-7.2410443e+02, -7.2410443e+02, -7.1603491e+02, ...,\n",
              "          0.0000000e+00,  0.0000000e+00,  0.0000000e+00],\n",
              "        [ 0.0000000e+00,  0.0000000e+00,  1.1357952e+01, ...,\n",
              "          0.0000000e+00,  0.0000000e+00,  0.0000000e+00],\n",
              "        [ 0.0000000e+00,  0.0000000e+00,  1.1196639e+01, ...,\n",
              "          0.0000000e+00,  0.0000000e+00,  0.0000000e+00],\n",
              "        ...,\n",
              "        [ 0.0000000e+00,  0.0000000e+00,  1.1157094e+00, ...,\n",
              "          0.0000000e+00,  0.0000000e+00,  0.0000000e+00],\n",
              "        [ 0.0000000e+00,  0.0000000e+00,  4.3207622e-01, ...,\n",
              "          0.0000000e+00,  0.0000000e+00,  0.0000000e+00],\n",
              "        [ 0.0000000e+00,  0.0000000e+00, -1.9422755e-01, ...,\n",
              "          0.0000000e+00,  0.0000000e+00,  0.0000000e+00]], dtype=float32),\n",
              " array([[-768.7739   , -768.7739   , -748.8654   , ..., -624.1096   ,\n",
              "         -626.8606   , -636.5116   ],\n",
              "        [   0.       ,    0.       ,   27.91021  , ...,  133.53647  ,\n",
              "          131.57327  ,  130.75826  ],\n",
              "        [   0.       ,    0.       ,   27.183853 , ...,   35.293983 ,\n",
              "           48.984352 ,   57.08041  ],\n",
              "        ...,\n",
              "        [   0.       ,    0.       ,   -4.6336613, ...,  -29.525517 ,\n",
              "          -23.607386 ,  -28.166721 ],\n",
              "        [   0.       ,    0.       ,   -5.4114485, ...,  -30.88257  ,\n",
              "          -20.93866  ,  -24.076258 ],\n",
              "        [   0.       ,    0.       ,   -5.8593254, ...,   -4.8834734,\n",
              "            5.5109696,    6.369153 ]], dtype=float32),\n",
              " array([[-7.0411072e+02, -7.0411072e+02, -6.8119745e+02, ...,\n",
              "         -4.7661771e+02, -4.9239349e+02, -4.9464618e+02],\n",
              "        [ 0.0000000e+00,  0.0000000e+00,  3.2131966e+01, ...,\n",
              "          1.7886246e+02,  1.7896616e+02,  1.7092702e+02],\n",
              "        [ 0.0000000e+00,  0.0000000e+00,  3.1324432e+01, ...,\n",
              "         -1.6759266e+01,  3.5009487e+00,  1.7313358e+01],\n",
              "        ...,\n",
              "        [ 0.0000000e+00,  0.0000000e+00, -2.3415337e+00, ...,\n",
              "         -8.7664604e+00, -1.2998319e+01, -2.5127846e+01],\n",
              "        [ 0.0000000e+00,  0.0000000e+00, -3.0073996e+00, ...,\n",
              "          8.8617668e+00,  1.0812193e+01,  9.8208666e-02],\n",
              "        [ 0.0000000e+00,  0.0000000e+00, -3.3287220e+00, ...,\n",
              "          1.0600555e+00,  3.4300823e+00,  4.1072202e+00]], dtype=float32),\n",
              " array([[-7.0219739e+02, -7.0219739e+02, -6.7045941e+02, ...,\n",
              "         -5.9988318e+02, -5.8700696e+02, -5.6490448e+02],\n",
              "        [ 0.0000000e+00,  0.0000000e+00,  3.6558025e+01, ...,\n",
              "          1.2687842e+02,  1.3703015e+02,  1.5698669e+02],\n",
              "        [ 0.0000000e+00,  0.0000000e+00,  2.1842953e+01, ...,\n",
              "          8.1278671e+01,  7.4400452e+01,  7.3519753e+01],\n",
              "        ...,\n",
              "        [ 0.0000000e+00,  0.0000000e+00, -9.6052992e-01, ...,\n",
              "          6.3729696e+00, -2.7400248e+00, -3.9663072e+00],\n",
              "        [ 0.0000000e+00,  0.0000000e+00,  2.5225544e+00, ...,\n",
              "          7.6659614e-01, -1.0150719e+01, -1.4148961e+01],\n",
              "        [ 0.0000000e+00,  0.0000000e+00,  9.9254251e-02, ...,\n",
              "         -3.2670827e+00, -9.1973724e+00, -1.1571906e+01]], dtype=float32),\n",
              " array([[-7.1060193e+02, -7.1060193e+02, -6.7922614e+02, ...,\n",
              "          0.0000000e+00,  0.0000000e+00,  0.0000000e+00],\n",
              "        [ 0.0000000e+00,  0.0000000e+00,  4.3176548e+01, ...,\n",
              "          0.0000000e+00,  0.0000000e+00,  0.0000000e+00],\n",
              "        [ 0.0000000e+00,  0.0000000e+00,  3.9729504e+01, ...,\n",
              "          0.0000000e+00,  0.0000000e+00,  0.0000000e+00],\n",
              "        ...,\n",
              "        [ 0.0000000e+00,  0.0000000e+00,  1.9433997e+00, ...,\n",
              "          0.0000000e+00,  0.0000000e+00,  0.0000000e+00],\n",
              "        [ 0.0000000e+00,  0.0000000e+00,  4.6621731e-01, ...,\n",
              "          0.0000000e+00,  0.0000000e+00,  0.0000000e+00],\n",
              "        [ 0.0000000e+00,  0.0000000e+00, -1.5975777e+00, ...,\n",
              "          0.0000000e+00,  0.0000000e+00,  0.0000000e+00]], dtype=float32),\n",
              " array([[-7.5865167e+02, -6.6204645e+02, -4.2070023e+02, ...,\n",
              "         -7.5865167e+02, -7.5865167e+02, -7.5865167e+02],\n",
              "        [ 0.0000000e+00,  9.2830994e+01,  2.5525620e+02, ...,\n",
              "          0.0000000e+00,  0.0000000e+00,  0.0000000e+00],\n",
              "        [ 0.0000000e+00,  1.5185593e+01, -1.0142411e+00, ...,\n",
              "          0.0000000e+00,  0.0000000e+00,  0.0000000e+00],\n",
              "        ...,\n",
              "        [ 0.0000000e+00, -6.9113183e-01, -3.9569962e-01, ...,\n",
              "          0.0000000e+00,  0.0000000e+00,  0.0000000e+00],\n",
              "        [ 0.0000000e+00, -2.4167554e+00, -3.7662616e+00, ...,\n",
              "          0.0000000e+00,  0.0000000e+00,  0.0000000e+00],\n",
              "        [ 0.0000000e+00, -3.8719254e+00, -1.2172682e+01, ...,\n",
              "          0.0000000e+00,  0.0000000e+00,  0.0000000e+00]], dtype=float32),\n",
              " array([[-735.4111   , -735.4111   , -711.79736  , ...,    0.       ,\n",
              "            0.       ,    0.       ],\n",
              "        [   0.       ,    0.       ,   22.5265   , ...,    0.       ,\n",
              "            0.       ,    0.       ],\n",
              "        [   0.       ,    0.       ,   17.991253 , ...,    0.       ,\n",
              "            0.       ,    0.       ],\n",
              "        ...,\n",
              "        [   0.       ,    0.       ,    3.4685936, ...,    0.       ,\n",
              "            0.       ,    0.       ],\n",
              "        [   0.       ,    0.       ,    4.379442 , ...,    0.       ,\n",
              "            0.       ,    0.       ],\n",
              "        [   0.       ,    0.       ,   -3.3612876, ...,    0.       ,\n",
              "            0.       ,    0.       ]], dtype=float32),\n",
              " array([[-683.5225   , -683.5225   , -649.6896   , ...,    0.       ,\n",
              "            0.       ,    0.       ],\n",
              "        [   0.       ,    0.       ,   21.880726 , ...,    0.       ,\n",
              "            0.       ,    0.       ],\n",
              "        [   0.       ,    0.       ,   27.20923  , ...,    0.       ,\n",
              "            0.       ,    0.       ],\n",
              "        ...,\n",
              "        [   0.       ,    0.       ,   -2.1842341, ...,    0.       ,\n",
              "            0.       ,    0.       ],\n",
              "        [   0.       ,    0.       ,   -2.403616 , ...,    0.       ,\n",
              "            0.       ,    0.       ],\n",
              "        [   0.       ,    0.       ,    1.6715975, ...,    0.       ,\n",
              "            0.       ,    0.       ]], dtype=float32),\n",
              " array([[-676.1327   , -676.1327   , -617.9799   , ...,    0.       ,\n",
              "            0.       ,    0.       ],\n",
              "        [   0.       ,    0.       ,   78.013306 , ...,    0.       ,\n",
              "            0.       ,    0.       ],\n",
              "        [   0.       ,    0.       ,   66.15651  , ...,    0.       ,\n",
              "            0.       ,    0.       ],\n",
              "        ...,\n",
              "        [   0.       ,    0.       ,   -0.7824489, ...,    0.       ,\n",
              "            0.       ,    0.       ],\n",
              "        [   0.       ,    0.       ,   -4.674163 , ...,    0.       ,\n",
              "            0.       ,    0.       ],\n",
              "        [   0.       ,    0.       ,   -6.6625843, ...,    0.       ,\n",
              "            0.       ,    0.       ]], dtype=float32),\n",
              " array([[-726.2205  , -726.2205  , -726.2205  , ..., -644.22034 ,\n",
              "         -647.36926 , -656.62805 ],\n",
              "        [   0.      ,    0.      ,    0.      , ...,  100.92151 ,\n",
              "           99.173676,   88.441055],\n",
              "        [   0.      ,    0.      ,    0.      , ...,   90.771805,\n",
              "           88.57376 ,   78.82764 ],\n",
              "        ...,\n",
              "        [   0.      ,    0.      ,    0.      , ...,   20.925484,\n",
              "           20.87202 ,   20.194614],\n",
              "        [   0.      ,    0.      ,    0.      , ...,   25.097828,\n",
              "           23.986916,   21.576656],\n",
              "        [   0.      ,    0.      ,    0.      , ...,   16.329178,\n",
              "           16.644867,   14.806899]], dtype=float32),\n",
              " array([[-786.13806  , -786.13806  , -756.6317   , ...,    0.       ,\n",
              "            0.       ,    0.       ],\n",
              "        [   0.       ,    0.       ,   38.59578  , ...,    0.       ,\n",
              "            0.       ,    0.       ],\n",
              "        [   0.       ,    0.       ,   40.135887 , ...,    0.       ,\n",
              "            0.       ,    0.       ],\n",
              "        ...,\n",
              "        [   0.       ,    0.       ,   -1.5038201, ...,    0.       ,\n",
              "            0.       ,    0.       ],\n",
              "        [   0.       ,    0.       ,   -3.064804 , ...,    0.       ,\n",
              "            0.       ,    0.       ],\n",
              "        [   0.       ,    0.       ,   -2.69895  , ...,    0.       ,\n",
              "            0.       ,    0.       ]], dtype=float32),\n",
              " array([[-8.5383160e+02, -8.5275067e+02, -7.8290808e+02, ...,\n",
              "          0.0000000e+00,  0.0000000e+00,  0.0000000e+00],\n",
              "        [ 0.0000000e+00,  1.4985460e+00,  9.2950165e+01, ...,\n",
              "          0.0000000e+00,  0.0000000e+00,  0.0000000e+00],\n",
              "        [ 0.0000000e+00,  1.4093392e+00,  7.3731087e+01, ...,\n",
              "          0.0000000e+00,  0.0000000e+00,  0.0000000e+00],\n",
              "        ...,\n",
              "        [ 0.0000000e+00, -1.1398492e+00, -2.4538691e+00, ...,\n",
              "          0.0000000e+00,  0.0000000e+00,  0.0000000e+00],\n",
              "        [ 0.0000000e+00, -1.0158403e+00, -6.8796411e+00, ...,\n",
              "          0.0000000e+00,  0.0000000e+00,  0.0000000e+00],\n",
              "        [ 0.0000000e+00, -8.4844089e-01, -7.6073685e+00, ...,\n",
              "          0.0000000e+00,  0.0000000e+00,  0.0000000e+00]], dtype=float32),\n",
              " array([[-724.397    , -724.397    , -700.04724  , ...,    0.       ,\n",
              "            0.       ,    0.       ],\n",
              "        [   0.       ,    0.       ,   26.343029 , ...,    0.       ,\n",
              "            0.       ,    0.       ],\n",
              "        [   0.       ,    0.       ,   20.264217 , ...,    0.       ,\n",
              "            0.       ,    0.       ],\n",
              "        ...,\n",
              "        [   0.       ,    0.       ,   -1.7110958, ...,    0.       ,\n",
              "            0.       ,    0.       ],\n",
              "        [   0.       ,    0.       ,   -6.6393003, ...,    0.       ,\n",
              "            0.       ,    0.       ],\n",
              "        [   0.       ,    0.       ,   -2.1617324, ...,    0.       ,\n",
              "            0.       ,    0.       ]], dtype=float32),\n",
              " array([[-7.4434082e+02, -6.8121497e+02, -4.5491327e+02, ...,\n",
              "          0.0000000e+00,  0.0000000e+00,  0.0000000e+00],\n",
              "        [ 0.0000000e+00,  5.0123909e+01,  1.7515915e+02, ...,\n",
              "          0.0000000e+00,  0.0000000e+00,  0.0000000e+00],\n",
              "        [ 0.0000000e+00,  8.5597458e+00, -7.9100428e+00, ...,\n",
              "          0.0000000e+00,  0.0000000e+00,  0.0000000e+00],\n",
              "        ...,\n",
              "        [ 0.0000000e+00, -5.4002070e+00, -2.4007137e+01, ...,\n",
              "          0.0000000e+00,  0.0000000e+00,  0.0000000e+00],\n",
              "        [ 0.0000000e+00,  1.6165709e+01,  5.8072507e-03, ...,\n",
              "          0.0000000e+00,  0.0000000e+00,  0.0000000e+00],\n",
              "        [ 0.0000000e+00,  1.9821690e+01,  2.4005988e+00, ...,\n",
              "          0.0000000e+00,  0.0000000e+00,  0.0000000e+00]], dtype=float32),\n",
              " array([[-7.5422888e+02, -7.5422888e+02, -7.3326074e+02, ...,\n",
              "          0.0000000e+00,  0.0000000e+00,  0.0000000e+00],\n",
              "        [ 0.0000000e+00,  0.0000000e+00,  2.9463896e+01, ...,\n",
              "          0.0000000e+00,  0.0000000e+00,  0.0000000e+00],\n",
              "        [ 0.0000000e+00,  0.0000000e+00,  2.8900436e+01, ...,\n",
              "          0.0000000e+00,  0.0000000e+00,  0.0000000e+00],\n",
              "        ...,\n",
              "        [ 0.0000000e+00,  0.0000000e+00,  1.1899424e+00, ...,\n",
              "          0.0000000e+00,  0.0000000e+00,  0.0000000e+00],\n",
              "        [ 0.0000000e+00,  0.0000000e+00,  5.5961855e-02, ...,\n",
              "          0.0000000e+00,  0.0000000e+00,  0.0000000e+00],\n",
              "        [ 0.0000000e+00,  0.0000000e+00, -8.4574419e-01, ...,\n",
              "          0.0000000e+00,  0.0000000e+00,  0.0000000e+00]], dtype=float32),\n",
              " array([[-7.3335645e+02, -7.3335645e+02, -7.2387518e+02, ...,\n",
              "         -5.0072318e+02, -5.3611694e+02, -5.5373950e+02],\n",
              "        [ 0.0000000e+00,  0.0000000e+00,  1.3252203e+01, ...,\n",
              "          1.7626730e+02,  1.6920322e+02,  1.7534496e+02],\n",
              "        [ 0.0000000e+00,  0.0000000e+00,  1.2788224e+01, ...,\n",
              "          1.3801056e+01,  2.3213148e+01,  4.1981388e+01],\n",
              "        ...,\n",
              "        [ 0.0000000e+00,  0.0000000e+00, -6.8491087e+00, ...,\n",
              "         -2.0697624e+01, -1.6023052e+01, -1.0690390e+01],\n",
              "        [ 0.0000000e+00,  0.0000000e+00, -7.1941700e+00, ...,\n",
              "          3.3841820e+00, -1.2373805e-02, -4.2830429e+00],\n",
              "        [ 0.0000000e+00,  0.0000000e+00, -7.3103595e+00, ...,\n",
              "          1.4265707e+00,  5.4565458e+00,  4.3515453e+00]], dtype=float32),\n",
              " array([[-712.1186   , -712.1186   , -705.49945  , ..., -411.8938   ,\n",
              "         -412.65955  , -406.62747  ],\n",
              "        [   0.       ,    0.       ,    9.333717 , ...,  203.17114  ,\n",
              "          196.24133  ,  192.76645  ],\n",
              "        [   0.       ,    0.       ,    9.252411 , ...,  -69.99906  ,\n",
              "          -76.46369  ,  -87.84642  ],\n",
              "        ...,\n",
              "        [   0.       ,    0.       ,    3.3160834, ...,  -13.732059 ,\n",
              "           -9.759811 ,   -4.5861936],\n",
              "        [   0.       ,    0.       ,    2.7962384, ...,  -11.781481 ,\n",
              "           -5.694841 ,    6.9952145],\n",
              "        [   0.       ,    0.       ,    2.2881958, ...,   12.353558 ,\n",
              "           15.920452 ,   16.024763 ]], dtype=float32),\n",
              " array([[-8.17507080e+02, -8.17430298e+02, -7.89356934e+02, ...,\n",
              "         -6.76737427e+02, -7.18267334e+02, -7.50747131e+02],\n",
              "        [ 0.00000000e+00,  1.08068042e-01,  3.79267502e+01, ...,\n",
              "          4.46923752e+01,  4.61480331e+01,  3.97037277e+01],\n",
              "        [ 0.00000000e+00,  1.06567271e-01,  3.81665573e+01, ...,\n",
              "          3.51826262e+00,  1.18271866e+01,  2.24947281e+01],\n",
              "        ...,\n",
              "        [ 0.00000000e+00, -3.35299224e-03, -3.92641258e+00, ...,\n",
              "          6.43881416e+00, -2.91803288e+00,  1.01749897e+00],\n",
              "        [ 0.00000000e+00, -1.29827634e-02, -4.90048838e+00, ...,\n",
              "          2.54347610e+01,  1.70502853e+01,  1.02834835e+01],\n",
              "        [ 0.00000000e+00, -2.23823227e-02, -5.02592754e+00, ...,\n",
              "          1.06142750e+01,  1.31325560e+01,  1.36796513e+01]], dtype=float32),\n",
              " array([[-727.58716  , -727.58716  , -615.89545  , ..., -641.3748   ,\n",
              "         -652.76117  , -663.50946  ],\n",
              "        [   0.       ,    0.       ,   93.82888  , ...,  107.69726  ,\n",
              "           96.59027  ,   84.901726 ],\n",
              "        [   0.       ,    0.       ,   22.493088 , ...,   73.728424 ,\n",
              "           72.133194 ,   68.80534  ],\n",
              "        ...,\n",
              "        [   0.       ,    0.       ,    5.5943375, ...,   26.156937 ,\n",
              "           23.537329 ,   21.06098  ],\n",
              "        [   0.       ,    0.       ,    4.647045 , ...,   31.859783 ,\n",
              "           24.351046 ,   19.342197 ],\n",
              "        [   0.       ,    0.       ,   -1.9686152, ...,   24.885801 ,\n",
              "           19.035812 ,   16.025658 ]], dtype=float32),\n",
              " array([[-7.5819141e+02, -7.5743683e+02, -7.2244397e+02, ...,\n",
              "          0.0000000e+00,  0.0000000e+00,  0.0000000e+00],\n",
              "        [ 0.0000000e+00,  1.0599829e+00,  4.7345737e+01, ...,\n",
              "          0.0000000e+00,  0.0000000e+00,  0.0000000e+00],\n",
              "        [ 0.0000000e+00,  1.0386412e+00,  4.6511513e+01, ...,\n",
              "          0.0000000e+00,  0.0000000e+00,  0.0000000e+00],\n",
              "        ...,\n",
              "        [ 0.0000000e+00, -2.3238572e-01, -8.9899254e+00, ...,\n",
              "          0.0000000e+00,  0.0000000e+00,  0.0000000e+00],\n",
              "        [ 0.0000000e+00, -3.0941355e-01, -6.9869823e+00, ...,\n",
              "          0.0000000e+00,  0.0000000e+00,  0.0000000e+00],\n",
              "        [ 0.0000000e+00, -3.7739056e-01, -5.3888426e+00, ...,\n",
              "          0.0000000e+00,  0.0000000e+00,  0.0000000e+00]], dtype=float32),\n",
              " array([[-756.09515  , -756.09515  , -708.40845  , ...,    0.       ,\n",
              "            0.       ,    0.       ],\n",
              "        [   0.       ,    0.       ,   55.01496  , ...,    0.       ,\n",
              "            0.       ,    0.       ],\n",
              "        [   0.       ,    0.       ,   33.834343 , ...,    0.       ,\n",
              "            0.       ,    0.       ],\n",
              "        ...,\n",
              "        [   0.       ,    0.       ,  -10.950472 , ...,    0.       ,\n",
              "            0.       ,    0.       ],\n",
              "        [   0.       ,    0.       ,  -12.757856 , ...,    0.       ,\n",
              "            0.       ,    0.       ],\n",
              "        [   0.       ,    0.       ,   -5.3535852, ...,    0.       ,\n",
              "            0.       ,    0.       ]], dtype=float32),\n",
              " array([[-681.63776   , -681.63776   , -651.6857    , ...,    0.        ,\n",
              "            0.        ,    0.        ],\n",
              "        [   0.        ,    0.        ,   41.680332  , ...,    0.        ,\n",
              "            0.        ,    0.        ],\n",
              "        [   0.        ,    0.        ,   39.696297  , ...,    0.        ,\n",
              "            0.        ,    0.        ],\n",
              "        ...,\n",
              "        [   0.        ,    0.        ,   -2.0020986 , ...,    0.        ,\n",
              "            0.        ,    0.        ],\n",
              "        [   0.        ,    0.        ,   -1.4832084 , ...,    0.        ,\n",
              "            0.        ,    0.        ],\n",
              "        [   0.        ,    0.        ,   -0.91936755, ...,    0.        ,\n",
              "            0.        ,    0.        ]], dtype=float32),\n",
              " array([[-6.9383099e+02, -6.9383099e+02, -6.7579346e+02, ...,\n",
              "         -5.9401654e+02, -6.0512439e+02, -6.2460425e+02],\n",
              "        [ 0.0000000e+00,  0.0000000e+00,  1.9769165e+01, ...,\n",
              "          8.9821541e+01,  8.5737572e+01,  7.0142563e+01],\n",
              "        [ 0.0000000e+00,  0.0000000e+00,  1.0655983e+01, ...,\n",
              "          3.9127815e+01,  5.0237785e+01,  4.6390747e+01],\n",
              "        ...,\n",
              "        [ 0.0000000e+00,  0.0000000e+00, -3.6028771e+00, ...,\n",
              "         -1.4711054e+01, -8.8151131e+00, -5.7316456e+00],\n",
              "        [ 0.0000000e+00,  0.0000000e+00, -3.1270690e+00, ...,\n",
              "         -4.4941223e-01,  7.0658336e+00,  6.1578631e+00],\n",
              "        [ 0.0000000e+00,  0.0000000e+00,  6.4574790e-01, ...,\n",
              "          2.4757588e+00,  7.2290320e+00,  7.8361588e+00]], dtype=float32),\n",
              " array([[-6.7370282e+02, -6.7370282e+02, -5.8972131e+02, ...,\n",
              "          0.0000000e+00,  0.0000000e+00,  0.0000000e+00],\n",
              "        [ 0.0000000e+00,  0.0000000e+00,  9.9289085e+01, ...,\n",
              "          0.0000000e+00,  0.0000000e+00,  0.0000000e+00],\n",
              "        [ 0.0000000e+00,  0.0000000e+00,  5.6876747e+01, ...,\n",
              "          0.0000000e+00,  0.0000000e+00,  0.0000000e+00],\n",
              "        ...,\n",
              "        [ 0.0000000e+00,  0.0000000e+00, -9.0096481e-02, ...,\n",
              "          0.0000000e+00,  0.0000000e+00,  0.0000000e+00],\n",
              "        [ 0.0000000e+00,  0.0000000e+00,  3.4719640e-01, ...,\n",
              "          0.0000000e+00,  0.0000000e+00,  0.0000000e+00],\n",
              "        [ 0.0000000e+00,  0.0000000e+00,  2.0321111e-01, ...,\n",
              "          0.0000000e+00,  0.0000000e+00,  0.0000000e+00]], dtype=float32),\n",
              " array([[-681.81287   , -681.27136   , -643.43835   , ...,    0.        ,\n",
              "            0.        ,    0.        ],\n",
              "        [   0.        ,    0.765499  ,   53.346066  , ...,    0.        ,\n",
              "            0.        ,    0.        ],\n",
              "        [   0.        ,    0.76479125,   50.638245  , ...,    0.        ,\n",
              "            0.        ,    0.        ],\n",
              "        ...,\n",
              "        [   0.        ,    0.69938385,   -5.013283  , ...,    0.        ,\n",
              "            0.        ,    0.        ],\n",
              "        [   0.        ,    0.69160354,   -3.3904746 , ...,    0.        ,\n",
              "            0.        ,    0.        ],\n",
              "        [   0.        ,    0.68343747,   -1.7968087 , ...,    0.        ,\n",
              "            0.        ,    0.        ]], dtype=float32),\n",
              " array([[-7.2833826e+02, -7.2833826e+02, -6.7927875e+02, ...,\n",
              "          0.0000000e+00,  0.0000000e+00,  0.0000000e+00],\n",
              "        [ 0.0000000e+00,  0.0000000e+00,  1.8453979e+01, ...,\n",
              "          0.0000000e+00,  0.0000000e+00,  0.0000000e+00],\n",
              "        [ 0.0000000e+00,  0.0000000e+00, -1.7447470e+01, ...,\n",
              "          0.0000000e+00,  0.0000000e+00,  0.0000000e+00],\n",
              "        ...,\n",
              "        [ 0.0000000e+00,  0.0000000e+00, -3.8680390e-01, ...,\n",
              "          0.0000000e+00,  0.0000000e+00,  0.0000000e+00],\n",
              "        [ 0.0000000e+00,  0.0000000e+00, -6.5540123e-01, ...,\n",
              "          0.0000000e+00,  0.0000000e+00,  0.0000000e+00],\n",
              "        [ 0.0000000e+00,  0.0000000e+00, -6.5218277e-02, ...,\n",
              "          0.0000000e+00,  0.0000000e+00,  0.0000000e+00]], dtype=float32),\n",
              " array([[-7.6713696e+02, -7.6713696e+02, -7.5754883e+02, ...,\n",
              "         -6.1727985e+02, -6.6902289e+02, -7.0352850e+02],\n",
              "        [ 0.0000000e+00,  0.0000000e+00,  7.3906040e+00, ...,\n",
              "          9.7790985e+01,  7.7327087e+01,  4.9497784e+01],\n",
              "        [ 0.0000000e+00,  0.0000000e+00,  1.1807072e+01, ...,\n",
              "          1.3471338e+01,  2.8119753e+01,  3.2440659e+01],\n",
              "        ...,\n",
              "        [ 0.0000000e+00,  0.0000000e+00,  1.3698894e+00, ...,\n",
              "          4.5230761e+00,  6.8807135e+00,  5.0239429e+00],\n",
              "        [ 0.0000000e+00,  0.0000000e+00,  2.9119761e+00, ...,\n",
              "         -1.2613660e-01,  1.2333628e+01,  6.2645359e+00],\n",
              "        [ 0.0000000e+00,  0.0000000e+00, -9.6539772e-01, ...,\n",
              "          6.0168982e-02,  6.6174340e+00, -8.6270466e+00]], dtype=float32),\n",
              " array([[-818.6893, -818.6893, -818.6893, ...,    0.    ,    0.    ,\n",
              "            0.    ],\n",
              "        [   0.    ,    0.    ,    0.    , ...,    0.    ,    0.    ,\n",
              "            0.    ],\n",
              "        [   0.    ,    0.    ,    0.    , ...,    0.    ,    0.    ,\n",
              "            0.    ],\n",
              "        ...,\n",
              "        [   0.    ,    0.    ,    0.    , ...,    0.    ,    0.    ,\n",
              "            0.    ],\n",
              "        [   0.    ,    0.    ,    0.    , ...,    0.    ,    0.    ,\n",
              "            0.    ],\n",
              "        [   0.    ,    0.    ,    0.    , ...,    0.    ,    0.    ,\n",
              "            0.    ]], dtype=float32),\n",
              " array([[-8.66076233e+02, -8.66076233e+02, -8.42621704e+02, ...,\n",
              "         -7.89398071e+02, -8.13907166e+02, -8.30838867e+02],\n",
              "        [ 0.00000000e+00,  0.00000000e+00,  2.79696579e+01, ...,\n",
              "         -4.51540680e+01, -9.22873116e+00,  9.91143417e+00],\n",
              "        [ 0.00000000e+00,  0.00000000e+00,  2.83338585e+01, ...,\n",
              "          3.67396431e+01,  3.13941498e+01,  2.31962109e+01],\n",
              "        ...,\n",
              "        [ 0.00000000e+00,  0.00000000e+00, -3.52257633e+00, ...,\n",
              "          1.18789482e+01,  1.00914726e+01,  4.53147888e+00],\n",
              "        [ 0.00000000e+00,  0.00000000e+00,  1.39052343e+00, ...,\n",
              "         -4.35047293e+00, -9.24001312e+00, -1.18794365e+01],\n",
              "        [ 0.00000000e+00,  0.00000000e+00, -1.16449833e+00, ...,\n",
              "          7.03850508e-01,  2.16462994e+00, -2.85965824e+00]], dtype=float32),\n",
              " array([[-8.4646094e+02, -8.4646094e+02, -7.8564502e+02, ...,\n",
              "          0.0000000e+00,  0.0000000e+00,  0.0000000e+00],\n",
              "        [ 0.0000000e+00,  0.0000000e+00,  6.4145126e+01, ...,\n",
              "          0.0000000e+00,  0.0000000e+00,  0.0000000e+00],\n",
              "        [ 0.0000000e+00,  0.0000000e+00,  4.1591660e+01, ...,\n",
              "          0.0000000e+00,  0.0000000e+00,  0.0000000e+00],\n",
              "        ...,\n",
              "        [ 0.0000000e+00,  0.0000000e+00, -1.2076694e-01, ...,\n",
              "          0.0000000e+00,  0.0000000e+00,  0.0000000e+00],\n",
              "        [ 0.0000000e+00,  0.0000000e+00,  4.4600434e+00, ...,\n",
              "          0.0000000e+00,  0.0000000e+00,  0.0000000e+00],\n",
              "        [ 0.0000000e+00,  0.0000000e+00, -4.8870447e-01, ...,\n",
              "          0.0000000e+00,  0.0000000e+00,  0.0000000e+00]], dtype=float32),\n",
              " array([[-8.3312354e+02, -8.3312354e+02, -8.1709802e+02, ...,\n",
              "          0.0000000e+00,  0.0000000e+00,  0.0000000e+00],\n",
              "        [ 0.0000000e+00,  0.0000000e+00,  2.0327938e+01, ...,\n",
              "          0.0000000e+00,  0.0000000e+00,  0.0000000e+00],\n",
              "        [ 0.0000000e+00,  0.0000000e+00,  1.8826151e+01, ...,\n",
              "          0.0000000e+00,  0.0000000e+00,  0.0000000e+00],\n",
              "        ...,\n",
              "        [ 0.0000000e+00,  0.0000000e+00,  1.8712394e+00, ...,\n",
              "          0.0000000e+00,  0.0000000e+00,  0.0000000e+00],\n",
              "        [ 0.0000000e+00,  0.0000000e+00,  7.2250855e-01, ...,\n",
              "          0.0000000e+00,  0.0000000e+00,  0.0000000e+00],\n",
              "        [ 0.0000000e+00,  0.0000000e+00, -1.5418980e+00, ...,\n",
              "          0.0000000e+00,  0.0000000e+00,  0.0000000e+00]], dtype=float32),\n",
              " array([[-7.7244501e+02, -7.7040118e+02, -7.3336847e+02, ...,\n",
              "          0.0000000e+00,  0.0000000e+00,  0.0000000e+00],\n",
              "        [ 0.0000000e+00,  2.8786855e+00,  5.4440971e+01, ...,\n",
              "          0.0000000e+00,  0.0000000e+00,  0.0000000e+00],\n",
              "        [ 0.0000000e+00,  2.8438768e+00,  5.2035759e+01, ...,\n",
              "          0.0000000e+00,  0.0000000e+00,  0.0000000e+00],\n",
              "        ...,\n",
              "        [ 0.0000000e+00,  8.2295561e-01,  1.3039813e+00, ...,\n",
              "          0.0000000e+00,  0.0000000e+00,  0.0000000e+00],\n",
              "        [ 0.0000000e+00,  7.0008016e-01,  1.6846880e+00, ...,\n",
              "          0.0000000e+00,  0.0000000e+00,  0.0000000e+00],\n",
              "        [ 0.0000000e+00,  5.8938980e-01,  1.9380959e+00, ...,\n",
              "          0.0000000e+00,  0.0000000e+00,  0.0000000e+00]], dtype=float32),\n",
              " array([[-8.96112244e+02, -8.95294861e+02, -8.54697815e+02, ...,\n",
              "         -5.45731506e+02, -5.61775024e+02, -7.64442810e+02],\n",
              "        [ 0.00000000e+00,  1.14982951e+00,  4.79778595e+01, ...,\n",
              "          1.00854004e+02,  6.38133354e+01,  3.17153053e+01],\n",
              "        [ 0.00000000e+00,  1.13174295e+00,  3.15684586e+01, ...,\n",
              "         -1.13086426e+02, -1.13853920e+02, -6.84638824e+01],\n",
              "        ...,\n",
              "        [ 0.00000000e+00, -1.49765134e-01, -1.10395908e-01, ...,\n",
              "         -7.75547647e+00, -1.11471882e+01, -1.31406078e+01],\n",
              "        [ 0.00000000e+00, -2.56041855e-01, -3.77189779e+00, ...,\n",
              "         -2.32920933e+00,  8.94210052e+00,  1.34216380e+00],\n",
              "        [ 0.00000000e+00, -3.58252525e-01, -3.22067595e+00, ...,\n",
              "         -1.01775475e+01, -1.38067379e+01, -1.97117996e+00]], dtype=float32),\n",
              " array([[-807.43463   , -807.43463   , -770.85126   , ...,    0.        ,\n",
              "            0.        ,    0.        ],\n",
              "        [   0.        ,    0.        ,   40.557747  , ...,    0.        ,\n",
              "            0.        ,    0.        ],\n",
              "        [   0.        ,    0.        ,   21.475016  , ...,    0.        ,\n",
              "            0.        ,    0.        ],\n",
              "        ...,\n",
              "        [   0.        ,    0.        ,   -0.91073227, ...,    0.        ,\n",
              "            0.        ,    0.        ],\n",
              "        [   0.        ,    0.        ,   -3.5457706 , ...,    0.        ,\n",
              "            0.        ,    0.        ],\n",
              "        [   0.        ,    0.        ,   -1.161762  , ...,    0.        ,\n",
              "            0.        ,    0.        ]], dtype=float32),\n",
              " array([[-817.0586   , -817.0586   , -759.7299   , ...,    0.       ,\n",
              "            0.       ,    0.       ],\n",
              "        [   0.       ,    0.       ,   58.637154 , ...,    0.       ,\n",
              "            0.       ,    0.       ],\n",
              "        [   0.       ,    0.       ,   41.62707  , ...,    0.       ,\n",
              "            0.       ,    0.       ],\n",
              "        ...,\n",
              "        [   0.       ,    0.       ,    1.9674906, ...,    0.       ,\n",
              "            0.       ,    0.       ],\n",
              "        [   0.       ,    0.       ,   -2.216659 , ...,    0.       ,\n",
              "            0.       ,    0.       ],\n",
              "        [   0.       ,    0.       ,   -2.3881598, ...,    0.       ,\n",
              "            0.       ,    0.       ]], dtype=float32),\n",
              " array([[-7.5853552e+02, -7.5853552e+02, -7.3322650e+02, ...,\n",
              "          0.0000000e+00,  0.0000000e+00,  0.0000000e+00],\n",
              "        [ 0.0000000e+00,  0.0000000e+00,  2.4102718e+01, ...,\n",
              "          0.0000000e+00,  0.0000000e+00,  0.0000000e+00],\n",
              "        [ 0.0000000e+00,  0.0000000e+00,  2.1687386e+01, ...,\n",
              "          0.0000000e+00,  0.0000000e+00,  0.0000000e+00],\n",
              "        ...,\n",
              "        [ 0.0000000e+00,  0.0000000e+00, -2.6107023e+00, ...,\n",
              "          0.0000000e+00,  0.0000000e+00,  0.0000000e+00],\n",
              "        [ 0.0000000e+00,  0.0000000e+00, -8.5783443e+00, ...,\n",
              "          0.0000000e+00,  0.0000000e+00,  0.0000000e+00],\n",
              "        [ 0.0000000e+00,  0.0000000e+00, -6.1908662e-02, ...,\n",
              "          0.0000000e+00,  0.0000000e+00,  0.0000000e+00]], dtype=float32),\n",
              " array([[-818.7342   , -815.2625   , -782.9721   , ...,    0.       ,\n",
              "            0.       ,    0.       ],\n",
              "        [   0.       ,    4.90189  ,   46.843075 , ...,    0.       ,\n",
              "            0.       ,    0.       ],\n",
              "        [   0.       ,    4.878976 ,   45.874763 , ...,    0.       ,\n",
              "            0.       ,    0.       ],\n",
              "        ...,\n",
              "        [   0.       ,    3.3222106,    4.552766 , ...,    0.       ,\n",
              "            0.       ,    0.       ],\n",
              "        [   0.       ,    3.1954894,    5.250824 , ...,    0.       ,\n",
              "            0.       ,    0.       ],\n",
              "        [   0.       ,    3.0724163,    5.0769916, ...,    0.       ,\n",
              "            0.       ,    0.       ]], dtype=float32),\n",
              " array([[-813.79156  , -813.79156  , -800.05505  , ...,    0.       ,\n",
              "            0.       ,    0.       ],\n",
              "        [   0.       ,    0.       ,   17.631454 , ...,    0.       ,\n",
              "            0.       ,    0.       ],\n",
              "        [   0.       ,    0.       ,   18.985138 , ...,    0.       ,\n",
              "            0.       ,    0.       ],\n",
              "        ...,\n",
              "        [   0.       ,    0.       ,    4.0048227, ...,    0.       ,\n",
              "            0.       ,    0.       ],\n",
              "        [   0.       ,    0.       ,    1.8288679, ...,    0.       ,\n",
              "            0.       ,    0.       ],\n",
              "        [   0.       ,    0.       ,    2.0234275, ...,    0.       ,\n",
              "            0.       ,    0.       ]], dtype=float32),\n",
              " array([[-9.0967432e+02, -9.0967432e+02, -8.7402521e+02, ...,\n",
              "          0.0000000e+00,  0.0000000e+00,  0.0000000e+00],\n",
              "        [ 0.0000000e+00,  0.0000000e+00,  4.6061825e+01, ...,\n",
              "          0.0000000e+00,  0.0000000e+00,  0.0000000e+00],\n",
              "        [ 0.0000000e+00,  0.0000000e+00,  4.6592503e+01, ...,\n",
              "          0.0000000e+00,  0.0000000e+00,  0.0000000e+00],\n",
              "        ...,\n",
              "        [ 0.0000000e+00,  0.0000000e+00,  2.5123503e+00, ...,\n",
              "          0.0000000e+00,  0.0000000e+00,  0.0000000e+00],\n",
              "        [ 0.0000000e+00,  0.0000000e+00,  5.4204583e-01, ...,\n",
              "          0.0000000e+00,  0.0000000e+00,  0.0000000e+00],\n",
              "        [ 0.0000000e+00,  0.0000000e+00,  2.6554556e+00, ...,\n",
              "          0.0000000e+00,  0.0000000e+00,  0.0000000e+00]], dtype=float32),\n",
              " array([[-9.0399817e+02, -9.0399817e+02, -8.9083832e+02, ...,\n",
              "         -7.2561395e+02, -7.1339917e+02, -7.0878778e+02],\n",
              "        [ 0.0000000e+00,  0.0000000e+00,  1.8500780e+01, ...,\n",
              "          1.4523050e+02,  1.5091476e+02,  1.4229124e+02],\n",
              "        [ 0.0000000e+00,  0.0000000e+00,  1.8172804e+01, ...,\n",
              "         -1.5616822e+01, -8.2797127e+00, -1.1512733e+01],\n",
              "        ...,\n",
              "        [ 0.0000000e+00,  0.0000000e+00,  3.5082561e-01, ...,\n",
              "         -1.6461582e+01, -1.0503236e+01, -4.1151772e+00],\n",
              "        [ 0.0000000e+00,  0.0000000e+00, -5.4070359e-01, ...,\n",
              "          1.7972311e+00,  1.0223057e+01,  8.8560858e+00],\n",
              "        [ 0.0000000e+00,  0.0000000e+00, -1.2837825e+00, ...,\n",
              "          1.3613244e+01,  1.2695520e+01,  6.2161651e+00]], dtype=float32),\n",
              " array([[-7.9976294e+02, -7.9953235e+02, -7.9951196e+02, ...,\n",
              "          0.0000000e+00,  0.0000000e+00,  0.0000000e+00],\n",
              "        [ 0.0000000e+00, -1.7109641e-01, -1.8622410e-01, ...,\n",
              "          0.0000000e+00,  0.0000000e+00,  0.0000000e+00],\n",
              "        [ 0.0000000e+00, -1.4664195e-01, -1.5960662e-01, ...,\n",
              "          0.0000000e+00,  0.0000000e+00,  0.0000000e+00],\n",
              "        ...,\n",
              "        [ 0.0000000e+00, -1.2004569e-02, -1.3066173e-02, ...,\n",
              "          0.0000000e+00,  0.0000000e+00,  0.0000000e+00],\n",
              "        [ 0.0000000e+00,  2.8378123e-01,  3.0887038e-01, ...,\n",
              "          0.0000000e+00,  0.0000000e+00,  0.0000000e+00],\n",
              "        [ 0.0000000e+00, -2.8573287e-01, -3.1099612e-01, ...,\n",
              "          0.0000000e+00,  0.0000000e+00,  0.0000000e+00]], dtype=float32)]"
            ]
          },
          "metadata": {},
          "execution_count": 101
        }
      ],
      "source": [
        "normal_features"
      ]
    },
    {
      "cell_type": "markdown",
      "metadata": {
        "id": "tI_F6VvQBQSC"
      },
      "source": [
        "## Assign labels to 'normal' and 'abnormal' features\n",
        "#### Creating featurer matrix X and label array y\n",
        "#### '1' reprsent abnormal and '0' represent normal"
      ]
    },
    {
      "cell_type": "code",
      "execution_count": null,
      "metadata": {
        "id": "PJsZVQgn-qjb"
      },
      "outputs": [],
      "source": [
        "abnormal_labels = np.ones(len(abnormal_features))\n",
        "normal_labels = np.zeros(len(normal_features))\n",
        "X = np.vstack((abnormal_features, normal_features))\n",
        "y = np.hstack((abnormal_labels, normal_labels))"
      ]
    },
    {
      "cell_type": "code",
      "execution_count": null,
      "metadata": {
        "colab": {
          "base_uri": "https://localhost:8080/"
        },
        "id": "MBzYUU1DQS4_",
        "outputId": "b8bf920e-d723-417d-ed9a-f6cdf53e73e6"
      },
      "outputs": [
        {
          "output_type": "execute_result",
          "data": {
            "text/plain": [
              "array([1., 1., 1., 1., 1., 1., 1., 1., 1., 1., 1., 1., 1., 1., 1., 1., 1.,\n",
              "       1., 1., 1., 1., 1., 1., 1., 1., 1., 1., 1., 1., 1., 1., 1., 1., 1.,\n",
              "       1., 1., 1., 1., 1., 1., 1., 1., 1., 1., 1., 1., 1., 1., 1., 1., 1.,\n",
              "       1., 1., 1., 1., 1., 1.])"
            ]
          },
          "metadata": {},
          "execution_count": 103
        }
      ],
      "source": [
        "abnormal_labels"
      ]
    },
    {
      "cell_type": "code",
      "execution_count": null,
      "metadata": {
        "colab": {
          "base_uri": "https://localhost:8080/"
        },
        "id": "lM2I7G8jSQOg",
        "outputId": "a7d1e334-92cf-4e87-acea-89d7206cf480"
      },
      "outputs": [
        {
          "output_type": "execute_result",
          "data": {
            "text/plain": [
              "array([0., 0., 0., 0., 0., 0., 0., 0., 0., 0., 0., 0., 0., 0., 0., 0., 0.,\n",
              "       0., 0., 0., 0., 0., 0., 0., 0., 0., 0., 0., 0., 0., 0., 0., 0., 0.,\n",
              "       0., 0., 0., 0., 0., 0., 0., 0., 0., 0., 0., 0., 0., 0., 0., 0., 0.,\n",
              "       0., 0., 0., 0.])"
            ]
          },
          "metadata": {},
          "execution_count": 104
        }
      ],
      "source": [
        "normal_labels"
      ]
    },
    {
      "cell_type": "markdown",
      "metadata": {
        "id": "AbdVvxsoCAZr"
      },
      "source": [
        "# Splitting data into Training and Testing"
      ]
    },
    {
      "cell_type": "code",
      "execution_count": null,
      "metadata": {
        "id": "RFB23FCVCCz-"
      },
      "outputs": [],
      "source": [
        "X_train, X_test, y_train, y_test = train_test_split(X, y, test_size=0.2, random_state=42)"
      ]
    },
    {
      "cell_type": "code",
      "execution_count": null,
      "metadata": {
        "colab": {
          "base_uri": "https://localhost:8080/"
        },
        "id": "7v9K_t_jSbsh",
        "outputId": "da261a31-a99d-41ca-d9ee-f6c4878fe6ab"
      },
      "outputs": [
        {
          "output_type": "execute_result",
          "data": {
            "text/plain": [
              "array([[[-7.59208252e+02, -7.59208252e+02, -7.31753479e+02, ...,\n",
              "         -6.62804199e+02, -6.85218384e+02, -6.98765442e+02],\n",
              "        [ 0.00000000e+00,  0.00000000e+00,  3.57277756e+01, ...,\n",
              "         -2.39617195e+01, -1.36370049e+01,  1.46834011e+01],\n",
              "        [ 0.00000000e+00,  0.00000000e+00,  3.70580368e+01, ...,\n",
              "         -3.61456060e+00, -1.01650963e+01,  8.31125832e+00],\n",
              "        ...,\n",
              "        [ 0.00000000e+00,  0.00000000e+00,  1.31009018e+00, ...,\n",
              "          4.73269463e+00,  8.93187523e+00, -3.96058083e-01],\n",
              "        [ 0.00000000e+00,  0.00000000e+00, -1.41611350e+00, ...,\n",
              "         -9.30277824e+00, -5.60193968e+00, -1.03045158e+01],\n",
              "        [ 0.00000000e+00,  0.00000000e+00, -7.46831656e-01, ...,\n",
              "         -1.40895426e-01, -2.23640823e+00,  2.67756891e+00]],\n",
              "\n",
              "       [[-7.58191406e+02, -7.57436829e+02, -7.22443970e+02, ...,\n",
              "          0.00000000e+00,  0.00000000e+00,  0.00000000e+00],\n",
              "        [ 0.00000000e+00,  1.05998290e+00,  4.73457375e+01, ...,\n",
              "          0.00000000e+00,  0.00000000e+00,  0.00000000e+00],\n",
              "        [ 0.00000000e+00,  1.03864121e+00,  4.65115128e+01, ...,\n",
              "          0.00000000e+00,  0.00000000e+00,  0.00000000e+00],\n",
              "        ...,\n",
              "        [ 0.00000000e+00, -2.32385725e-01, -8.98992538e+00, ...,\n",
              "          0.00000000e+00,  0.00000000e+00,  0.00000000e+00],\n",
              "        [ 0.00000000e+00, -3.09413552e-01, -6.98698235e+00, ...,\n",
              "          0.00000000e+00,  0.00000000e+00,  0.00000000e+00],\n",
              "        [ 0.00000000e+00, -3.77390563e-01, -5.38884258e+00, ...,\n",
              "          0.00000000e+00,  0.00000000e+00,  0.00000000e+00]],\n",
              "\n",
              "       [[-7.77436035e+02, -7.24917542e+02, -4.18769104e+02, ...,\n",
              "          0.00000000e+00,  0.00000000e+00,  0.00000000e+00],\n",
              "        [ 0.00000000e+00, -3.61022294e-01,  5.88922119e+01, ...,\n",
              "          0.00000000e+00,  0.00000000e+00,  0.00000000e+00],\n",
              "        [ 0.00000000e+00, -3.02736397e+01, -8.62659607e+01, ...,\n",
              "          0.00000000e+00,  0.00000000e+00,  0.00000000e+00],\n",
              "        ...,\n",
              "        [ 0.00000000e+00, -3.86175084e+00, -2.75463724e+00, ...,\n",
              "          0.00000000e+00,  0.00000000e+00,  0.00000000e+00],\n",
              "        [ 0.00000000e+00, -2.60483837e+00,  1.39562159e+01, ...,\n",
              "          0.00000000e+00,  0.00000000e+00,  0.00000000e+00],\n",
              "        [ 0.00000000e+00,  5.18984032e+00, -1.13591766e+01, ...,\n",
              "          0.00000000e+00,  0.00000000e+00,  0.00000000e+00]],\n",
              "\n",
              "       ...,\n",
              "\n",
              "       [[-6.81637756e+02, -6.81637756e+02, -6.51685730e+02, ...,\n",
              "          0.00000000e+00,  0.00000000e+00,  0.00000000e+00],\n",
              "        [ 0.00000000e+00,  0.00000000e+00,  4.16803322e+01, ...,\n",
              "          0.00000000e+00,  0.00000000e+00,  0.00000000e+00],\n",
              "        [ 0.00000000e+00,  0.00000000e+00,  3.96962967e+01, ...,\n",
              "          0.00000000e+00,  0.00000000e+00,  0.00000000e+00],\n",
              "        ...,\n",
              "        [ 0.00000000e+00,  0.00000000e+00, -2.00209856e+00, ...,\n",
              "          0.00000000e+00,  0.00000000e+00,  0.00000000e+00],\n",
              "        [ 0.00000000e+00,  0.00000000e+00, -1.48320842e+00, ...,\n",
              "          0.00000000e+00,  0.00000000e+00,  0.00000000e+00],\n",
              "        [ 0.00000000e+00,  0.00000000e+00, -9.19367552e-01, ...,\n",
              "          0.00000000e+00,  0.00000000e+00,  0.00000000e+00]],\n",
              "\n",
              "       [[-8.26076477e+02, -8.26076477e+02, -8.20204407e+02, ...,\n",
              "         -5.90639771e+02, -5.88781860e+02, -5.94993225e+02],\n",
              "        [ 0.00000000e+00,  0.00000000e+00,  8.27346992e+00, ...,\n",
              "          1.01559509e+02,  1.01549500e+02,  1.05147675e+02],\n",
              "        [ 0.00000000e+00,  0.00000000e+00,  8.18118095e+00, ...,\n",
              "          1.03705006e+01,  1.15404224e+01,  2.93480492e+01],\n",
              "        ...,\n",
              "        [ 0.00000000e+00,  0.00000000e+00,  1.93944716e+00, ...,\n",
              "         -1.99874058e+01, -1.98793373e+01, -1.35764198e+01],\n",
              "        [ 0.00000000e+00,  0.00000000e+00,  1.45407617e+00, ...,\n",
              "          2.12998199e+01,  2.58943901e+01,  3.77008286e+01],\n",
              "        [ 0.00000000e+00,  0.00000000e+00,  9.93297338e-01, ...,\n",
              "         -1.47486057e+01, -2.80341358e+01, -3.18405342e+01]],\n",
              "\n",
              "       [[-7.72445007e+02, -7.70401184e+02, -7.33368469e+02, ...,\n",
              "          0.00000000e+00,  0.00000000e+00,  0.00000000e+00],\n",
              "        [ 0.00000000e+00,  2.87868547e+00,  5.44409714e+01, ...,\n",
              "          0.00000000e+00,  0.00000000e+00,  0.00000000e+00],\n",
              "        [ 0.00000000e+00,  2.84387684e+00,  5.20357590e+01, ...,\n",
              "          0.00000000e+00,  0.00000000e+00,  0.00000000e+00],\n",
              "        ...,\n",
              "        [ 0.00000000e+00,  8.22955608e-01,  1.30398130e+00, ...,\n",
              "          0.00000000e+00,  0.00000000e+00,  0.00000000e+00],\n",
              "        [ 0.00000000e+00,  7.00080156e-01,  1.68468797e+00, ...,\n",
              "          0.00000000e+00,  0.00000000e+00,  0.00000000e+00],\n",
              "        [ 0.00000000e+00,  5.89389801e-01,  1.93809593e+00, ...,\n",
              "          0.00000000e+00,  0.00000000e+00,  0.00000000e+00]]],\n",
              "      dtype=float32)"
            ]
          },
          "metadata": {},
          "execution_count": 106
        }
      ],
      "source": [
        "X_train"
      ]
    },
    {
      "cell_type": "code",
      "execution_count": null,
      "metadata": {
        "colab": {
          "base_uri": "https://localhost:8080/"
        },
        "id": "Wwy65zENSb50",
        "outputId": "08e29241-a2a3-4939-9b2f-27c6a0d779c0"
      },
      "outputs": [
        {
          "output_type": "execute_result",
          "data": {
            "text/plain": [
              "array([[[-8.2545874e+02, -8.2545874e+02, -7.7293768e+02, ...,\n",
              "          0.0000000e+00,  0.0000000e+00,  0.0000000e+00],\n",
              "        [ 0.0000000e+00,  0.0000000e+00,  3.0527943e+01, ...,\n",
              "          0.0000000e+00,  0.0000000e+00,  0.0000000e+00],\n",
              "        [ 0.0000000e+00,  0.0000000e+00,  2.1011890e+01, ...,\n",
              "          0.0000000e+00,  0.0000000e+00,  0.0000000e+00],\n",
              "        ...,\n",
              "        [ 0.0000000e+00,  0.0000000e+00, -1.6266323e+01, ...,\n",
              "          0.0000000e+00,  0.0000000e+00,  0.0000000e+00],\n",
              "        [ 0.0000000e+00,  0.0000000e+00,  1.6209894e-01, ...,\n",
              "          0.0000000e+00,  0.0000000e+00,  0.0000000e+00],\n",
              "        [ 0.0000000e+00,  0.0000000e+00,  3.2083044e+00, ...,\n",
              "          0.0000000e+00,  0.0000000e+00,  0.0000000e+00]],\n",
              "\n",
              "       [[-7.8725677e+02, -7.8725677e+02, -7.5053040e+02, ...,\n",
              "         -7.3130811e+02, -7.4808148e+02, -7.4652002e+02],\n",
              "        [ 0.0000000e+00,  0.0000000e+00,  2.3442295e+01, ...,\n",
              "          5.9605202e+01,  4.2159164e+01,  3.7079926e+01],\n",
              "        [ 0.0000000e+00,  0.0000000e+00,  1.4969314e+00, ...,\n",
              "          6.1582886e+01,  4.7850067e+01,  4.7343159e+01],\n",
              "        ...,\n",
              "        [ 0.0000000e+00,  0.0000000e+00, -8.5783081e+00, ...,\n",
              "          7.0600967e+00,  8.7243404e+00,  3.2234135e-01],\n",
              "        [ 0.0000000e+00,  0.0000000e+00, -4.4891372e+00, ...,\n",
              "          9.9424591e+00,  5.9246221e+00, -6.7300153e+00],\n",
              "        [ 0.0000000e+00,  0.0000000e+00,  2.8426814e+00, ...,\n",
              "          1.4294781e+01,  8.7395630e+00, -4.2341189e+00]],\n",
              "\n",
              "       [[-8.1435333e+02, -8.1435333e+02, -8.1435333e+02, ...,\n",
              "          0.0000000e+00,  0.0000000e+00,  0.0000000e+00],\n",
              "        [ 0.0000000e+00,  0.0000000e+00,  0.0000000e+00, ...,\n",
              "          0.0000000e+00,  0.0000000e+00,  0.0000000e+00],\n",
              "        [ 0.0000000e+00,  0.0000000e+00,  0.0000000e+00, ...,\n",
              "          0.0000000e+00,  0.0000000e+00,  0.0000000e+00],\n",
              "        ...,\n",
              "        [ 0.0000000e+00,  0.0000000e+00,  0.0000000e+00, ...,\n",
              "          0.0000000e+00,  0.0000000e+00,  0.0000000e+00],\n",
              "        [ 0.0000000e+00,  0.0000000e+00,  0.0000000e+00, ...,\n",
              "          0.0000000e+00,  0.0000000e+00,  0.0000000e+00],\n",
              "        [ 0.0000000e+00,  0.0000000e+00,  0.0000000e+00, ...,\n",
              "          0.0000000e+00,  0.0000000e+00,  0.0000000e+00]],\n",
              "\n",
              "       ...,\n",
              "\n",
              "       [[-7.1326428e+02, -7.1326428e+02, -7.0523981e+02, ...,\n",
              "          0.0000000e+00,  0.0000000e+00,  0.0000000e+00],\n",
              "        [ 0.0000000e+00,  0.0000000e+00,  1.1249018e+01, ...,\n",
              "          0.0000000e+00,  0.0000000e+00,  0.0000000e+00],\n",
              "        [ 0.0000000e+00,  0.0000000e+00,  1.0953924e+01, ...,\n",
              "          0.0000000e+00,  0.0000000e+00,  0.0000000e+00],\n",
              "        ...,\n",
              "        [ 0.0000000e+00,  0.0000000e+00, -3.6271842e+00, ...,\n",
              "          0.0000000e+00,  0.0000000e+00,  0.0000000e+00],\n",
              "        [ 0.0000000e+00,  0.0000000e+00, -4.1770611e+00, ...,\n",
              "          0.0000000e+00,  0.0000000e+00,  0.0000000e+00],\n",
              "        [ 0.0000000e+00,  0.0000000e+00, -4.5830603e+00, ...,\n",
              "          0.0000000e+00,  0.0000000e+00,  0.0000000e+00]],\n",
              "\n",
              "       [[-7.1866028e+02, -7.1866028e+02, -7.1819684e+02, ...,\n",
              "          0.0000000e+00,  0.0000000e+00,  0.0000000e+00],\n",
              "        [ 0.0000000e+00,  0.0000000e+00, -5.0725824e-01, ...,\n",
              "          0.0000000e+00,  0.0000000e+00,  0.0000000e+00],\n",
              "        [ 0.0000000e+00,  0.0000000e+00,  1.4128900e-01, ...,\n",
              "          0.0000000e+00,  0.0000000e+00,  0.0000000e+00],\n",
              "        ...,\n",
              "        [ 0.0000000e+00,  0.0000000e+00, -1.8810867e-01, ...,\n",
              "          0.0000000e+00,  0.0000000e+00,  0.0000000e+00],\n",
              "        [ 0.0000000e+00,  0.0000000e+00, -2.0269682e-01, ...,\n",
              "          0.0000000e+00,  0.0000000e+00,  0.0000000e+00],\n",
              "        [ 0.0000000e+00,  0.0000000e+00,  5.1636982e-01, ...,\n",
              "          0.0000000e+00,  0.0000000e+00,  0.0000000e+00]],\n",
              "\n",
              "       [[-7.8646588e+02, -7.8646588e+02, -7.6459521e+02, ...,\n",
              "          0.0000000e+00,  0.0000000e+00,  0.0000000e+00],\n",
              "        [ 0.0000000e+00,  0.0000000e+00,  2.9659863e+01, ...,\n",
              "          0.0000000e+00,  0.0000000e+00,  0.0000000e+00],\n",
              "        [ 0.0000000e+00,  0.0000000e+00,  2.6015961e+01, ...,\n",
              "          0.0000000e+00,  0.0000000e+00,  0.0000000e+00],\n",
              "        ...,\n",
              "        [ 0.0000000e+00,  0.0000000e+00, -3.0320160e+00, ...,\n",
              "          0.0000000e+00,  0.0000000e+00,  0.0000000e+00],\n",
              "        [ 0.0000000e+00,  0.0000000e+00, -7.0816469e-01, ...,\n",
              "          0.0000000e+00,  0.0000000e+00,  0.0000000e+00],\n",
              "        [ 0.0000000e+00,  0.0000000e+00,  1.5108124e+00, ...,\n",
              "          0.0000000e+00,  0.0000000e+00,  0.0000000e+00]]], dtype=float32)"
            ]
          },
          "metadata": {},
          "execution_count": 107
        }
      ],
      "source": [
        "X_test"
      ]
    },
    {
      "cell_type": "code",
      "execution_count": null,
      "metadata": {
        "colab": {
          "base_uri": "https://localhost:8080/"
        },
        "id": "NYUDdF3RSb8d",
        "outputId": "c432afed-4679-48ca-aeba-93feef4d65c6"
      },
      "outputs": [
        {
          "output_type": "execute_result",
          "data": {
            "text/plain": [
              "array([0., 0., 0., 1., 0., 0., 0., 1., 1., 1., 1., 1., 1., 0., 1., 0., 1.,\n",
              "       0., 0., 1., 1., 1., 0., 1., 0., 1., 1., 0., 0., 1., 1., 0., 0., 1.,\n",
              "       1., 0., 1., 1., 0., 1., 1., 1., 1., 0., 1., 0., 0., 0., 1., 1., 0.,\n",
              "       1., 0., 0., 0., 0., 1., 0., 1., 0., 0., 0., 1., 0., 0., 0., 0., 1.,\n",
              "       1., 0., 1., 1., 1., 1., 1., 0., 0., 0., 0., 0., 0., 1., 0., 0., 0.,\n",
              "       1., 0., 1., 0.])"
            ]
          },
          "metadata": {},
          "execution_count": 108
        }
      ],
      "source": [
        "y_train"
      ]
    },
    {
      "cell_type": "code",
      "execution_count": null,
      "metadata": {
        "colab": {
          "base_uri": "https://localhost:8080/"
        },
        "id": "TI9DV-LkSb_0",
        "outputId": "04728751-a7be-40e4-a621-7eb5d0c83211"
      },
      "outputs": [
        {
          "output_type": "execute_result",
          "data": {
            "text/plain": [
              "array([1., 0., 1., 1., 1., 0., 1., 1., 1., 1., 0., 1., 0., 0., 1., 1., 1.,\n",
              "       0., 0., 0., 1., 1., 1.])"
            ]
          },
          "metadata": {},
          "execution_count": 109
        }
      ],
      "source": [
        "y_test"
      ]
    },
    {
      "cell_type": "markdown",
      "metadata": {
        "id": "kn1T8WmODXMq"
      },
      "source": [
        "# Flattening the feature matrices for Training and Testing"
      ]
    },
    {
      "cell_type": "code",
      "execution_count": null,
      "metadata": {
        "id": "1h__brEwKdr7"
      },
      "outputs": [],
      "source": [
        "X_train_flattened = X_train.reshape(X_train.shape[0], -1)\n",
        "X_test_flattened = X_test.reshape(X_test.shape[0], -1)"
      ]
    },
    {
      "cell_type": "code",
      "execution_count": null,
      "metadata": {
        "colab": {
          "base_uri": "https://localhost:8080/"
        },
        "id": "kr7_8oQXKdEa",
        "outputId": "849a0a2c-d7eb-435b-a7b4-fdd50a7aac60"
      },
      "outputs": [
        {
          "output_type": "execute_result",
          "data": {
            "text/plain": [
              "array([[-7.5920825e+02, -7.5920825e+02, -7.3175348e+02, ...,\n",
              "        -1.4089543e-01, -2.2364082e+00,  2.6775689e+00],\n",
              "       [-7.5819141e+02, -7.5743683e+02, -7.2244397e+02, ...,\n",
              "         0.0000000e+00,  0.0000000e+00,  0.0000000e+00],\n",
              "       [-7.7743604e+02, -7.2491754e+02, -4.1876910e+02, ...,\n",
              "         0.0000000e+00,  0.0000000e+00,  0.0000000e+00],\n",
              "       ...,\n",
              "       [-6.8163776e+02, -6.8163776e+02, -6.5168573e+02, ...,\n",
              "         0.0000000e+00,  0.0000000e+00,  0.0000000e+00],\n",
              "       [-8.2607648e+02, -8.2607648e+02, -8.2020441e+02, ...,\n",
              "        -1.4748606e+01, -2.8034136e+01, -3.1840534e+01],\n",
              "       [-7.7244501e+02, -7.7040118e+02, -7.3336847e+02, ...,\n",
              "         0.0000000e+00,  0.0000000e+00,  0.0000000e+00]], dtype=float32)"
            ]
          },
          "metadata": {},
          "execution_count": 111
        }
      ],
      "source": [
        "X_train_flattened"
      ]
    },
    {
      "cell_type": "code",
      "execution_count": null,
      "metadata": {
        "colab": {
          "base_uri": "https://localhost:8080/"
        },
        "id": "5qdM_Yj8UJ2z",
        "outputId": "8e541c1a-3b1a-45a3-d414-e829f66569bf"
      },
      "outputs": [
        {
          "output_type": "execute_result",
          "data": {
            "text/plain": [
              "array([[-825.45874 , -825.45874 , -772.9377  , ...,    0.      ,\n",
              "           0.      ,    0.      ],\n",
              "       [-787.2568  , -787.2568  , -750.5304  , ...,   14.294781,\n",
              "           8.739563,   -4.234119],\n",
              "       [-814.35333 , -814.35333 , -814.35333 , ...,    0.      ,\n",
              "           0.      ,    0.      ],\n",
              "       ...,\n",
              "       [-713.2643  , -713.2643  , -705.2398  , ...,    0.      ,\n",
              "           0.      ,    0.      ],\n",
              "       [-718.6603  , -718.6603  , -718.19684 , ...,    0.      ,\n",
              "           0.      ,    0.      ],\n",
              "       [-786.4659  , -786.4659  , -764.5952  , ...,    0.      ,\n",
              "           0.      ,    0.      ]], dtype=float32)"
            ]
          },
          "metadata": {},
          "execution_count": 112
        }
      ],
      "source": [
        "X_test_flattened"
      ]
    },
    {
      "cell_type": "markdown",
      "metadata": {
        "id": "WJ3bHft2D3Q9"
      },
      "source": [
        "# Standard Scalling for Feature Data"
      ]
    },
    {
      "cell_type": "code",
      "execution_count": null,
      "metadata": {
        "id": "NcFoyDUNNPD3"
      },
      "outputs": [],
      "source": [
        "scaler = StandardScaler()"
      ]
    },
    {
      "cell_type": "markdown",
      "metadata": {
        "id": "kS-jtxZYJz3R"
      },
      "source": [
        "# Feature Data Scalling applied to Training and Testing"
      ]
    },
    {
      "cell_type": "code",
      "execution_count": null,
      "metadata": {
        "id": "C4R6dTasKdfm"
      },
      "outputs": [],
      "source": [
        "X_train_scaled = scaler.fit_transform(X_train_flattened)\n",
        "X_test_scaled = scaler.transform(X_test_flattened)"
      ]
    },
    {
      "cell_type": "code",
      "execution_count": null,
      "metadata": {
        "colab": {
          "base_uri": "https://localhost:8080/"
        },
        "id": "pfXGin31KdjJ",
        "outputId": "c60af180-76a4-4120-be30-2605849f1d4b"
      },
      "outputs": [
        {
          "output_type": "execute_result",
          "data": {
            "text/plain": [
              "array([[ 0.2824782 ,  0.11761558, -0.16239679, ...,  0.01752173,\n",
              "        -0.3971009 ,  0.47935757],\n",
              "       [ 0.30045745,  0.1441466 , -0.08854562, ...,  0.04321731,\n",
              "        -0.00872476,  0.02634686],\n",
              "       [-0.03981405,  0.6311956 ,  2.3204691 , ...,  0.04321731,\n",
              "        -0.00872476,  0.02634686],\n",
              "       ...,\n",
              "       [ 1.6540314 ,  1.2794071 ,  0.4727707 , ...,  0.04321731,\n",
              "        -0.00872476,  0.02634686],\n",
              "       [-0.899844  , -0.8838855 , -0.864067  , ..., -2.646536  ,\n",
              "        -4.877151  , -5.360668  ],\n",
              "       [ 0.04843419, -0.05002358, -0.1752083 , ...,  0.04321731,\n",
              "        -0.00872476,  0.02634686]], dtype=float32)"
            ]
          },
          "metadata": {},
          "execution_count": 115
        }
      ],
      "source": [
        "X_train_scaled"
      ]
    },
    {
      "cell_type": "code",
      "execution_count": null,
      "metadata": {
        "colab": {
          "base_uri": "https://localhost:8080/"
        },
        "id": "aUehJzeRKdnX",
        "outputId": "8653be06-0edd-473b-a99d-7ef7ef930283"
      },
      "outputs": [
        {
          "output_type": "execute_result",
          "data": {
            "text/plain": [
              "array([[-0.88892156, -0.8746335 , -0.48910597, ...,  0.04321731,\n",
              "        -0.00872476,  0.02634686],\n",
              "       [-0.21345824, -0.30247372, -0.31135175, ...,  2.6502054 ,\n",
              "         1.5089935 , -0.6900124 ],\n",
              "       [-0.69256264, -0.7083052 , -0.81765115, ...,  0.04321731,\n",
              "        -0.00872476,  0.02634686],\n",
              "       ...,\n",
              "       [ 1.0948308 ,  0.8057292 ,  0.04793286, ...,  0.04321731,\n",
              "        -0.00872476,  0.02634686],\n",
              "       [ 0.9994222 ,  0.7249121 , -0.05485365, ...,  0.04321731,\n",
              "        -0.00872476,  0.02634686],\n",
              "       [-0.19947416, -0.29062834, -0.42292622, ...,  0.04321731,\n",
              "        -0.00872476,  0.02634686]], dtype=float32)"
            ]
          },
          "metadata": {},
          "execution_count": 116
        }
      ],
      "source": [
        "X_test_scaled"
      ]
    },
    {
      "cell_type": "markdown",
      "metadata": {
        "id": "5XY210ZFNpY2"
      },
      "source": [
        "# (SVM) Classifier Training and Evaluation"
      ]
    },
    {
      "cell_type": "markdown",
      "metadata": {
        "id": "oZElzrbVN72B"
      },
      "source": [
        "The training and testing accuracy of the SVM model is computed and displayed for the given C value, allowing for model performance assessment.\""
      ]
    },
    {
      "cell_type": "code",
      "source": [
        "param_grid = {'C': [0.001], 'kernel': ['linear', 'rbf']}\n",
        "grid_search = GridSearchCV(SVC(), param_grid, cv=5)\n",
        "grid_search.fit(X_train_scaled, y_train)\n",
        "best_model = grid_search.best_estimator_"
      ],
      "metadata": {
        "id": "LlOYD5f3580H"
      },
      "execution_count": null,
      "outputs": []
    },
    {
      "cell_type": "code",
      "source": [
        "y_train_pred = best_model.predict(X_train_scaled)\n",
        "training_accuracy = accuracy_score(y_train, y_train_pred)\n",
        "y_pred = best_model.predict(X_test_scaled)\n",
        "testing_accuracy = accuracy_score(y_test, y_pred)\n",
        "print(f\"Best model: {best_model}\")\n",
        "print(f\"Training Accuracy: {training_accuracy * 100:.2f}%\")\n",
        "print(f\"Testing Accuracy: {testing_accuracy * 100:.2f}%\")"
      ],
      "metadata": {
        "colab": {
          "base_uri": "https://localhost:8080/"
        },
        "id": "KR6Kci4S59Zh",
        "outputId": "42477f75-aa86-49c0-e04f-e155cabdf7d1"
      },
      "execution_count": null,
      "outputs": [
        {
          "output_type": "stream",
          "name": "stdout",
          "text": [
            "Best model: SVC(C=0.001, kernel='linear')\n",
            "Training Accuracy: 98.88%\n",
            "Testing Accuracy: 95.65%\n"
          ]
        }
      ]
    },
    {
      "cell_type": "markdown",
      "metadata": {
        "id": "SPG1ysr6WTmi"
      },
      "source": [
        "# Save the model"
      ]
    },
    {
      "cell_type": "code",
      "execution_count": null,
      "metadata": {
        "id": "T-OX13PkXnwb"
      },
      "outputs": [],
      "source": [
        "with open('best_svm_model.pkl', 'wb') as model_file:\n",
        "    pickle.dump(best_model, model_file)\n",
        "with open('scaler.pkl', 'wb') as scaler_file:\n",
        "    pickle.dump(scaler, scaler_file)"
      ]
    },
    {
      "cell_type": "markdown",
      "metadata": {
        "id": "9ipL5isDWPkG"
      },
      "source": [
        "# Load the model"
      ]
    },
    {
      "cell_type": "code",
      "execution_count": null,
      "metadata": {
        "id": "vZUkmCVsWn6p"
      },
      "outputs": [],
      "source": [
        "loaded_model = joblib.load('best_svm_model.pkl')\n",
        "loaded_scaler = joblib.load('scaler.pkl')"
      ]
    },
    {
      "cell_type": "markdown",
      "metadata": {
        "id": "Shms7ZbgbKG7"
      },
      "source": [
        "# Feature Exreaction\n",
        "The feature extraction function ensures that the input audio is in the correct format and extracts relevant features for classification tasks, while the loaded model and scaler are ready for further audio analysis and classification."
      ]
    },
    {
      "cell_type": "code",
      "source": [
        "def extract_features(audio, n_mfcc=20, n_fft=1024, hop_length=512, max_length=200):\n",
        "    # Ensure that audio data is of type numpy.ndarray and floating-point\n",
        "    if not isinstance(audio, np.ndarray):\n",
        "        raise ValueError(\"Audio data must be of type numpy.ndarray\")\n",
        "\n",
        "    if audio.dtype != np.float32:\n",
        "        audio = audio.astype(np.float32) / 32768.0\n",
        "\n",
        "    sr = 22050\n",
        "\n",
        "    # Apply noise reduction using the noisereduce library\n",
        "    reduced_audio = nr.reduce_noise(y=audio, sr=sr)\n",
        "\n",
        "    mfccs = librosa.feature.mfcc(y=reduced_audio, sr=sr, n_mfcc=n_mfcc, n_fft=n_fft, hop_length=hop_length)\n",
        "\n",
        "    # Pad or truncate features to have the same length (max_length)\n",
        "    if mfccs.shape[1] < max_length:\n",
        "        pad_width = max_length - mfccs.shape[1]\n",
        "        mfccs = np.pad(mfccs, pad_width=((0, 0), (0, pad_width)), mode='constant')\n",
        "    else:\n",
        "        mfccs = mfccs[:, :max_length]\n",
        "\n",
        "    return mfccs\n",
        "\n"
      ],
      "metadata": {
        "id": "E0fEARed8G6l"
      },
      "execution_count": null,
      "outputs": []
    },
    {
      "cell_type": "markdown",
      "metadata": {
        "id": "4PaQbDmvbnd2"
      },
      "source": [
        "# Audio Pitch Shifting Function\n",
        "This function takes an audio signal and a parameter representing the desired pitch shift in semitones. It then adjusts the audio's frame rate to achieve the specified pitch shift, effectively altering the pitch of the audio."
      ]
    },
    {
      "cell_type": "code",
      "execution_count": null,
      "metadata": {
        "id": "ZC0eSb-aK0It"
      },
      "outputs": [],
      "source": [
        "def pitch_shift(audio, semitones):\n",
        "    return audio.set_frame_rate(int(audio.frame_rate * (2 ** (semitones / 12.0))))"
      ]
    },
    {
      "cell_type": "markdown",
      "metadata": {
        "id": "s2p1OImscewZ"
      },
      "source": [
        "# Audio Augmentation Function\n",
        "This function takes an audio signal as inp and performs audio augmentation by applying a random pitch shift within a specified range."
      ]
    },
    {
      "cell_type": "code",
      "execution_count": null,
      "metadata": {
        "id": "VMo-QBX6K0ME"
      },
      "outputs": [],
      "source": [
        "def augment_audio(audio, max_pitch_shift=2):\n",
        "    pitch_shift_amount = np.random.randint(1, max_pitch_shift + 1)\n",
        "    augmented_audio = pitch_shift(audio, pitch_shift_amount)\n",
        "    return augmented_audio"
      ]
    },
    {
      "cell_type": "markdown",
      "metadata": {
        "id": "Q-B733HHgLdL"
      },
      "source": [
        "# Audio Classification Function\n"
      ]
    },
    {
      "cell_type": "code",
      "execution_count": null,
      "metadata": {
        "id": "GU5eABcxK0PW"
      },
      "outputs": [],
      "source": [
        "def classify_audio(audio_path):\n",
        "    audio = AudioSegment.from_file(audio_path)\n",
        "    audio_data = np.array(audio.get_array_of_samples())\n",
        "    augmented_audio = augment_audio(audio)\n",
        "    mfccs = extract_features(audio_data)\n",
        "    mfccs_flattened = mfccs.reshape(1, -1)\n",
        "    scaled_features = loaded_scaler.transform(mfccs_flattened)\n",
        "    prediction = loaded_model.predict(scaled_features)\n",
        "    return prediction[0]"
      ]
    },
    {
      "cell_type": "markdown",
      "metadata": {
        "id": "hVOYsf1UgmDg"
      },
      "source": [
        "# Main Audio Classification Loop\n",
        " It continuously prompts the user to enter the path to an audio file they want to classify. The function then uses the classify_audio function to classify the provided audio, determining whether it is normal or abnormal"
      ]
    },
    {
      "cell_type": "code",
      "execution_count": null,
      "metadata": {
        "id": "Z7K-IkMzK0R3"
      },
      "outputs": [],
      "source": [
        "def main():\n",
        "    while True:\n",
        "        audio_path = input(\"Enter the path to the audio file you want to classify: \")\n",
        "        if not os.path.isfile(audio_path):\n",
        "            print(\"File not found. Please provide a valid path.\")\n",
        "            continue\n",
        "\n",
        "        prediction = classify_audio(audio_path)\n",
        "\n",
        "        if prediction == 0:\n",
        "            print(\"Normal voice detected.\")\n",
        "        else:\n",
        "            print(\"Abnormal voice detected.\")\n",
        "\n",
        "        continue_classification = input(\"Do you want to classify another audio file? (yes/no): \")\n",
        "        if continue_classification.lower() != 'yes':\n",
        "            break"
      ]
    },
    {
      "cell_type": "code",
      "source": [
        "if __name__ == \"__main__\":\n",
        "    main()"
      ],
      "metadata": {
        "id": "KTpOXfB6dqMl",
        "colab": {
          "base_uri": "https://localhost:8080/"
        },
        "outputId": "c37c9078-354d-4dd1-c3e7-6a5f5e1c58dd"
      },
      "execution_count": null,
      "outputs": [
        {
          "name": "stdout",
          "output_type": "stream",
          "text": [
            "Enter the path to the audio file you want to classify: /content/gdrive/MyDrive/Audio_model/VPI Audio Clips/Abnormal Samples/Facebook  (take a tire).mp3\n",
            "Normal voice detected.\n",
            "Do you want to classify another audio file? (yes/no): yes\n",
            "Enter the path to the audio file you want to classify: /content/gdrive/MyDrive/Audio_model/VPI Audio Clips/Abnormal Samples/Facebook (susie sees the horse).mp3\n",
            "Abnormal voice detected.\n",
            "Do you want to classify another audio file? (yes/no): yes\n",
            "Enter the path to the audio file you want to classify: /content/gdrive/MyDrive/Audio_model/VPI Audio Clips/Abnormal Samples/Video 1_2 (shoe).mp3\n",
            "Normal voice detected.\n",
            "Do you want to classify another audio file? (yes/no): yes\n",
            "Enter the path to the audio file you want to classify: /content/gdrive/MyDrive/Audio_model/VPI Audio Clips/Abnormal Samples/Facebook (take a turtle).mp3\n",
            "Abnormal voice detected.\n",
            "Do you want to classify another audio file? (yes/no): yes\n",
            "Enter the path to the audio file you want to classify: /content/gdrive/MyDrive/Audio_model/VPI Audio Clips/Abnormal Samples/Abnormal.wav\n",
            "Normal voice detected.\n",
            "Do you want to classify another audio file? (yes/no): yes\n",
            "Enter the path to the audio file you want to classify: /content/gdrive/MyDrive/Audio_model/VPI Audio Clips/Normal Samples/Normal.wav\n",
            "Abnormal voice detected.\n",
            "Do you want to classify another audio file? (yes/no): yes\n",
            "Enter the path to the audio file you want to classify: /content/gdrive/MyDrive/Audio_model/VPI Audio Clips/Normal Samples/Video 1_14 (fill up the gas).mp3\n",
            "Normal voice detected.\n",
            "Do you want to classify another audio file? (yes/no): yes\n",
            "Enter the path to the audio file you want to classify: /content/gdrive/MyDrive/Audio_model/VPI Audio Clips/Normal Samples/cdc 7 (yellow).mp3\n",
            "Normal voice detected.\n",
            "Do you want to classify another audio file? (yes/no): yes\n",
            "Enter the path to the audio file you want to classify: /content/gdrive/MyDrive/Audio_model/VPI Audio Clips/Abnormal Samples/Abnormal.wav\n",
            "Normal voice detected.\n",
            "Do you want to classify another audio file? (yes/no): yes\n",
            "Enter the path to the audio file you want to classify: /content/gdrive/MyDrive/Audio_model/VPI Audio Clips/Abnormal Samples/Facebook (go get the car).mp3\n",
            "Abnormal voice detected.\n",
            "Do you want to classify another audio file? (yes/no): yes\n",
            "Enter the path to the audio file you want to classify: /content/gdrive/MyDrive/Audio_model/VPI Audio Clips/Abnormal Samples/Abnormal.wav\n",
            "Normal voice detected.\n",
            "Do you want to classify another audio file? (yes/no): no\n"
          ]
        }
      ]
    },
    {
      "cell_type": "markdown",
      "source": [
        "# Audio Classification Code\n"
      ],
      "metadata": {
        "id": "cO227nWw_zJ-"
      }
    },
    {
      "cell_type": "code",
      "source": [
        "# Define the function that will be called when the button is clicked\n",
        "def on_button_click(b):\n",
        "    uploaded = files.upload()\n",
        "    file_name = list(uploaded.keys())[0]\n",
        "    tmp_path = f'/tmp/{file_name}'\n",
        "    os.rename(file_name, tmp_path)\n",
        "    global uploaded_file_path\n",
        "    uploaded_file_path = tmp_path\n",
        "    print(f\"File uploaded to {uploaded_file_path}\")\n",
        "\n",
        "    # Classify the uploaded audio\n",
        "    prediction = classify_audio(uploaded_file_path)\n",
        "\n",
        "    if prediction == 0:\n",
        "        print(\"Normal voice detected.\")\n",
        "    else:\n",
        "        print(\"Abnormal voice detected\")\n",
        "\n",
        "# Create a button widget\n",
        "button = widgets.Button(description=\"Upload and Classify File\")\n",
        "\n",
        "# Attach the function to the button's click event\n",
        "button.on_click(on_button_click)\n",
        "\n",
        "# Display the button\n",
        "display(button)\n"
      ],
      "metadata": {
        "colab": {
          "base_uri": "https://localhost:8080/",
          "height": 140,
          "referenced_widgets": [
            "4042c5df16394aad98c3b9aac44357b3",
            "247ca7b5853a484d99ae25157aed99df",
            "bdca40ab0f424f82a8f118ade9c132ca"
          ]
        },
        "id": "A2GR_q5DnS4P",
        "outputId": "3ca56bfc-ce40-4d3b-de72-267ae6bbc678"
      },
      "execution_count": null,
      "outputs": [
        {
          "output_type": "display_data",
          "data": {
            "text/plain": [
              "Button(description='Upload and Classify File', style=ButtonStyle())"
            ],
            "application/vnd.jupyter.widget-view+json": {
              "version_major": 2,
              "version_minor": 0,
              "model_id": "4042c5df16394aad98c3b9aac44357b3"
            }
          },
          "metadata": {}
        },
        {
          "output_type": "display_data",
          "data": {
            "text/plain": [
              "<IPython.core.display.HTML object>"
            ],
            "text/html": [
              "\n",
              "     <input type=\"file\" id=\"files-7cecfb49-7454-4686-b875-babe7a3934c0\" name=\"files[]\" multiple disabled\n",
              "        style=\"border:none\" />\n",
              "     <output id=\"result-7cecfb49-7454-4686-b875-babe7a3934c0\">\n",
              "      Upload widget is only available when the cell has been executed in the\n",
              "      current browser session. Please rerun this cell to enable.\n",
              "      </output>\n",
              "      <script>// Copyright 2017 Google LLC\n",
              "//\n",
              "// Licensed under the Apache License, Version 2.0 (the \"License\");\n",
              "// you may not use this file except in compliance with the License.\n",
              "// You may obtain a copy of the License at\n",
              "//\n",
              "//      http://www.apache.org/licenses/LICENSE-2.0\n",
              "//\n",
              "// Unless required by applicable law or agreed to in writing, software\n",
              "// distributed under the License is distributed on an \"AS IS\" BASIS,\n",
              "// WITHOUT WARRANTIES OR CONDITIONS OF ANY KIND, either express or implied.\n",
              "// See the License for the specific language governing permissions and\n",
              "// limitations under the License.\n",
              "\n",
              "/**\n",
              " * @fileoverview Helpers for google.colab Python module.\n",
              " */\n",
              "(function(scope) {\n",
              "function span(text, styleAttributes = {}) {\n",
              "  const element = document.createElement('span');\n",
              "  element.textContent = text;\n",
              "  for (const key of Object.keys(styleAttributes)) {\n",
              "    element.style[key] = styleAttributes[key];\n",
              "  }\n",
              "  return element;\n",
              "}\n",
              "\n",
              "// Max number of bytes which will be uploaded at a time.\n",
              "const MAX_PAYLOAD_SIZE = 100 * 1024;\n",
              "\n",
              "function _uploadFiles(inputId, outputId) {\n",
              "  const steps = uploadFilesStep(inputId, outputId);\n",
              "  const outputElement = document.getElementById(outputId);\n",
              "  // Cache steps on the outputElement to make it available for the next call\n",
              "  // to uploadFilesContinue from Python.\n",
              "  outputElement.steps = steps;\n",
              "\n",
              "  return _uploadFilesContinue(outputId);\n",
              "}\n",
              "\n",
              "// This is roughly an async generator (not supported in the browser yet),\n",
              "// where there are multiple asynchronous steps and the Python side is going\n",
              "// to poll for completion of each step.\n",
              "// This uses a Promise to block the python side on completion of each step,\n",
              "// then passes the result of the previous step as the input to the next step.\n",
              "function _uploadFilesContinue(outputId) {\n",
              "  const outputElement = document.getElementById(outputId);\n",
              "  const steps = outputElement.steps;\n",
              "\n",
              "  const next = steps.next(outputElement.lastPromiseValue);\n",
              "  return Promise.resolve(next.value.promise).then((value) => {\n",
              "    // Cache the last promise value to make it available to the next\n",
              "    // step of the generator.\n",
              "    outputElement.lastPromiseValue = value;\n",
              "    return next.value.response;\n",
              "  });\n",
              "}\n",
              "\n",
              "/**\n",
              " * Generator function which is called between each async step of the upload\n",
              " * process.\n",
              " * @param {string} inputId Element ID of the input file picker element.\n",
              " * @param {string} outputId Element ID of the output display.\n",
              " * @return {!Iterable<!Object>} Iterable of next steps.\n",
              " */\n",
              "function* uploadFilesStep(inputId, outputId) {\n",
              "  const inputElement = document.getElementById(inputId);\n",
              "  inputElement.disabled = false;\n",
              "\n",
              "  const outputElement = document.getElementById(outputId);\n",
              "  outputElement.innerHTML = '';\n",
              "\n",
              "  const pickedPromise = new Promise((resolve) => {\n",
              "    inputElement.addEventListener('change', (e) => {\n",
              "      resolve(e.target.files);\n",
              "    });\n",
              "  });\n",
              "\n",
              "  const cancel = document.createElement('button');\n",
              "  inputElement.parentElement.appendChild(cancel);\n",
              "  cancel.textContent = 'Cancel upload';\n",
              "  const cancelPromise = new Promise((resolve) => {\n",
              "    cancel.onclick = () => {\n",
              "      resolve(null);\n",
              "    };\n",
              "  });\n",
              "\n",
              "  // Wait for the user to pick the files.\n",
              "  const files = yield {\n",
              "    promise: Promise.race([pickedPromise, cancelPromise]),\n",
              "    response: {\n",
              "      action: 'starting',\n",
              "    }\n",
              "  };\n",
              "\n",
              "  cancel.remove();\n",
              "\n",
              "  // Disable the input element since further picks are not allowed.\n",
              "  inputElement.disabled = true;\n",
              "\n",
              "  if (!files) {\n",
              "    return {\n",
              "      response: {\n",
              "        action: 'complete',\n",
              "      }\n",
              "    };\n",
              "  }\n",
              "\n",
              "  for (const file of files) {\n",
              "    const li = document.createElement('li');\n",
              "    li.append(span(file.name, {fontWeight: 'bold'}));\n",
              "    li.append(span(\n",
              "        `(${file.type || 'n/a'}) - ${file.size} bytes, ` +\n",
              "        `last modified: ${\n",
              "            file.lastModifiedDate ? file.lastModifiedDate.toLocaleDateString() :\n",
              "                                    'n/a'} - `));\n",
              "    const percent = span('0% done');\n",
              "    li.appendChild(percent);\n",
              "\n",
              "    outputElement.appendChild(li);\n",
              "\n",
              "    const fileDataPromise = new Promise((resolve) => {\n",
              "      const reader = new FileReader();\n",
              "      reader.onload = (e) => {\n",
              "        resolve(e.target.result);\n",
              "      };\n",
              "      reader.readAsArrayBuffer(file);\n",
              "    });\n",
              "    // Wait for the data to be ready.\n",
              "    let fileData = yield {\n",
              "      promise: fileDataPromise,\n",
              "      response: {\n",
              "        action: 'continue',\n",
              "      }\n",
              "    };\n",
              "\n",
              "    // Use a chunked sending to avoid message size limits. See b/62115660.\n",
              "    let position = 0;\n",
              "    do {\n",
              "      const length = Math.min(fileData.byteLength - position, MAX_PAYLOAD_SIZE);\n",
              "      const chunk = new Uint8Array(fileData, position, length);\n",
              "      position += length;\n",
              "\n",
              "      const base64 = btoa(String.fromCharCode.apply(null, chunk));\n",
              "      yield {\n",
              "        response: {\n",
              "          action: 'append',\n",
              "          file: file.name,\n",
              "          data: base64,\n",
              "        },\n",
              "      };\n",
              "\n",
              "      let percentDone = fileData.byteLength === 0 ?\n",
              "          100 :\n",
              "          Math.round((position / fileData.byteLength) * 100);\n",
              "      percent.textContent = `${percentDone}% done`;\n",
              "\n",
              "    } while (position < fileData.byteLength);\n",
              "  }\n",
              "\n",
              "  // All done.\n",
              "  yield {\n",
              "    response: {\n",
              "      action: 'complete',\n",
              "    }\n",
              "  };\n",
              "}\n",
              "\n",
              "scope.google = scope.google || {};\n",
              "scope.google.colab = scope.google.colab || {};\n",
              "scope.google.colab._files = {\n",
              "  _uploadFiles,\n",
              "  _uploadFilesContinue,\n",
              "};\n",
              "})(self);\n",
              "</script> "
            ]
          },
          "metadata": {}
        },
        {
          "output_type": "stream",
          "name": "stdout",
          "text": [
            "Saving Normal.wav to Normal.wav\n",
            "File uploaded to /tmp/Normal.wav\n",
            "Abnormal voice detected\n"
          ]
        }
      ]
    },
    {
      "cell_type": "markdown",
      "metadata": {
        "id": "Wr4Thcj7ahEz"
      },
      "source": [
        "# Save Model to Drive"
      ]
    },
    {
      "cell_type": "code",
      "execution_count": null,
      "metadata": {
        "colab": {
          "base_uri": "https://localhost:8080/"
        },
        "id": "8M9YmsaoYy-J",
        "outputId": "fba14636-d16c-4176-d9e3-395f3c62181f"
      },
      "outputs": [
        {
          "output_type": "stream",
          "name": "stdout",
          "text": [
            "Model and scaler saved to Google Drive.\n"
          ]
        }
      ],
      "source": [
        "\n",
        "# Define the paths for saving the model and scaler to Google Drive\n",
        "model_path = '/content/gdrive/MyDrive/Audio_model/svm_model.pkl'\n",
        "scaler_path = '/content/gdrive/MyDrive/Audio_model/scaler.pkl'\n",
        "\n",
        "# Save the model and scaler to Google Drive\n",
        "joblib.dump(best_model, model_path)\n",
        "joblib.dump(scaler, scaler_path)\n",
        "\n",
        "# Confirm that the files have been saved\n",
        "print(\"Model and scaler saved to Google Drive.\")\n"
      ]
    },
    {
      "cell_type": "code",
      "source": [],
      "metadata": {
        "id": "qwnMqbaa76gI"
      },
      "execution_count": null,
      "outputs": []
    }
  ],
  "metadata": {
    "colab": {
      "provenance": [],
      "gpuType": "T4",
      "include_colab_link": true
    },
    "kernelspec": {
      "display_name": "Python 3",
      "name": "python3"
    },
    "language_info": {
      "name": "python"
    },
    "widgets": {
      "application/vnd.jupyter.widget-state+json": {
        "4042c5df16394aad98c3b9aac44357b3": {
          "model_module": "@jupyter-widgets/controls",
          "model_name": "ButtonModel",
          "model_module_version": "1.5.0",
          "state": {
            "_dom_classes": [],
            "_model_module": "@jupyter-widgets/controls",
            "_model_module_version": "1.5.0",
            "_model_name": "ButtonModel",
            "_view_count": null,
            "_view_module": "@jupyter-widgets/controls",
            "_view_module_version": "1.5.0",
            "_view_name": "ButtonView",
            "button_style": "",
            "description": "Upload and Classify File",
            "disabled": false,
            "icon": "",
            "layout": "IPY_MODEL_247ca7b5853a484d99ae25157aed99df",
            "style": "IPY_MODEL_bdca40ab0f424f82a8f118ade9c132ca",
            "tooltip": ""
          }
        },
        "247ca7b5853a484d99ae25157aed99df": {
          "model_module": "@jupyter-widgets/base",
          "model_name": "LayoutModel",
          "model_module_version": "1.2.0",
          "state": {
            "_model_module": "@jupyter-widgets/base",
            "_model_module_version": "1.2.0",
            "_model_name": "LayoutModel",
            "_view_count": null,
            "_view_module": "@jupyter-widgets/base",
            "_view_module_version": "1.2.0",
            "_view_name": "LayoutView",
            "align_content": null,
            "align_items": null,
            "align_self": null,
            "border": null,
            "bottom": null,
            "display": null,
            "flex": null,
            "flex_flow": null,
            "grid_area": null,
            "grid_auto_columns": null,
            "grid_auto_flow": null,
            "grid_auto_rows": null,
            "grid_column": null,
            "grid_gap": null,
            "grid_row": null,
            "grid_template_areas": null,
            "grid_template_columns": null,
            "grid_template_rows": null,
            "height": null,
            "justify_content": null,
            "justify_items": null,
            "left": null,
            "margin": null,
            "max_height": null,
            "max_width": null,
            "min_height": null,
            "min_width": null,
            "object_fit": null,
            "object_position": null,
            "order": null,
            "overflow": null,
            "overflow_x": null,
            "overflow_y": null,
            "padding": null,
            "right": null,
            "top": null,
            "visibility": null,
            "width": null
          }
        },
        "bdca40ab0f424f82a8f118ade9c132ca": {
          "model_module": "@jupyter-widgets/controls",
          "model_name": "ButtonStyleModel",
          "model_module_version": "1.5.0",
          "state": {
            "_model_module": "@jupyter-widgets/controls",
            "_model_module_version": "1.5.0",
            "_model_name": "ButtonStyleModel",
            "_view_count": null,
            "_view_module": "@jupyter-widgets/base",
            "_view_module_version": "1.2.0",
            "_view_name": "StyleView",
            "button_color": null,
            "font_weight": ""
          }
        }
      }
    },
    "accelerator": "GPU"
  },
  "nbformat": 4,
  "nbformat_minor": 0
}